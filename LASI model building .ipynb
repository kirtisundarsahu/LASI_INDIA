{
 "cells": [
  {
   "cell_type": "code",
   "execution_count": 1,
   "metadata": {},
   "outputs": [
    {
     "data": {
      "text/plain": [
       "'C:\\\\Users\\\\Kirti'"
      ]
     },
     "execution_count": 1,
     "metadata": {},
     "output_type": "execute_result"
    }
   ],
   "source": [
    "#Check and understand working directory\n",
    "import os\n",
    "import pandas as pd\n",
    "import numpy as np\n",
    "os.getcwd()"
   ]
  },
  {
   "cell_type": "code",
   "execution_count": 2,
   "metadata": {},
   "outputs": [],
   "source": [
    "df = pd.read_stata('3_LASI_W1_Individual_data.dta', convert_dates=True, convert_categoricals=True, index_col='prim_key', convert_missing=False, preserve_dtypes=True, columns=None, order_categoricals=True, chunksize=None, iterator=False)"
   ]
  },
  {
   "cell_type": "code",
   "execution_count": 25,
   "metadata": {},
   "outputs": [],
   "source": [
    "df1 = pd.read_stata('C:\\Kirti_research\\LASI\\H_LASI_a2.dta', convert_dates=True, convert_categoricals=True, index_col='prim_key', convert_missing=False, preserve_dtypes=True, columns=None, order_categoricals=True, chunksize=None, iterator=False)"
   ]
  },
  {
   "cell_type": "code",
   "execution_count": 61,
   "metadata": {},
   "outputs": [
    {
     "data": {
      "text/html": [
       "<div>\n",
       "<style scoped>\n",
       "    .dataframe tbody tr th:only-of-type {\n",
       "        vertical-align: middle;\n",
       "    }\n",
       "\n",
       "    .dataframe tbody tr th {\n",
       "        vertical-align: top;\n",
       "    }\n",
       "\n",
       "    .dataframe thead th {\n",
       "        text-align: right;\n",
       "    }\n",
       "</style>\n",
       "<table border=\"1\" class=\"dataframe\">\n",
       "  <thead>\n",
       "    <tr style=\"text-align: right;\">\n",
       "      <th></th>\n",
       "      <th>hhid</th>\n",
       "      <th>pnc</th>\n",
       "      <th>pn</th>\n",
       "      <th>h1coupid</th>\n",
       "      <th>s1prim_key</th>\n",
       "      <th>raspid1</th>\n",
       "      <th>r1mltsps</th>\n",
       "      <th>inw1</th>\n",
       "      <th>inw1pm</th>\n",
       "      <th>r1iwstat</th>\n",
       "      <th>...</th>\n",
       "      <th>r1lsatscm</th>\n",
       "      <th>s1lsatscm</th>\n",
       "      <th>r1lsatsc3</th>\n",
       "      <th>s1lsatsc3</th>\n",
       "      <th>r1lsatsc3m</th>\n",
       "      <th>s1lsatsc3m</th>\n",
       "      <th>r1satlife</th>\n",
       "      <th>s1satlife</th>\n",
       "      <th>r1satlifez</th>\n",
       "      <th>s1satlifez</th>\n",
       "    </tr>\n",
       "    <tr>\n",
       "      <th>prim_key</th>\n",
       "      <th></th>\n",
       "      <th></th>\n",
       "      <th></th>\n",
       "      <th></th>\n",
       "      <th></th>\n",
       "      <th></th>\n",
       "      <th></th>\n",
       "      <th></th>\n",
       "      <th></th>\n",
       "      <th></th>\n",
       "      <th></th>\n",
       "      <th></th>\n",
       "      <th></th>\n",
       "      <th></th>\n",
       "      <th></th>\n",
       "      <th></th>\n",
       "      <th></th>\n",
       "      <th></th>\n",
       "      <th></th>\n",
       "      <th></th>\n",
       "      <th></th>\n",
       "    </tr>\n",
       "  </thead>\n",
       "  <tbody>\n",
       "    <tr>\n",
       "      <th>101000100040101</th>\n",
       "      <td>101000100040100</td>\n",
       "      <td>01</td>\n",
       "      <td>1</td>\n",
       "      <td>1.0</td>\n",
       "      <td>101000100040102</td>\n",
       "      <td>101000100040102</td>\n",
       "      <td>1.0</td>\n",
       "      <td>1.yes</td>\n",
       "      <td>1.yes</td>\n",
       "      <td>1.resp, alive</td>\n",
       "      <td>...</td>\n",
       "      <td>0.0</td>\n",
       "      <td>0.0</td>\n",
       "      <td>2.0</td>\n",
       "      <td>1.8</td>\n",
       "      <td>0.0</td>\n",
       "      <td>0.0</td>\n",
       "      <td>1.not at all satisfied</td>\n",
       "      <td>3.somewhat satisfied</td>\n",
       "      <td>-2.833213</td>\n",
       "      <td>-0.592182</td>\n",
       "    </tr>\n",
       "    <tr>\n",
       "      <th>101000100040102</th>\n",
       "      <td>101000100040100</td>\n",
       "      <td>02</td>\n",
       "      <td>2</td>\n",
       "      <td>1.0</td>\n",
       "      <td>101000100040101</td>\n",
       "      <td>101000100040101</td>\n",
       "      <td>1.0</td>\n",
       "      <td>1.yes</td>\n",
       "      <td>1.yes</td>\n",
       "      <td>1.resp, alive</td>\n",
       "      <td>...</td>\n",
       "      <td>0.0</td>\n",
       "      <td>0.0</td>\n",
       "      <td>1.8</td>\n",
       "      <td>2.0</td>\n",
       "      <td>0.0</td>\n",
       "      <td>0.0</td>\n",
       "      <td>3.somewhat satisfied</td>\n",
       "      <td>1.not at all satisfied</td>\n",
       "      <td>-0.592182</td>\n",
       "      <td>-2.833213</td>\n",
       "    </tr>\n",
       "    <tr>\n",
       "      <th>101000100130102</th>\n",
       "      <td>101000100130100</td>\n",
       "      <td>02</td>\n",
       "      <td>2</td>\n",
       "      <td>2.0</td>\n",
       "      <td>101000100130101</td>\n",
       "      <td>101000100130101</td>\n",
       "      <td>1.0</td>\n",
       "      <td>1.yes</td>\n",
       "      <td>1.yes</td>\n",
       "      <td>1.resp, alive</td>\n",
       "      <td>...</td>\n",
       "      <td>0.0</td>\n",
       "      <td>0.0</td>\n",
       "      <td>3.0</td>\n",
       "      <td>2.6</td>\n",
       "      <td>0.0</td>\n",
       "      <td>0.0</td>\n",
       "      <td>4.very satisfied</td>\n",
       "      <td>4.very satisfied</td>\n",
       "      <td>0.528333</td>\n",
       "      <td>0.528333</td>\n",
       "    </tr>\n",
       "    <tr>\n",
       "      <th>101000100130101</th>\n",
       "      <td>101000100130100</td>\n",
       "      <td>01</td>\n",
       "      <td>1</td>\n",
       "      <td>2.0</td>\n",
       "      <td>101000100130102</td>\n",
       "      <td>101000100130102</td>\n",
       "      <td>1.0</td>\n",
       "      <td>1.yes</td>\n",
       "      <td>1.yes</td>\n",
       "      <td>1.resp, alive</td>\n",
       "      <td>...</td>\n",
       "      <td>0.0</td>\n",
       "      <td>0.0</td>\n",
       "      <td>2.6</td>\n",
       "      <td>3.0</td>\n",
       "      <td>0.0</td>\n",
       "      <td>0.0</td>\n",
       "      <td>4.very satisfied</td>\n",
       "      <td>4.very satisfied</td>\n",
       "      <td>0.528333</td>\n",
       "      <td>0.528333</td>\n",
       "    </tr>\n",
       "    <tr>\n",
       "      <th>101000100130109</th>\n",
       "      <td>101000100130100</td>\n",
       "      <td>09</td>\n",
       "      <td>9</td>\n",
       "      <td>3.0</td>\n",
       "      <td>0</td>\n",
       "      <td></td>\n",
       "      <td>0.0</td>\n",
       "      <td>1.yes</td>\n",
       "      <td>1.yes</td>\n",
       "      <td>1.resp, alive</td>\n",
       "      <td>...</td>\n",
       "      <td>0.0</td>\n",
       "      <td>NaN</td>\n",
       "      <td>3.0</td>\n",
       "      <td>NaN</td>\n",
       "      <td>0.0</td>\n",
       "      <td>NaN</td>\n",
       "      <td>4.very satisfied</td>\n",
       "      <td>NaN</td>\n",
       "      <td>0.528333</td>\n",
       "      <td>NaN</td>\n",
       "    </tr>\n",
       "  </tbody>\n",
       "</table>\n",
       "<p>5 rows × 1266 columns</p>\n",
       "</div>"
      ],
      "text/plain": [
       "                            hhid pnc  pn  h1coupid       s1prim_key  \\\n",
       "prim_key                                                              \n",
       "101000100040101  101000100040100  01   1       1.0  101000100040102   \n",
       "101000100040102  101000100040100  02   2       1.0  101000100040101   \n",
       "101000100130102  101000100130100  02   2       2.0  101000100130101   \n",
       "101000100130101  101000100130100  01   1       2.0  101000100130102   \n",
       "101000100130109  101000100130100  09   9       3.0                0   \n",
       "\n",
       "                         raspid1  r1mltsps   inw1 inw1pm       r1iwstat  ...  \\\n",
       "prim_key                                                                 ...   \n",
       "101000100040101  101000100040102       1.0  1.yes  1.yes  1.resp, alive  ...   \n",
       "101000100040102  101000100040101       1.0  1.yes  1.yes  1.resp, alive  ...   \n",
       "101000100130102  101000100130101       1.0  1.yes  1.yes  1.resp, alive  ...   \n",
       "101000100130101  101000100130102       1.0  1.yes  1.yes  1.resp, alive  ...   \n",
       "101000100130109                        0.0  1.yes  1.yes  1.resp, alive  ...   \n",
       "\n",
       "                r1lsatscm  s1lsatscm  r1lsatsc3  s1lsatsc3  r1lsatsc3m  \\\n",
       "prim_key                                                                 \n",
       "101000100040101       0.0        0.0        2.0        1.8         0.0   \n",
       "101000100040102       0.0        0.0        1.8        2.0         0.0   \n",
       "101000100130102       0.0        0.0        3.0        2.6         0.0   \n",
       "101000100130101       0.0        0.0        2.6        3.0         0.0   \n",
       "101000100130109       0.0        NaN        3.0        NaN         0.0   \n",
       "\n",
       "                s1lsatsc3m               r1satlife               s1satlife  \\\n",
       "prim_key                                                                     \n",
       "101000100040101        0.0  1.not at all satisfied    3.somewhat satisfied   \n",
       "101000100040102        0.0    3.somewhat satisfied  1.not at all satisfied   \n",
       "101000100130102        0.0        4.very satisfied        4.very satisfied   \n",
       "101000100130101        0.0        4.very satisfied        4.very satisfied   \n",
       "101000100130109        NaN        4.very satisfied                     NaN   \n",
       "\n",
       "                r1satlifez s1satlifez  \n",
       "prim_key                               \n",
       "101000100040101  -2.833213  -0.592182  \n",
       "101000100040102  -0.592182  -2.833213  \n",
       "101000100130102   0.528333   0.528333  \n",
       "101000100130101   0.528333   0.528333  \n",
       "101000100130109   0.528333        NaN  \n",
       "\n",
       "[5 rows x 1266 columns]"
      ]
     },
     "execution_count": 61,
     "metadata": {},
     "output_type": "execute_result"
    }
   ],
   "source": [
    "df1.head()"
   ]
  },
  {
   "cell_type": "code",
   "execution_count": 69,
   "metadata": {},
   "outputs": [
    {
     "data": {
      "text/plain": [
       "44.09419724173823"
      ]
     },
     "execution_count": 69,
     "metadata": {},
     "output_type": "execute_result"
    }
   ],
   "source": [
    "df1['s1lstmnspd_l'].mean()"
   ]
  },
  {
   "cell_type": "code",
   "execution_count": 70,
   "metadata": {},
   "outputs": [
    {
     "data": {
      "text/plain": [
       "5.hardly ever or never          60884\n",
       "1.everyday                       7426\n",
       "2.more than once a week          1274\n",
       "4.one to three times a month     1031\n",
       "3.once a week                     975\n",
       "Name: r1yogax, dtype: int64"
      ]
     },
     "execution_count": 70,
     "metadata": {},
     "output_type": "execute_result"
    }
   ],
   "source": [
    "df1['r1yogax'].value_counts()"
   ]
  },
  {
   "cell_type": "code",
   "execution_count": 42,
   "metadata": {},
   "outputs": [],
   "source": [
    "uniquedtype=pd.DataFrame(pd.unique(df1.dtypes))"
   ]
  },
  {
   "cell_type": "code",
   "execution_count": 57,
   "metadata": {},
   "outputs": [
    {
     "name": "stdout",
     "output_type": "stream",
     "text": [
      "            0\n",
      "0      object\n",
      "1        int8\n",
      "2     float32\n",
      "3     float64\n",
      "4    category\n",
      "5    category\n",
      "6    category\n",
      "7    category\n",
      "8    category\n",
      "9       int16\n",
      "10   category\n",
      "11   category\n",
      "12   category\n",
      "13   category\n",
      "14   category\n",
      "15   category\n",
      "16   category\n",
      "17   category\n",
      "18   category\n",
      "19   category\n",
      "20   category\n",
      "21   category\n",
      "22   category\n",
      "23   category\n",
      "24   category\n",
      "25   category\n",
      "26   category\n",
      "27   category\n",
      "28   category\n",
      "29   category\n",
      "30   category\n",
      "31   category\n",
      "32   category\n",
      "33   category\n",
      "34   category\n",
      "35   category\n",
      "36   category\n",
      "37   category\n",
      "38   category\n",
      "39   category\n",
      "40   category\n",
      "41   category\n",
      "42   category\n",
      "43   category\n",
      "44   category\n",
      "45   category\n",
      "46   category\n",
      "47   category\n",
      "48   category\n",
      "49   category\n",
      "50   category\n",
      "51   category\n",
      "52   category\n",
      "53   category\n",
      "54   category\n",
      "55   category\n",
      "56   category\n",
      "57   category\n",
      "58   category\n",
      "59   category\n",
      "60   category\n",
      "61   category\n",
      "62   category\n",
      "63   category\n",
      "64   category\n",
      "65   category\n",
      "66   category\n",
      "67   category\n",
      "68   category\n",
      "69   category\n",
      "70   category\n",
      "71   category\n",
      "72   category\n",
      "73   category\n",
      "74   category\n",
      "75   category\n",
      "76   category\n",
      "77   category\n",
      "78   category\n",
      "79   category\n",
      "80   category\n",
      "81   category\n",
      "82   category\n",
      "83   category\n",
      "84   category\n",
      "85   category\n",
      "86   category\n",
      "87   category\n",
      "88   category\n",
      "89   category\n",
      "90   category\n",
      "91   category\n",
      "92   category\n",
      "93   category\n",
      "94   category\n",
      "95   category\n",
      "96   category\n",
      "97   category\n",
      "98   category\n",
      "99   category\n",
      "100  category\n",
      "101  category\n",
      "102  category\n",
      "103  category\n",
      "104  category\n",
      "105  category\n",
      "106  category\n"
     ]
    }
   ],
   "source": [
    "#uniquedtype.head()\n",
    "with pd.option_context('display.max_rows', None, 'display.max_columns', None):  # more options can be specified also\n",
    "    print(uniquedtype)"
   ]
  },
  {
   "cell_type": "code",
   "execution_count": 26,
   "metadata": {},
   "outputs": [],
   "source": [
    "x=df1.dtypes.value_counts()"
   ]
  },
  {
   "cell_type": "code",
   "execution_count": 27,
   "metadata": {},
   "outputs": [
    {
     "data": {
      "text/plain": [
       "category    374\n",
       "float64     242\n",
       "float32     129\n",
       "category    104\n",
       "category     32\n",
       "dtype: int64"
      ]
     },
     "execution_count": 27,
     "metadata": {},
     "output_type": "execute_result"
    }
   ],
   "source": [
    "x.head()"
   ]
  },
  {
   "cell_type": "code",
   "execution_count": null,
   "metadata": {},
   "outputs": [],
   "source": [
    "#import data \n",
    "#df = pd.read_stata('3_LASI_W1_Individual_data.dta') \n",
    "df1 = pd.read_csv('Individual_data.csv',encoding='latin1') "
   ]
  },
  {
   "cell_type": "code",
   "execution_count": null,
   "metadata": {},
   "outputs": [],
   "source": [
    "##remove columns with length more than 5\n",
    "listcol=list(df1.columns)\n",
    "new = []\n",
    "for item in listcol:            \n",
    "        if len(item) == 5:\n",
    "            new.append(item)\n",
    "            \n",
    "data_vars=df2.columns.values.tolist()\n",
    "to_keep=[i for i in data_vars if i in new]\n",
    "data_final=df2[to_keep]\n",
    "data_final.columns.values"
   ]
  },
  {
   "cell_type": "code",
   "execution_count": null,
   "metadata": {},
   "outputs": [],
   "source": [
    "#count missing value in each column \n",
    "data_final.isnull().sum()"
   ]
  },
  {
   "cell_type": "code",
   "execution_count": null,
   "metadata": {},
   "outputs": [],
   "source": [
    "data_final['dm003'].mean()"
   ]
  },
  {
   "cell_type": "code",
   "execution_count": null,
   "metadata": {},
   "outputs": [],
   "source": [
    "df2.head()"
   ]
  },
  {
   "cell_type": "code",
   "execution_count": null,
   "metadata": {},
   "outputs": [],
   "source": [
    "#view data\n",
    "df1.head()\n",
    "#list column names\n",
    "print(list(df1.columns))"
   ]
  },
  {
   "cell_type": "code",
   "execution_count": null,
   "metadata": {},
   "outputs": [],
   "source": []
  },
  {
   "cell_type": "code",
   "execution_count": null,
   "metadata": {},
   "outputs": [],
   "source": [
    "df2=df2.drop(columns=['Unnamed: 0'])"
   ]
  },
  {
   "cell_type": "code",
   "execution_count": null,
   "metadata": {},
   "outputs": [],
   "source": [
    "df2.head()"
   ]
  },
  {
   "cell_type": "code",
   "execution_count": null,
   "metadata": {},
   "outputs": [],
   "source": [
    "#df1.head() \n",
    "#df2=(df1.columns.len() == 5)\n",
    "for c in df2.columns[0:]:\n",
    "  if df2.columns.len() == 5:\n",
    "    try:\n",
    "        df2[c] = df2[c]\n",
    "    except:\n",
    "        print('Column',' ',c,' cannot be added')"
   ]
  },
  {
   "cell_type": "code",
   "execution_count": null,
   "metadata": {},
   "outputs": [],
   "source": [
    "#Subset data by column name\n",
    "df2=df1.filter(regex='dm')\n",
    "#select required columns by number \n",
    "df1.iloc[:, [1, 2, 5]]\n",
    "#select required columns by name\n",
    "df[['width’, 'length’, 'species']]\n",
    "#Drop columns from DataFrame\n",
    "df.drop(columns=['Length’, 'Height'])\n",
    "#select specific rows\n",
    "rslt_df = df1.loc[df1['mh021'] <= 1]\n",
    "#view data\n",
    "df2.head()\n",
    "#view variable types\n",
    "df2.dtypes\n",
    "#convert one typeof variable to others\n",
    "df2[\"dm010\"] = df2[\"dm010\"].astype(\"category\")\n",
    "#convert typeof variable to others within a selected dataframe\n",
    "for c in df2.columns:\n",
    "  if df2[c].dtype == 'int64':\n",
    "    try:\n",
    "        df2[c] = df2[c].astype('category')\n",
    "    except:\n",
    "        print('Column',' ',c,' cannot be converted to category.')\n",
    "df2.dtypes\n",
    "#change one value in a row to another value \n",
    "df1['mh021']=np.where(df1['mh021'] =='basic.9y', 'Basic', df1['education'])"
   ]
  },
  {
   "cell_type": "code",
   "execution_count": null,
   "metadata": {},
   "outputs": [],
   "source": [
    "#Missing data handling\n",
    "#Ignore\n",
    "df1=df1.dropna()\n",
    "#fill with certain number\n",
    "df1=df1.fillna(0)\n",
    "#impute with certain number\n",
    "from sklearn.preprocessing import Imputer\n",
    "imp = Imputer(missing_values=0, strategy= \"mean\", axis=0)"
   ]
  },
  {
   "cell_type": "code",
   "execution_count": null,
   "metadata": {},
   "outputs": [],
   "source": [
    "#create new column\n",
    "df[\"new\"]=df[\"var1\"]+df[\"var2\"]"
   ]
  },
  {
   "cell_type": "code",
   "execution_count": null,
   "metadata": {},
   "outputs": [],
   "source": [
    "#EDA\n",
    "#UNIVARIATE DATA ANALYSIS\n",
    "#CATEGORICAL DATA\n",
    "print(df.columns.values)\n",
    "df1['dm010'].unique()\n",
    "df1['dm010'].value_counts()\n",
    "sns.countplot(x='dm010', data=df1, palette='hls')"
   ]
  },
  {
   "cell_type": "code",
   "execution_count": null,
   "metadata": {},
   "outputs": [],
   "source": [
    "#UNIVARIATE DATA ANALYSIS\n",
    "#Continous data\n",
    "df1[\"dm007\"].mean()\n",
    "df1[\"dm007\"].describe()"
   ]
  },
  {
   "cell_type": "code",
   "execution_count": null,
   "metadata": {},
   "outputs": [],
   "source": [
    "#UNIVARIATE DATA ANALYSIS\n",
    "#Continous data visualization\n",
    "df1.dm007.hist()\n",
    "plt.title('Histogram of Age')\n",
    "plt.xlabel('Age')\n",
    "plt.ylabel('Frequency')\n",
    "plt.savefig('hist_age')"
   ]
  },
  {
   "cell_type": "code",
   "execution_count": null,
   "metadata": {},
   "outputs": [],
   "source": [
    "df1[\"dm007\"].groupby(df1[\"dm005\"]).mean()"
   ]
  },
  {
   "cell_type": "code",
   "execution_count": null,
   "metadata": {},
   "outputs": [],
   "source": [
    "#bivariate analysis- cat/cat\n",
    "pd.crosstab(df1.dm002,df1.dm003, normalize='index')\\\n",
    "    .round(4)*100"
   ]
  },
  {
   "cell_type": "code",
   "execution_count": null,
   "metadata": {},
   "outputs": [],
   "source": [
    "#bivariate analysis- cat/cat-visualization\n",
    "%matplotlib inline\n",
    "pd.crosstab(df1.dm002,df1.dm003).plot(kind='bar')\n",
    "plt.title('Purchase Frequency for Job Title')\n",
    "plt.xlabel('Job')\n",
    "plt.ylabel('Frequency of Purchase')\n",
    "plt.savefig('purchase_fre_job')"
   ]
  },
  {
   "cell_type": "code",
   "execution_count": null,
   "metadata": {},
   "outputs": [],
   "source": [
    "#bivariate analysis- cat/cat-visualization-stacked\n",
    "table=pd.crosstab(df1.dm002,df1.dm003)\n",
    "table.div(table.sum(1).astype(float), axis=0).plot(kind='bar', stacked=True)\n",
    "plt.title('Stacked Bar Chart of Marital Status vs Purchase')\n",
    "plt.xlabel('Marital Status')\n",
    "plt.ylabel('Proportion of Customers')\n",
    "plt.savefig('mariral_vs_pur_stack')"
   ]
  },
  {
   "cell_type": "code",
   "execution_count": null,
   "metadata": {},
   "outputs": [],
   "source": [
    "#bivariate analysis- cont/cont\n",
    "corrMatrix = df1.corr()\n",
    "print (corrMatrix)"
   ]
  },
  {
   "cell_type": "code",
   "execution_count": null,
   "metadata": {},
   "outputs": [],
   "source": [
    "#data visualization-scatter plot- cont/cont \n",
    "df1.plot.scatter(x='dm005',y='dm007')"
   ]
  },
  {
   "cell_type": "code",
   "execution_count": null,
   "metadata": {},
   "outputs": [],
   "source": [
    "#multivariate analysis\n",
    "#linear regression-cont=cont+cont+cont\n",
    "import numpy as np\n",
    "from sklearn.linear_model import LinearRegression\n",
    "model = LinearRegression()\n",
    "model.fit(df1['dm005'], df1['dm005'])\n",
    "model = LinearRegression().fit(x, y)"
   ]
  },
  {
   "cell_type": "code",
   "execution_count": null,
   "metadata": {},
   "outputs": [],
   "source": [
    "#logistic regression pre processing\n",
    "cat_vars=[\"dm001\",\"dm002\",\"dm005\",\"dm006\",\"dm007\",\"dm008\",\"dm009\"]\n",
    "for var in cat_vars:\n",
    "    cat_list='var'+'_'+var\n",
    "    cat_list = pd.get_dummies(df2[var], prefix=var)\n",
    "    data1=df2.join(cat_list)\n",
    "    df2=data1\n",
    "#cat_vars=[\"dm001\",\"dm002\"]\n",
    "data_vars=df2.columns.values.tolist()\n",
    "to_keep=[i for i in data_vars if i not in cat_vars]\n",
    "data_final=df2[to_keep]\n",
    "data_final.columns.values"
   ]
  },
  {
   "cell_type": "code",
   "execution_count": null,
   "metadata": {},
   "outputs": [],
   "source": [
    "#logistic regression option-1\n",
    "import pandas as pd\n",
    "import numpy as np\n",
    "from sklearn import preprocessing\n",
    "import matplotlib.pyplot as plt \n",
    "plt.rc(\"font\", size=14)\n",
    "from sklearn.linear_model import LogisticRegression\n",
    "from sklearn.model_selection import train_test_split\n",
    "import seaborn as sns\n",
    "sns.set(style=\"white\")\n",
    "sns.set(style=\"whitegrid\", color_codes=True)"
   ]
  },
  {
   "cell_type": "code",
   "execution_count": null,
   "metadata": {},
   "outputs": [],
   "source": [
    "#logistic regression option-2\n",
    "import statsmodels.api as sm\n",
    "logit_model=sm.Logit(df1.dm003,df1.mh201)\n",
    "result=logit_model.fit()\n",
    "print(result.summary2())"
   ]
  },
  {
   "cell_type": "code",
   "execution_count": null,
   "metadata": {},
   "outputs": [],
   "source": [
    "#principal component analysis \n",
    "from sklearn.decomposition import PCA\n",
    "# Make an instance of the Model\n",
    "pca = PCA(.95)\n",
    "pca.fit(df1)"
   ]
  },
  {
   "cell_type": "code",
   "execution_count": null,
   "metadata": {},
   "outputs": [],
   "source": [
    "sudo apt -get install libopenblas-dev libomp-dev\n",
    "git clone https://github.com/deepklarity/jupyter-text2code.git\n",
    "cd jupyter-text2code\n",
    "pip install .\n",
    "jupyter nbextension enable jupyter-text2code/main"
   ]
  },
  {
   "cell_type": "code",
   "execution_count": null,
   "metadata": {},
   "outputs": [],
   "source": [
    "import sys\n",
    "!conda install --yes --prefix {sys.prefix} jupyter-text2code"
   ]
  },
  {
   "cell_type": "code",
   "execution_count": null,
   "metadata": {},
   "outputs": [],
   "source": [
    "#prince package is for dimensionality reduction- including pca/fa/ca/mca\n",
    "#!{sys.executable} -m pip install prince\n",
    "import prince"
   ]
  },
  {
   "cell_type": "code",
   "execution_count": null,
   "metadata": {},
   "outputs": [],
   "source": [
    "df1=df.iloc[1:10]\n",
    "df1=df1.iloc[:,1:10]"
   ]
  },
  {
   "cell_type": "code",
   "execution_count": null,
   "metadata": {},
   "outputs": [],
   "source": [
    "#df1=df[['dm003','dm005','residence','mpce_quintile']]\n",
    "df1=df[['dm005','indiaindividualweight']]"
   ]
  },
  {
   "cell_type": "code",
   "execution_count": null,
   "metadata": {},
   "outputs": [],
   "source": [
    "df1['dm003'] = df1['dm003'].astype('numeric')"
   ]
  },
  {
   "cell_type": "code",
   "execution_count": null,
   "metadata": {},
   "outputs": [],
   "source": [
    "#from sklearn.decomposition import PCA\n",
    "# Make an instance of the Model\n",
    "from prince import PCA\n",
    "pca = PCA(n_components=2) #by number of components you want-ex- 2 components \n",
    "#pca_result = pca.fit_transform(df1)\n",
    "pca.fit(df1)"
   ]
  },
  {
   "cell_type": "code",
   "execution_count": null,
   "metadata": {},
   "outputs": [],
   "source": [
    "ax = pca.plot_row_coordinates(df1, \n",
    "     color_labels=df1['dm005'])"
   ]
  },
  {
   "cell_type": "code",
   "execution_count": null,
   "metadata": {},
   "outputs": [],
   "source": [
    "#pca = pca.transform(df1)\n",
    "#pca.head()\n",
    "pca.explained_inertia_"
   ]
  },
  {
   "cell_type": "code",
   "execution_count": null,
   "metadata": {},
   "outputs": [],
   "source": [
    "df1.head()"
   ]
  },
  {
   "cell_type": "code",
   "execution_count": null,
   "metadata": {},
   "outputs": [],
   "source": [
    "from prince import MCA\n",
    "mca = MCA(n_components = 2, n_iter = 3, random_state = 101)\n",
    "mca.fit(df1)\n",
    "tips_mca = mca.transform(df1)\n",
    "tips_mca.head()"
   ]
  },
  {
   "cell_type": "code",
   "execution_count": null,
   "metadata": {},
   "outputs": [],
   "source": [
    "mca.plot_coordinates(X = df1)"
   ]
  },
  {
   "cell_type": "code",
   "execution_count": null,
   "metadata": {},
   "outputs": [],
   "source": [
    "df1['residence'] = df1['residence'].astype('object')\n",
    "df1['dm003'] = df1['dm003'].astype('object')\n",
    "#df1['dm003'] = df1['dm003'].astype('object')"
   ]
  },
  {
   "cell_type": "code",
   "execution_count": null,
   "metadata": {},
   "outputs": [],
   "source": [
    "#from prince import FAMD\n",
    "#famd = FAMD(n_components =2, n_iter = 3, random_state = 101)\n",
    "#I leave out tips as I want the sex feature as the label\n",
    "#famd.fit(df1)\n",
    "#famd.transform(df1)\n",
    "\n",
    "\n",
    "\n",
    "from prince import FAMD\n",
    "famd = FAMD(n_components =2, n_iter = 3, random_state = 101)\n",
    "#I leave out tips as I want the sex feature as the label\n",
    "famd.fit(df1.drop('residence', axis =1))\n",
    "famd.transform(df1)"
   ]
  },
  {
   "cell_type": "code",
   "execution_count": null,
   "metadata": {},
   "outputs": [],
   "source": [
    "ax = famd.plot_row_coordinates(df1,color_labels=['residence {}'.format(t) for t in df1['residence']] )"
   ]
  },
  {
   "cell_type": "code",
   "execution_count": null,
   "metadata": {},
   "outputs": [],
   "source": [
    "from prince import MCA\n",
    "mca = MCA(n_components =2, n_iter = 3, random_state = 101)\n",
    "#I leave out tips as I want the sex feature as the label\n",
    "mca.fit(df1)\n",
    "mca.transform(df1)"
   ]
  },
  {
   "cell_type": "code",
   "execution_count": null,
   "metadata": {},
   "outputs": [],
   "source": [
    "encoder = OneHotEncoder(sparse=False)\n",
    "# transform data\n",
    "onehot = encoder.fit_transform(df)\n",
    "print(onehot)"
   ]
  },
  {
   "cell_type": "code",
   "execution_count": null,
   "metadata": {},
   "outputs": [],
   "source": [
    "np.isnan(yy).any()\n",
    "\n",
    "np.isinf(xx).any()\n",
    "np.isinf(yy).any()"
   ]
  },
  {
   "cell_type": "code",
   "execution_count": null,
   "metadata": {},
   "outputs": [],
   "source": [
    "from numpy import asarray\n",
    "from sklearn.preprocessing import OneHotEncoder\n",
    "# define data\n",
    "data = asarray([['red'], ['green'], ['blue']])\n",
    "print(data)\n",
    "\n",
    "# define one hot encoding\n",
    "encoder = OneHotEncoder(sparse=False)\n",
    "# transform data\n",
    "onehot = encoder.fit_transform(data)\n",
    "print(onehot)\n",
    "\n",
    "# define one hot encoding\n",
    "encoder = OneHotEncoder(drop='first', sparse=False)\n",
    "# transform data\n",
    "onehotdummy = encoder.fit_transform(data)\n",
    "print(onehotdummy)"
   ]
  },
  {
   "cell_type": "code",
   "execution_count": 28,
   "metadata": {},
   "outputs": [],
   "source": [
    "numerical_ix = df1.select_dtypes(include=['int64', 'float64']).columns\n",
    "categorical_ix = df1.select_dtypes(include=['object', 'bool','category']).columns"
   ]
  },
  {
   "cell_type": "code",
   "execution_count": 29,
   "metadata": {},
   "outputs": [
    {
     "data": {
      "text/plain": [
       "Index(['r1mltsps', 's1iwy', 's1iwm', 's1byear', 'rabmonth', 's1bmonth',\n",
       "       's1agey', 'raedyrs', 's1edyrs', 'r1mrct',\n",
       "       ...\n",
       "       's1cidianhm', 'r1cidisymp', 's1cidisymp', 'r1cidisympm', 's1cidisympm',\n",
       "       'r1lsatscm', 's1lsatscm', 'r1lsatsc3m', 's1lsatsc3m', 'r1satlifez'],\n",
       "      dtype='object', length=242)"
      ]
     },
     "execution_count": 29,
     "metadata": {},
     "output_type": "execute_result"
    }
   ],
   "source": [
    "numerical_ix"
   ]
  },
  {
   "cell_type": "code",
   "execution_count": 30,
   "metadata": {},
   "outputs": [
    {
     "data": {
      "text/plain": [
       "Index(['hhid', 'pnc', 's1prim_key', 'raspid1', 'inw1', 'inw1pm', 'r1iwstat',\n",
       "       's1iwstat', 'h1cpl', 'r1hhr',\n",
       "       ...\n",
       "       'r1lexcl', 's1lexcl', 'r1lstsf', 's1lstsf', 'r1limptt', 's1limptt',\n",
       "       'r1lchnot', 's1lchnot', 'r1satlife', 's1satlife'],\n",
       "      dtype='object', length=872)"
      ]
     },
     "execution_count": 30,
     "metadata": {},
     "output_type": "execute_result"
    }
   ],
   "source": [
    "categorical_ix"
   ]
  },
  {
   "cell_type": "code",
   "execution_count": 58,
   "metadata": {},
   "outputs": [
    {
     "data": {
      "text/plain": [
       "array(['pn', 'h1coupid', 'r1mltsps', 'r1wtresp', 's1wtresp', 'hh1wthh',\n",
       "       'hh1hhresp', 'r1iwy', 's1iwy', 'r1iwm', 's1iwm', 'rabyear',\n",
       "       's1byear', 'rabmonth', 's1bmonth', 'r1agey', 's1agey', 'raedyrs',\n",
       "       's1edyrs', 'r1mrct', 's1mrct', 'r1mcurln', 's1mcurln', 'r1adlwa',\n",
       "       's1adlwa', 'r1adlwam', 's1adlwam', 'r1adla', 's1adla', 'r1adlam',\n",
       "       's1adlam', 'r1adlfive', 's1adlfive', 'r1adlfivem', 's1adlfivem',\n",
       "       'r1adltot_l', 's1adltot_l', 'r1adltotm_l', 's1adltotm_l',\n",
       "       'r1iadla', 's1iadla', 'r1iadlam', 's1iadlam', 'r1iadlfour',\n",
       "       's1iadlfour', 'r1iadlfourm', 's1iadlfourm', 'r1iadlza', 's1iadlza',\n",
       "       'r1iadlzam', 's1iadlzam', 'r1iadltot_l', 's1iadltot_l',\n",
       "       'r1iadltotm_l', 's1iadltotm_l', 'r1mobilc', 's1mobilc',\n",
       "       'r1mobilcm', 's1mobilcm', 'r1mobilsev_l', 's1mobilsev_l',\n",
       "       'r1mobilsevm_l', 's1mobilsevm_l', 'r1lgmusa', 's1lgmusa',\n",
       "       'r1lgmusam', 's1lgmusam', 'r1grossa', 's1grossa', 'r1grossam',\n",
       "       's1grossam', 'r1finea', 's1finea', 'r1fineam', 's1fineam',\n",
       "       'r1lowermob_l', 's1lowermob_l', 'r1lowermobm_l', 's1lowermobm_l',\n",
       "       'r1uppermob', 's1uppermob', 'r1uppermobm', 's1uppermobm',\n",
       "       'radiaghibp', 's1diaghibp', 'radiagdiab', 's1diagdiab',\n",
       "       'radiagcancr', 's1diagcancr', 'radiaglung_l', 's1diaglung_l',\n",
       "       'rafrhrtatt', 's1frhrtatt', 'radiagheart', 's1diagheart',\n",
       "       'radiagstrok', 's1diagstrok', 'radiagarthr', 's1diagarthr',\n",
       "       'radiagosteo', 's1diagosteo', 'radiagpsych', 's1diagpsych',\n",
       "       'radiagalzdem', 's1diagalzdem', 'radiaghchol', 's1diaghchol',\n",
       "       'r1fallnum', 's1fallnum', 'r1lstmnspd_l', 's1lstmnspd_l', 'r1cage',\n",
       "       's1cage', 'r1cagem', 's1cagem', 'r1smokef', 's1smokef',\n",
       "       'r1strtsmok', 's1strtsmok', 'r1strtotbcc', 's1strtotbcc',\n",
       "       'r1quitsmok', 's1quitsmok', 'r1quitotbcc', 's1quitotbcc',\n",
       "       'r1hsptim1y', 's1hsptim1y', 'r1hspnit1y', 's1hspnit1y',\n",
       "       'r1mdvtim1y', 's1mdvtim1y', 'r1prmm1y', 's1prmm1y', 'r1oophos1y',\n",
       "       's1oophos1y', 'r1oopdoc1y', 's1oopdoc1y', 'r1oopsupl1y',\n",
       "       's1oopsupl1y', 'r1oopmd1y_l', 's1oopmd1y_l', 'r1orient',\n",
       "       's1orient', 'r1orientp', 's1orientp', 'r1imrc', 's1imrc', 'r1dlrc',\n",
       "       's1dlrc', 'r1tr20', 's1tr20', 'r1verbf', 's1verbf', 'r1verbfi',\n",
       "       's1verbfi', 'r1object', 's1object', 'r1ser7', 's1ser7', 'r1compu',\n",
       "       's1compu', 'r1jormscore', 's1jormscore', 'c2017cpindex',\n",
       "       'c2018cpindex', 'hh1aland', 'hh1aagri', 'hh1adurbl', 'hh1afixc',\n",
       "       'hh1ahous', 'hh1ahsdr', 'hh1ahsdp', 'hh1arles', 'hh1aosdr',\n",
       "       'hh1absns', 'hh1atotf', 'hh1adebt', 'hh1alend', 'hh1atotb',\n",
       "       'r1iearn', 's1iearn', 'hh1iearn', 'hh1isemp', 'hh1irent',\n",
       "       'hh1itrest', 'hh1icap', 'r1ipena', 's1ipena', 'hh1ipena',\n",
       "       'r1ipubpen', 's1ipubpen', 'hh1ipubpen', 'r1ipeno', 's1ipeno',\n",
       "       'hh1ipeno', 'r1ipen', 's1ipen', 'hh1ipen', 'hh1igxfr', 'hh1ipxfr',\n",
       "       'hh1iothr', 'hh1itot', 'hh1cfood1w', 'hh1cnf1m', 'hh1cnf1y',\n",
       "       'hh1cohc1m', 'hh1cihc1y', 'hh1ctot', 'hh1cperc', 'hh1hhres',\n",
       "       'r1child', 's1child', 'r1grchild', 's1grchild', 'r1dchild',\n",
       "       's1dchild', 'r1livbro', 's1livbro', 'r1livsis', 's1livsis',\n",
       "       'r1livsib', 's1livsib', 'r1decbro', 's1decbro', 'r1decsis',\n",
       "       's1decsis', 'r1decsib', 's1decsib', 'r1livpar', 's1livpar',\n",
       "       'r1momage', 's1momage', 'r1dadage', 's1dadage', 'r1frec', 's1frec',\n",
       "       'r1tgiv', 's1tgiv', 'r1ftot', 's1ftot', 'r1njobs2', 's1njobs2',\n",
       "       'r1jhours', 's1jhours', 'r1jhour2', 's1jhour2', 'r1jhourtot',\n",
       "       's1jhourtot', 'r1jweeks_l', 's1jweeks_l', 'r1wgiwk', 's1wgiwk',\n",
       "       'r1wgiwk2', 's1wgiwk2', 'r1jcten', 's1jcten', 'r1fsize', 's1fsize',\n",
       "       'r1jlasty', 's1jlasty', 'r1jlastm', 's1jlastm', 'r1retmon',\n",
       "       's1retmon', 'r1retyr', 's1retyr', 'r1rplnyr', 's1rplnyr',\n",
       "       'r1pubpeni', 'r1penai', 'r1peni', 'r1systo1', 's1systo1',\n",
       "       'r1systo2', 's1systo2', 'r1systo3', 's1systo3', 'r1systo',\n",
       "       's1systo', 'r1diasto1', 's1diasto1', 'r1diasto2', 's1diasto2',\n",
       "       'r1diasto3', 's1diasto3', 'r1diasto', 's1diasto', 'r1pulse1',\n",
       "       's1pulse1', 'r1pulse2', 's1pulse2', 'r1pulse3', 's1pulse3',\n",
       "       'r1pulse', 's1pulse', 'r1lgrip1', 's1lgrip1', 'r1lgrip2',\n",
       "       's1lgrip2', 'r1lgrip', 's1lgrip', 'r1rgrip1', 's1rgrip1',\n",
       "       'r1rgrip2', 's1rgrip2', 'r1rgrip', 's1rgrip', 'r1gripsum',\n",
       "       's1gripsum', 'r1semitan', 's1semitan', 'r1sbstan', 's1sbstan',\n",
       "       'r1fulltan', 's1fulltan', 'r1wspeed1', 's1wspeed1', 'r1wspeed2',\n",
       "       's1wspeed2', 'r1wspeed', 's1wspeed', 'r1mheight', 's1mheight',\n",
       "       'r1mweight', 's1mweight', 'r1mbmi', 's1mbmi', 'r1mwaist',\n",
       "       's1mwaist', 'r1mhip', 's1mhip', 'r1mwhratio', 's1mwhratio',\n",
       "       'r1rscaredpm_l', 's1rscaredpm_l', 'r1rscarehr_l', 's1rscarehr_l',\n",
       "       'r1rccaredpm_l', 's1rccaredpm_l', 'r1rccarehr_l', 's1rccarehr_l',\n",
       "       'r1rrcaredpm_l', 's1rrcaredpm_l', 'r1rrcarehr_l', 's1rrcarehr_l',\n",
       "       'r1rfcaredpm_l', 's1rfcaredpm_l', 'r1rfcarehr_l', 's1rfcarehr_l',\n",
       "       'r1rpfcaredpm_l', 's1rpfcaredpm_l', 'r1rpfcarehr_l',\n",
       "       's1rpfcarehr_l', 'r1rufcaredpm_l', 's1rufcaredpm_l',\n",
       "       'r1rufcarehr_l', 's1rufcarehr_l', 'r1dscrim', 's1dscrim',\n",
       "       'r1dscrimm', 's1dscrimm', 'r1dcreas_l', 's1dcreas_l',\n",
       "       'hh1electrhr', 'r1cesd10', 's1cesd10', 'r1cesd10m', 's1cesd10m',\n",
       "       'r1cesd10_l', 's1cesd10_l', 'r1cesd10m_l', 's1cesd10m_l',\n",
       "       'r1cididep', 's1cididep', 'r1cididepm', 's1cididepm', 'r1cidianh',\n",
       "       's1cidianh', 'r1cidianhm', 's1cidianhm', 'r1cidisymp',\n",
       "       's1cidisymp', 'r1cidisympm', 's1cidisympm', 'r1lsatsc', 's1lsatsc',\n",
       "       'r1lsatscm', 's1lsatscm', 'r1lsatsc3', 's1lsatsc3', 'r1lsatsc3m',\n",
       "       's1lsatsc3m', 'r1satlifez', 's1satlifez'], dtype=object)"
      ]
     },
     "execution_count": 58,
     "metadata": {},
     "output_type": "execute_result"
    }
   ],
   "source": [
    "numerical_ix = df1.select_dtypes(include=['int64','int8','int16', 'float64','float32']).columns.values.tolist()\n",
    "categorical_ix = df1.select_dtypes(include=['object', 'bool','category']).columns.values.tolist()\n",
    "data_vars=df1.columns.values.tolist()\n",
    "#select all numeric variables\n",
    "to_keep=[i for i in data_vars if i in numerical_ix]\n",
    "data_numeric=df1[to_keep]\n",
    "data_numeric.columns.values"
   ]
  },
  {
   "cell_type": "code",
   "execution_count": 59,
   "metadata": {},
   "outputs": [
    {
     "data": {
      "text/html": [
       "<div>\n",
       "<style scoped>\n",
       "    .dataframe tbody tr th:only-of-type {\n",
       "        vertical-align: middle;\n",
       "    }\n",
       "\n",
       "    .dataframe tbody tr th {\n",
       "        vertical-align: top;\n",
       "    }\n",
       "\n",
       "    .dataframe thead th {\n",
       "        text-align: right;\n",
       "    }\n",
       "</style>\n",
       "<table border=\"1\" class=\"dataframe\">\n",
       "  <thead>\n",
       "    <tr style=\"text-align: right;\">\n",
       "      <th></th>\n",
       "      <th>pn</th>\n",
       "      <th>h1coupid</th>\n",
       "      <th>r1mltsps</th>\n",
       "      <th>r1wtresp</th>\n",
       "      <th>s1wtresp</th>\n",
       "      <th>hh1wthh</th>\n",
       "      <th>hh1hhresp</th>\n",
       "      <th>r1iwy</th>\n",
       "      <th>s1iwy</th>\n",
       "      <th>r1iwm</th>\n",
       "      <th>...</th>\n",
       "      <th>r1lsatsc</th>\n",
       "      <th>s1lsatsc</th>\n",
       "      <th>r1lsatscm</th>\n",
       "      <th>s1lsatscm</th>\n",
       "      <th>r1lsatsc3</th>\n",
       "      <th>s1lsatsc3</th>\n",
       "      <th>r1lsatsc3m</th>\n",
       "      <th>s1lsatsc3m</th>\n",
       "      <th>r1satlifez</th>\n",
       "      <th>s1satlifez</th>\n",
       "    </tr>\n",
       "    <tr>\n",
       "      <th>prim_key</th>\n",
       "      <th></th>\n",
       "      <th></th>\n",
       "      <th></th>\n",
       "      <th></th>\n",
       "      <th></th>\n",
       "      <th></th>\n",
       "      <th></th>\n",
       "      <th></th>\n",
       "      <th></th>\n",
       "      <th></th>\n",
       "      <th></th>\n",
       "      <th></th>\n",
       "      <th></th>\n",
       "      <th></th>\n",
       "      <th></th>\n",
       "      <th></th>\n",
       "      <th></th>\n",
       "      <th></th>\n",
       "      <th></th>\n",
       "      <th></th>\n",
       "      <th></th>\n",
       "    </tr>\n",
       "  </thead>\n",
       "  <tbody>\n",
       "    <tr>\n",
       "      <th>101000100040101</th>\n",
       "      <td>1</td>\n",
       "      <td>1.0</td>\n",
       "      <td>1.0</td>\n",
       "      <td>0.429347</td>\n",
       "      <td>0.354885</td>\n",
       "      <td>0.514455</td>\n",
       "      <td>2</td>\n",
       "      <td>2018</td>\n",
       "      <td>2018.0</td>\n",
       "      <td>6</td>\n",
       "      <td>...</td>\n",
       "      <td>3.8</td>\n",
       "      <td>4.0</td>\n",
       "      <td>0.0</td>\n",
       "      <td>0.0</td>\n",
       "      <td>2.0</td>\n",
       "      <td>1.8</td>\n",
       "      <td>0.0</td>\n",
       "      <td>0.0</td>\n",
       "      <td>-2.833213</td>\n",
       "      <td>-0.592182</td>\n",
       "    </tr>\n",
       "    <tr>\n",
       "      <th>101000100040102</th>\n",
       "      <td>2</td>\n",
       "      <td>1.0</td>\n",
       "      <td>1.0</td>\n",
       "      <td>0.354885</td>\n",
       "      <td>0.429347</td>\n",
       "      <td>0.514455</td>\n",
       "      <td>2</td>\n",
       "      <td>2018</td>\n",
       "      <td>2018.0</td>\n",
       "      <td>6</td>\n",
       "      <td>...</td>\n",
       "      <td>4.0</td>\n",
       "      <td>3.8</td>\n",
       "      <td>0.0</td>\n",
       "      <td>0.0</td>\n",
       "      <td>1.8</td>\n",
       "      <td>2.0</td>\n",
       "      <td>0.0</td>\n",
       "      <td>0.0</td>\n",
       "      <td>-0.592182</td>\n",
       "      <td>-2.833213</td>\n",
       "    </tr>\n",
       "    <tr>\n",
       "      <th>101000100130102</th>\n",
       "      <td>2</td>\n",
       "      <td>2.0</td>\n",
       "      <td>1.0</td>\n",
       "      <td>0.490936</td>\n",
       "      <td>0.664684</td>\n",
       "      <td>0.514455</td>\n",
       "      <td>3</td>\n",
       "      <td>2018</td>\n",
       "      <td>2018.0</td>\n",
       "      <td>6</td>\n",
       "      <td>...</td>\n",
       "      <td>5.2</td>\n",
       "      <td>5.4</td>\n",
       "      <td>0.0</td>\n",
       "      <td>0.0</td>\n",
       "      <td>3.0</td>\n",
       "      <td>2.6</td>\n",
       "      <td>0.0</td>\n",
       "      <td>0.0</td>\n",
       "      <td>0.528333</td>\n",
       "      <td>0.528333</td>\n",
       "    </tr>\n",
       "    <tr>\n",
       "      <th>101000100130101</th>\n",
       "      <td>1</td>\n",
       "      <td>2.0</td>\n",
       "      <td>1.0</td>\n",
       "      <td>0.664684</td>\n",
       "      <td>0.490936</td>\n",
       "      <td>0.514455</td>\n",
       "      <td>3</td>\n",
       "      <td>2018</td>\n",
       "      <td>2018.0</td>\n",
       "      <td>6</td>\n",
       "      <td>...</td>\n",
       "      <td>5.4</td>\n",
       "      <td>5.2</td>\n",
       "      <td>0.0</td>\n",
       "      <td>0.0</td>\n",
       "      <td>2.6</td>\n",
       "      <td>3.0</td>\n",
       "      <td>0.0</td>\n",
       "      <td>0.0</td>\n",
       "      <td>0.528333</td>\n",
       "      <td>0.528333</td>\n",
       "    </tr>\n",
       "    <tr>\n",
       "      <th>101000100130109</th>\n",
       "      <td>9</td>\n",
       "      <td>3.0</td>\n",
       "      <td>0.0</td>\n",
       "      <td>0.419258</td>\n",
       "      <td>NaN</td>\n",
       "      <td>0.514455</td>\n",
       "      <td>3</td>\n",
       "      <td>2018</td>\n",
       "      <td>NaN</td>\n",
       "      <td>6</td>\n",
       "      <td>...</td>\n",
       "      <td>6.0</td>\n",
       "      <td>NaN</td>\n",
       "      <td>0.0</td>\n",
       "      <td>NaN</td>\n",
       "      <td>3.0</td>\n",
       "      <td>NaN</td>\n",
       "      <td>0.0</td>\n",
       "      <td>NaN</td>\n",
       "      <td>0.528333</td>\n",
       "      <td>NaN</td>\n",
       "    </tr>\n",
       "  </tbody>\n",
       "</table>\n",
       "<p>5 rows × 394 columns</p>\n",
       "</div>"
      ],
      "text/plain": [
       "                 pn  h1coupid  r1mltsps  r1wtresp  s1wtresp   hh1wthh  \\\n",
       "prim_key                                                                \n",
       "101000100040101   1       1.0       1.0  0.429347  0.354885  0.514455   \n",
       "101000100040102   2       1.0       1.0  0.354885  0.429347  0.514455   \n",
       "101000100130102   2       2.0       1.0  0.490936  0.664684  0.514455   \n",
       "101000100130101   1       2.0       1.0  0.664684  0.490936  0.514455   \n",
       "101000100130109   9       3.0       0.0  0.419258       NaN  0.514455   \n",
       "\n",
       "                 hh1hhresp  r1iwy   s1iwy  r1iwm  ...  r1lsatsc  s1lsatsc  \\\n",
       "prim_key                                          ...                       \n",
       "101000100040101          2   2018  2018.0      6  ...       3.8       4.0   \n",
       "101000100040102          2   2018  2018.0      6  ...       4.0       3.8   \n",
       "101000100130102          3   2018  2018.0      6  ...       5.2       5.4   \n",
       "101000100130101          3   2018  2018.0      6  ...       5.4       5.2   \n",
       "101000100130109          3   2018     NaN      6  ...       6.0       NaN   \n",
       "\n",
       "                 r1lsatscm  s1lsatscm  r1lsatsc3  s1lsatsc3  r1lsatsc3m  \\\n",
       "prim_key                                                                  \n",
       "101000100040101        0.0        0.0        2.0        1.8         0.0   \n",
       "101000100040102        0.0        0.0        1.8        2.0         0.0   \n",
       "101000100130102        0.0        0.0        3.0        2.6         0.0   \n",
       "101000100130101        0.0        0.0        2.6        3.0         0.0   \n",
       "101000100130109        0.0        NaN        3.0        NaN         0.0   \n",
       "\n",
       "                 s1lsatsc3m  r1satlifez  s1satlifez  \n",
       "prim_key                                             \n",
       "101000100040101         0.0   -2.833213   -0.592182  \n",
       "101000100040102         0.0   -0.592182   -2.833213  \n",
       "101000100130102         0.0    0.528333    0.528333  \n",
       "101000100130101         0.0    0.528333    0.528333  \n",
       "101000100130109         NaN    0.528333         NaN  \n",
       "\n",
       "[5 rows x 394 columns]"
      ]
     },
     "execution_count": 59,
     "metadata": {},
     "output_type": "execute_result"
    }
   ],
   "source": [
    "data_numeric.head()"
   ]
  },
  {
   "cell_type": "code",
   "execution_count": 92,
   "metadata": {},
   "outputs": [],
   "source": [
    "from sklearn.preprocessing import StandardScaler\n",
    "scaler = StandardScaler()\n",
    "transform=scaler.fit(data_numeric)\n"
   ]
  },
  {
   "cell_type": "code",
   "execution_count": 95,
   "metadata": {},
   "outputs": [
    {
     "data": {
      "text/plain": [
       "sklearn.preprocessing._data.StandardScaler"
      ]
     },
     "execution_count": 95,
     "metadata": {},
     "output_type": "execute_result"
    }
   ],
   "source": [
    "type(transform)"
   ]
  },
  {
   "cell_type": "code",
   "execution_count": 34,
   "metadata": {},
   "outputs": [
    {
     "data": {
      "text/html": [
       "<div>\n",
       "<style scoped>\n",
       "    .dataframe tbody tr th:only-of-type {\n",
       "        vertical-align: middle;\n",
       "    }\n",
       "\n",
       "    .dataframe tbody tr th {\n",
       "        vertical-align: top;\n",
       "    }\n",
       "\n",
       "    .dataframe thead th {\n",
       "        text-align: right;\n",
       "    }\n",
       "</style>\n",
       "<table border=\"1\" class=\"dataframe\">\n",
       "  <thead>\n",
       "    <tr style=\"text-align: right;\">\n",
       "      <th></th>\n",
       "      <th>hhid</th>\n",
       "      <th>pnc</th>\n",
       "      <th>s1prim_key</th>\n",
       "      <th>raspid1</th>\n",
       "      <th>inw1</th>\n",
       "      <th>inw1pm</th>\n",
       "      <th>r1iwstat</th>\n",
       "      <th>s1iwstat</th>\n",
       "      <th>h1cpl</th>\n",
       "      <th>r1hhr</th>\n",
       "      <th>...</th>\n",
       "      <th>r1lexcl</th>\n",
       "      <th>s1lexcl</th>\n",
       "      <th>r1lstsf</th>\n",
       "      <th>s1lstsf</th>\n",
       "      <th>r1limptt</th>\n",
       "      <th>s1limptt</th>\n",
       "      <th>r1lchnot</th>\n",
       "      <th>s1lchnot</th>\n",
       "      <th>r1satlife</th>\n",
       "      <th>s1satlife</th>\n",
       "    </tr>\n",
       "    <tr>\n",
       "      <th>prim_key</th>\n",
       "      <th></th>\n",
       "      <th></th>\n",
       "      <th></th>\n",
       "      <th></th>\n",
       "      <th></th>\n",
       "      <th></th>\n",
       "      <th></th>\n",
       "      <th></th>\n",
       "      <th></th>\n",
       "      <th></th>\n",
       "      <th></th>\n",
       "      <th></th>\n",
       "      <th></th>\n",
       "      <th></th>\n",
       "      <th></th>\n",
       "      <th></th>\n",
       "      <th></th>\n",
       "      <th></th>\n",
       "      <th></th>\n",
       "      <th></th>\n",
       "      <th></th>\n",
       "    </tr>\n",
       "  </thead>\n",
       "  <tbody>\n",
       "    <tr>\n",
       "      <th>101000100040101</th>\n",
       "      <td>101000100040100</td>\n",
       "      <td>01</td>\n",
       "      <td>101000100040102</td>\n",
       "      <td>101000100040102</td>\n",
       "      <td>1.yes</td>\n",
       "      <td>1.yes</td>\n",
       "      <td>1.resp, alive</td>\n",
       "      <td>1.resp, alive</td>\n",
       "      <td>1.coupled</td>\n",
       "      <td>1.yes</td>\n",
       "      <td>...</td>\n",
       "      <td>5.slightly agree</td>\n",
       "      <td>4.neither agree nor disagree</td>\n",
       "      <td>3.slightly disagree</td>\n",
       "      <td>6.agree</td>\n",
       "      <td>5.slightly agree</td>\n",
       "      <td>3.slightly disagree</td>\n",
       "      <td>4.neither agree nor disagree</td>\n",
       "      <td>4.neither agree nor disagree</td>\n",
       "      <td>1.not at all satisfied</td>\n",
       "      <td>3.somewhat satisfied</td>\n",
       "    </tr>\n",
       "    <tr>\n",
       "      <th>101000100040102</th>\n",
       "      <td>101000100040100</td>\n",
       "      <td>02</td>\n",
       "      <td>101000100040101</td>\n",
       "      <td>101000100040101</td>\n",
       "      <td>1.yes</td>\n",
       "      <td>1.yes</td>\n",
       "      <td>1.resp, alive</td>\n",
       "      <td>1.resp, alive</td>\n",
       "      <td>1.coupled</td>\n",
       "      <td>0.no</td>\n",
       "      <td>...</td>\n",
       "      <td>4.neither agree nor disagree</td>\n",
       "      <td>5.slightly agree</td>\n",
       "      <td>6.agree</td>\n",
       "      <td>3.slightly disagree</td>\n",
       "      <td>3.slightly disagree</td>\n",
       "      <td>5.slightly agree</td>\n",
       "      <td>4.neither agree nor disagree</td>\n",
       "      <td>4.neither agree nor disagree</td>\n",
       "      <td>3.somewhat satisfied</td>\n",
       "      <td>1.not at all satisfied</td>\n",
       "    </tr>\n",
       "    <tr>\n",
       "      <th>101000100130102</th>\n",
       "      <td>101000100130100</td>\n",
       "      <td>02</td>\n",
       "      <td>101000100130101</td>\n",
       "      <td>101000100130101</td>\n",
       "      <td>1.yes</td>\n",
       "      <td>1.yes</td>\n",
       "      <td>1.resp, alive</td>\n",
       "      <td>1.resp, alive</td>\n",
       "      <td>1.coupled</td>\n",
       "      <td>0.no</td>\n",
       "      <td>...</td>\n",
       "      <td>6.agree</td>\n",
       "      <td>6.agree</td>\n",
       "      <td>5.slightly agree</td>\n",
       "      <td>7.strongly agree</td>\n",
       "      <td>5.slightly agree</td>\n",
       "      <td>7.strongly agree</td>\n",
       "      <td>5.slightly agree</td>\n",
       "      <td>6.agree</td>\n",
       "      <td>4.very satisfied</td>\n",
       "      <td>4.very satisfied</td>\n",
       "    </tr>\n",
       "    <tr>\n",
       "      <th>101000100130101</th>\n",
       "      <td>101000100130100</td>\n",
       "      <td>01</td>\n",
       "      <td>101000100130102</td>\n",
       "      <td>101000100130102</td>\n",
       "      <td>1.yes</td>\n",
       "      <td>1.yes</td>\n",
       "      <td>1.resp, alive</td>\n",
       "      <td>1.resp, alive</td>\n",
       "      <td>1.coupled</td>\n",
       "      <td>0.no</td>\n",
       "      <td>...</td>\n",
       "      <td>6.agree</td>\n",
       "      <td>6.agree</td>\n",
       "      <td>7.strongly agree</td>\n",
       "      <td>5.slightly agree</td>\n",
       "      <td>7.strongly agree</td>\n",
       "      <td>5.slightly agree</td>\n",
       "      <td>6.agree</td>\n",
       "      <td>5.slightly agree</td>\n",
       "      <td>4.very satisfied</td>\n",
       "      <td>4.very satisfied</td>\n",
       "    </tr>\n",
       "    <tr>\n",
       "      <th>101000100130109</th>\n",
       "      <td>101000100130100</td>\n",
       "      <td>09</td>\n",
       "      <td>0</td>\n",
       "      <td></td>\n",
       "      <td>1.yes</td>\n",
       "      <td>1.yes</td>\n",
       "      <td>1.resp, alive</td>\n",
       "      <td>NaN</td>\n",
       "      <td>0.not coupled</td>\n",
       "      <td>0.no</td>\n",
       "      <td>...</td>\n",
       "      <td>6.agree</td>\n",
       "      <td>NaN</td>\n",
       "      <td>6.agree</td>\n",
       "      <td>NaN</td>\n",
       "      <td>7.strongly agree</td>\n",
       "      <td>NaN</td>\n",
       "      <td>6.agree</td>\n",
       "      <td>NaN</td>\n",
       "      <td>4.very satisfied</td>\n",
       "      <td>NaN</td>\n",
       "    </tr>\n",
       "  </tbody>\n",
       "</table>\n",
       "<p>5 rows × 872 columns</p>\n",
       "</div>"
      ],
      "text/plain": [
       "                            hhid pnc       s1prim_key          raspid1   inw1  \\\n",
       "prim_key                                                                        \n",
       "101000100040101  101000100040100  01  101000100040102  101000100040102  1.yes   \n",
       "101000100040102  101000100040100  02  101000100040101  101000100040101  1.yes   \n",
       "101000100130102  101000100130100  02  101000100130101  101000100130101  1.yes   \n",
       "101000100130101  101000100130100  01  101000100130102  101000100130102  1.yes   \n",
       "101000100130109  101000100130100  09                0                   1.yes   \n",
       "\n",
       "                inw1pm       r1iwstat       s1iwstat          h1cpl  r1hhr  \\\n",
       "prim_key                                                                     \n",
       "101000100040101  1.yes  1.resp, alive  1.resp, alive      1.coupled  1.yes   \n",
       "101000100040102  1.yes  1.resp, alive  1.resp, alive      1.coupled   0.no   \n",
       "101000100130102  1.yes  1.resp, alive  1.resp, alive      1.coupled   0.no   \n",
       "101000100130101  1.yes  1.resp, alive  1.resp, alive      1.coupled   0.no   \n",
       "101000100130109  1.yes  1.resp, alive            NaN  0.not coupled   0.no   \n",
       "\n",
       "                 ...                       r1lexcl  \\\n",
       "prim_key         ...                                 \n",
       "101000100040101  ...              5.slightly agree   \n",
       "101000100040102  ...  4.neither agree nor disagree   \n",
       "101000100130102  ...                       6.agree   \n",
       "101000100130101  ...                       6.agree   \n",
       "101000100130109  ...                       6.agree   \n",
       "\n",
       "                                      s1lexcl              r1lstsf  \\\n",
       "prim_key                                                             \n",
       "101000100040101  4.neither agree nor disagree  3.slightly disagree   \n",
       "101000100040102              5.slightly agree              6.agree   \n",
       "101000100130102                       6.agree     5.slightly agree   \n",
       "101000100130101                       6.agree     7.strongly agree   \n",
       "101000100130109                           NaN              6.agree   \n",
       "\n",
       "                             s1lstsf             r1limptt  \\\n",
       "prim_key                                                    \n",
       "101000100040101              6.agree     5.slightly agree   \n",
       "101000100040102  3.slightly disagree  3.slightly disagree   \n",
       "101000100130102     7.strongly agree     5.slightly agree   \n",
       "101000100130101     5.slightly agree     7.strongly agree   \n",
       "101000100130109                  NaN     7.strongly agree   \n",
       "\n",
       "                            s1limptt                      r1lchnot  \\\n",
       "prim_key                                                             \n",
       "101000100040101  3.slightly disagree  4.neither agree nor disagree   \n",
       "101000100040102     5.slightly agree  4.neither agree nor disagree   \n",
       "101000100130102     7.strongly agree              5.slightly agree   \n",
       "101000100130101     5.slightly agree                       6.agree   \n",
       "101000100130109                  NaN                       6.agree   \n",
       "\n",
       "                                     s1lchnot               r1satlife  \\\n",
       "prim_key                                                                \n",
       "101000100040101  4.neither agree nor disagree  1.not at all satisfied   \n",
       "101000100040102  4.neither agree nor disagree    3.somewhat satisfied   \n",
       "101000100130102                       6.agree        4.very satisfied   \n",
       "101000100130101              5.slightly agree        4.very satisfied   \n",
       "101000100130109                           NaN        4.very satisfied   \n",
       "\n",
       "                              s1satlife  \n",
       "prim_key                                 \n",
       "101000100040101    3.somewhat satisfied  \n",
       "101000100040102  1.not at all satisfied  \n",
       "101000100130102        4.very satisfied  \n",
       "101000100130101        4.very satisfied  \n",
       "101000100130109                     NaN  \n",
       "\n",
       "[5 rows x 872 columns]"
      ]
     },
     "execution_count": 34,
     "metadata": {},
     "output_type": "execute_result"
    }
   ],
   "source": [
    "#select all categorical variables\n",
    "to_keep=[i for i in data_vars if i in categorical_ix]\n",
    "data_cat=df1[to_keep]\n",
    "#data_cat.columns.values\n",
    "data_cat.head()"
   ]
  },
  {
   "cell_type": "code",
   "execution_count": 98,
   "metadata": {},
   "outputs": [
    {
     "name": "stdout",
     "output_type": "stream",
     "text": [
      "[[1. 0. 0. ... 0. 0. 0.]\n",
      " [1. 0. 0. ... 0. 0. 0.]\n",
      " [0. 1. 0. ... 1. 0. 0.]\n",
      " ...\n",
      " [0. 0. 0. ... 0. 1. 0.]\n",
      " [0. 0. 0. ... 0. 0. 0.]\n",
      " [0. 0. 0. ... 0. 0. 1.]]\n"
     ]
    }
   ],
   "source": [
    "from sklearn.preprocessing import OneHotEncoder\n",
    "encoder = OneHotEncoder(sparse=False)\n",
    "# transform data\n",
    "onehot = encoder.fit_transform(data_cat)\n",
    "print(onehot)"
   ]
  },
  {
   "cell_type": "code",
   "execution_count": 104,
   "metadata": {},
   "outputs": [
    {
     "data": {
      "text/plain": [
       "(72262, 156247)"
      ]
     },
     "execution_count": 104,
     "metadata": {},
     "output_type": "execute_result"
    }
   ],
   "source": [
    "onehot.shape"
   ]
  },
  {
   "cell_type": "code",
   "execution_count": 22,
   "metadata": {},
   "outputs": [],
   "source": [
    "a=data_numeric.isnull().sum()/len(data_numeric)*100\n",
    "\n",
    "variables = data_numeric.columns\n",
    "newvariable = [ ]\n",
    "     \n",
    "for i in range (len(variables)):\n",
    "    if a[i]<=20:   #setting the threshold as 20%\n",
    "        newvariable.append(variables[i])"
   ]
  },
  {
   "cell_type": "code",
   "execution_count": 24,
   "metadata": {},
   "outputs": [
    {
     "data": {
      "text/plain": [
       "dm007            45.968166\n",
       "dm016             0.166090\n",
       "dm021a_months    79.569550\n",
       "dm021a_year      78.686505\n",
       "dm023            99.487889\n",
       "                   ...    \n",
       "ee103            76.539792\n",
       "ee104            76.733564\n",
       "ee107            76.842907\n",
       "ee110            77.624913\n",
       "ee111            77.753633\n",
       "Length: 406, dtype: float64"
      ]
     },
     "execution_count": 24,
     "metadata": {},
     "output_type": "execute_result"
    }
   ],
   "source": [
    "a"
   ]
  },
  {
   "cell_type": "code",
   "execution_count": 23,
   "metadata": {},
   "outputs": [
    {
     "data": {
      "text/plain": [
       "['dm016',\n",
       " 'dm028_totalmarriage',\n",
       " 'dm029_year',\n",
       " 'dm030',\n",
       " 'ht230',\n",
       " 'fm302a',\n",
       " 'fm302b',\n",
       " 'fm302c',\n",
       " 'fm302d',\n",
       " 'fm302e',\n",
       " 'mh011',\n",
       " 'mh012',\n",
       " 'mh013',\n",
       " 'mh016_correct',\n",
       " 'mh016_incorrect',\n",
       " 'mh021_practice1',\n",
       " 'mh021_practice2',\n",
       " 'mh056',\n",
       " 'fs201',\n",
       " 'fs201_total',\n",
       " 'fs201a',\n",
       " 'fs201b',\n",
       " 'fs201c',\n",
       " 'fs202',\n",
       " 'fs202a',\n",
       " 'fs202b',\n",
       " 'fs202c',\n",
       " 'fs304',\n",
       " 'fs321_1',\n",
       " 'fs321_2',\n",
       " 'fs321_3',\n",
       " 'fs321_4',\n",
       " 'fs321a',\n",
       " 'fs321b',\n",
       " 'fs321c',\n",
       " 'fs321d',\n",
       " 'fs612']"
      ]
     },
     "execution_count": 23,
     "metadata": {},
     "output_type": "execute_result"
    }
   ],
   "source": [
    "newvariable"
   ]
  },
  {
   "cell_type": "code",
   "execution_count": 86,
   "metadata": {},
   "outputs": [],
   "source": [
    "from sklearn.preprocessing import MinMaxScaler\n",
    "from sklearn.compose import ColumnTransformer\n",
    "from sklearn.preprocessing import OneHotEncoder\n",
    "t = [('cat', OneHotEncoder(), categorical_ix), ('num', MinMaxScaler(), numerical_ix)]\n",
    "col_transform = ColumnTransformer(transformers=t)"
   ]
  },
  {
   "cell_type": "code",
   "execution_count": 87,
   "metadata": {},
   "outputs": [
    {
     "ename": "TypeError",
     "evalue": "'ColumnTransformer' object is not callable",
     "output_type": "error",
     "traceback": [
      "\u001b[1;31m---------------------------------------------------------------------------\u001b[0m",
      "\u001b[1;31mTypeError\u001b[0m                                 Traceback (most recent call last)",
      "\u001b[1;32m<ipython-input-87-14cd908b6e38>\u001b[0m in \u001b[0;36m<module>\u001b[1;34m\u001b[0m\n\u001b[1;32m----> 1\u001b[1;33m \u001b[0mcol_transform\u001b[0m\u001b[1;33m(\u001b[0m\u001b[0mdf1\u001b[0m\u001b[1;33m)\u001b[0m\u001b[1;33m\u001b[0m\u001b[1;33m\u001b[0m\u001b[0m\n\u001b[0m",
      "\u001b[1;31mTypeError\u001b[0m: 'ColumnTransformer' object is not callable"
     ]
    }
   ],
   "source": [
    "col_transform(df1)"
   ]
  },
  {
   "cell_type": "code",
   "execution_count": 74,
   "metadata": {},
   "outputs": [],
   "source": [
    "from sklearn.svm import SVR\n",
    "from sklearn.pipeline import Pipeline\n",
    "\n",
    "# define the model\n",
    "model = SVR(kernel='rbf',gamma='scale',C=100)\n",
    "# define the data preparation and modeling pipeline\n",
    "pipeline = Pipeline(steps=[('prep',col_transform), ('m', model)])"
   ]
  },
  {
   "cell_type": "code",
   "execution_count": 82,
   "metadata": {},
   "outputs": [],
   "source": [
    "from numpy import mean\n",
    "from numpy import std\n",
    "from numpy import absolute\n",
    "from pandas import read_csv\n",
    "from sklearn.model_selection import cross_val_score\n",
    "from sklearn.model_selection import KFold\n",
    "from sklearn.compose import ColumnTransformer\n",
    "from sklearn.pipeline import Pipeline\n",
    "from sklearn.preprocessing import OneHotEncoder\n",
    "from sklearn.preprocessing import MinMaxScaler\n",
    "from sklearn.svm import SVR\n",
    "X, y = df1.drop('r1hlthlm', axis=1), df1['r1hlthlm']\n",
    "cv = KFold(n_splits=10, shuffle=True, random_state=1)\n",
    "# evaluate the pipeline using cross validation and calculate MAE\n",
    "scores = cross_val_score(pipeline, X, y, scoring='neg_mean_absolute_error', cv=cv, n_jobs=-1)\n",
    "# convert MAE scores to positive values\n",
    "#scores = absolute(scores)\n",
    "# summarize the model performance\n",
    "#print('MAE: %.3f (%.3f)' % (mean(scores), std(scores)))"
   ]
  },
  {
   "cell_type": "code",
   "execution_count": 83,
   "metadata": {},
   "outputs": [
    {
     "data": {
      "text/plain": [
       "array([nan, nan, nan, nan, nan, nan, nan, nan, nan, nan])"
      ]
     },
     "execution_count": 83,
     "metadata": {},
     "output_type": "execute_result"
    }
   ],
   "source": [
    "scores"
   ]
  },
  {
   "cell_type": "code",
   "execution_count": 84,
   "metadata": {},
   "outputs": [
    {
     "data": {
      "text/plain": [
       "Pipeline(steps=[('prep',\n",
       "                 ColumnTransformer(transformers=[('cat', OneHotEncoder(),\n",
       "                                                  ['hhid', 'pnc', 's1prim_key',\n",
       "                                                   'raspid1', 'inw1', 'inw1pm',\n",
       "                                                   'r1iwstat', 's1iwstat',\n",
       "                                                   'h1cpl', 'r1hhr', 's1hhr',\n",
       "                                                   'hh1ohhr', 'hh1anyhhr',\n",
       "                                                   'r1finr', 's1finr',\n",
       "                                                   'hh1ofinr', 'hh1anyfinr',\n",
       "                                                   'r1proxy', 's1proxy',\n",
       "                                                   'ragender', 's1gender',\n",
       "                                                   'raeduc_l', 's1educ_l',\n",
       "                                                   'raeducl', 's1educl',\n",
       "                                                   'raliterate', 's1literate...\n",
       "                                                   'r1mstath', ...]),\n",
       "                                                 ('num', MinMaxScaler(),\n",
       "                                                  ['pn', 'h1coupid', 'r1mltsps',\n",
       "                                                   'r1wtresp', 's1wtresp',\n",
       "                                                   'hh1wthh', 'hh1hhresp',\n",
       "                                                   'r1iwy', 's1iwy', 'r1iwm',\n",
       "                                                   's1iwm', 'rabyear',\n",
       "                                                   's1byear', 'rabmonth',\n",
       "                                                   's1bmonth', 'r1agey',\n",
       "                                                   's1agey', 'raedyrs',\n",
       "                                                   's1edyrs', 'r1mrct',\n",
       "                                                   's1mrct', 'r1mcurln',\n",
       "                                                   's1mcurln', 'r1adlwa',\n",
       "                                                   's1adlwa', 'r1adlwam',\n",
       "                                                   's1adlwam', 'r1adla',\n",
       "                                                   's1adla', 'r1adlam', ...])])),\n",
       "                ('m', SVR(C=100))])"
      ]
     },
     "execution_count": 84,
     "metadata": {},
     "output_type": "execute_result"
    }
   ],
   "source": [
    "pipeline"
   ]
  },
  {
   "cell_type": "code",
   "execution_count": 96,
   "metadata": {},
   "outputs": [
    {
     "data": {
      "text/html": [
       "<style>#sk-912e5b44-98a0-4d08-93e9-ad89c4729ba7 {color: black;background-color: white;}#sk-912e5b44-98a0-4d08-93e9-ad89c4729ba7 pre{padding: 0;}#sk-912e5b44-98a0-4d08-93e9-ad89c4729ba7 div.sk-toggleable {background-color: white;}#sk-912e5b44-98a0-4d08-93e9-ad89c4729ba7 label.sk-toggleable__label {cursor: pointer;display: block;width: 100%;margin-bottom: 0;padding: 0.2em 0.3em;box-sizing: border-box;text-align: center;}#sk-912e5b44-98a0-4d08-93e9-ad89c4729ba7 div.sk-toggleable__content {max-height: 0;max-width: 0;overflow: hidden;text-align: left;background-color: #f0f8ff;}#sk-912e5b44-98a0-4d08-93e9-ad89c4729ba7 div.sk-toggleable__content pre {margin: 0.2em;color: black;border-radius: 0.25em;background-color: #f0f8ff;}#sk-912e5b44-98a0-4d08-93e9-ad89c4729ba7 input.sk-toggleable__control:checked~div.sk-toggleable__content {max-height: 200px;max-width: 100%;overflow: auto;}#sk-912e5b44-98a0-4d08-93e9-ad89c4729ba7 div.sk-estimator input.sk-toggleable__control:checked~label.sk-toggleable__label {background-color: #d4ebff;}#sk-912e5b44-98a0-4d08-93e9-ad89c4729ba7 div.sk-label input.sk-toggleable__control:checked~label.sk-toggleable__label {background-color: #d4ebff;}#sk-912e5b44-98a0-4d08-93e9-ad89c4729ba7 input.sk-hidden--visually {border: 0;clip: rect(1px 1px 1px 1px);clip: rect(1px, 1px, 1px, 1px);height: 1px;margin: -1px;overflow: hidden;padding: 0;position: absolute;width: 1px;}#sk-912e5b44-98a0-4d08-93e9-ad89c4729ba7 div.sk-estimator {font-family: monospace;background-color: #f0f8ff;margin: 0.25em 0.25em;border: 1px dotted black;border-radius: 0.25em;box-sizing: border-box;}#sk-912e5b44-98a0-4d08-93e9-ad89c4729ba7 div.sk-estimator:hover {background-color: #d4ebff;}#sk-912e5b44-98a0-4d08-93e9-ad89c4729ba7 div.sk-parallel-item::after {content: \"\";width: 100%;border-bottom: 1px solid gray;flex-grow: 1;}#sk-912e5b44-98a0-4d08-93e9-ad89c4729ba7 div.sk-label:hover label.sk-toggleable__label {background-color: #d4ebff;}#sk-912e5b44-98a0-4d08-93e9-ad89c4729ba7 div.sk-serial::before {content: \"\";position: absolute;border-left: 1px solid gray;box-sizing: border-box;top: 2em;bottom: 0;left: 50%;}#sk-912e5b44-98a0-4d08-93e9-ad89c4729ba7 div.sk-serial {display: flex;flex-direction: column;align-items: center;background-color: white;}#sk-912e5b44-98a0-4d08-93e9-ad89c4729ba7 div.sk-item {z-index: 1;}#sk-912e5b44-98a0-4d08-93e9-ad89c4729ba7 div.sk-parallel {display: flex;align-items: stretch;justify-content: center;background-color: white;}#sk-912e5b44-98a0-4d08-93e9-ad89c4729ba7 div.sk-parallel-item {display: flex;flex-direction: column;position: relative;background-color: white;}#sk-912e5b44-98a0-4d08-93e9-ad89c4729ba7 div.sk-parallel-item:first-child::after {align-self: flex-end;width: 50%;}#sk-912e5b44-98a0-4d08-93e9-ad89c4729ba7 div.sk-parallel-item:last-child::after {align-self: flex-start;width: 50%;}#sk-912e5b44-98a0-4d08-93e9-ad89c4729ba7 div.sk-parallel-item:only-child::after {width: 0;}#sk-912e5b44-98a0-4d08-93e9-ad89c4729ba7 div.sk-dashed-wrapped {border: 1px dashed gray;margin: 0.2em;box-sizing: border-box;padding-bottom: 0.1em;background-color: white;position: relative;}#sk-912e5b44-98a0-4d08-93e9-ad89c4729ba7 div.sk-label label {font-family: monospace;font-weight: bold;background-color: white;display: inline-block;line-height: 1.2em;}#sk-912e5b44-98a0-4d08-93e9-ad89c4729ba7 div.sk-label-container {position: relative;z-index: 2;text-align: center;}#sk-912e5b44-98a0-4d08-93e9-ad89c4729ba7 div.sk-container {display: inline-block;position: relative;}</style><div id=\"sk-912e5b44-98a0-4d08-93e9-ad89c4729ba7\" class\"sk-top-container\"><div class=\"sk-container\"><div class=\"sk-item sk-dashed-wrapped\"><div class=\"sk-label-container\"><div class=\"sk-label sk-toggleable\"><input class=\"sk-toggleable__control sk-hidden--visually\" id=\"fa0e6069-a9a7-43ae-9b47-ce4a4cccc464\" type=\"checkbox\" ><label class=\"sk-toggleable__label\" for=\"fa0e6069-a9a7-43ae-9b47-ce4a4cccc464\">Pipeline</label><div class=\"sk-toggleable__content\"><pre>Pipeline(steps=[('columntransformer',\n",
       "                 ColumnTransformer(transformers=[('pipeline-1',\n",
       "                                                  Pipeline(steps=[('simpleimputer',\n",
       "                                                                   SimpleImputer(strategy='median')),\n",
       "                                                                  ('standardscaler',\n",
       "                                                                   StandardScaler())]),\n",
       "                                                  ('feat1', 'feat3')),\n",
       "                                                 ('pipeline-2',\n",
       "                                                  Pipeline(steps=[('simpleimputer',\n",
       "                                                                   SimpleImputer(fill_value='missing',\n",
       "                                                                                 strategy='constant')),\n",
       "                                                                  ('onehotencoder',\n",
       "                                                                   OneHotEncoder(handle_unknown='ignore'))]),\n",
       "                                                  ('feat0', 'feat2'))])),\n",
       "                ('logisticregression', LogisticRegression())])</pre></div></div></div><div class=\"sk-serial\"><div class=\"sk-item sk-dashed-wrapped\"><div class=\"sk-label-container\"><div class=\"sk-label sk-toggleable\"><input class=\"sk-toggleable__control sk-hidden--visually\" id=\"04e87a05-2527-4055-a9fd-5d844a1ed9d9\" type=\"checkbox\" ><label class=\"sk-toggleable__label\" for=\"04e87a05-2527-4055-a9fd-5d844a1ed9d9\">columntransformer: ColumnTransformer</label><div class=\"sk-toggleable__content\"><pre>ColumnTransformer(transformers=[('pipeline-1',\n",
       "                                 Pipeline(steps=[('simpleimputer',\n",
       "                                                  SimpleImputer(strategy='median')),\n",
       "                                                 ('standardscaler',\n",
       "                                                  StandardScaler())]),\n",
       "                                 ('feat1', 'feat3')),\n",
       "                                ('pipeline-2',\n",
       "                                 Pipeline(steps=[('simpleimputer',\n",
       "                                                  SimpleImputer(fill_value='missing',\n",
       "                                                                strategy='constant')),\n",
       "                                                 ('onehotencoder',\n",
       "                                                  OneHotEncoder(handle_unknown='ignore'))]),\n",
       "                                 ('feat0', 'feat2'))])</pre></div></div></div><div class=\"sk-parallel\"><div class=\"sk-parallel-item\"><div class=\"sk-item\"><div class=\"sk-label-container\"><div class=\"sk-label sk-toggleable\"><input class=\"sk-toggleable__control sk-hidden--visually\" id=\"bc52fd1d-31e0-44a5-b58c-cd4a7714a982\" type=\"checkbox\" ><label class=\"sk-toggleable__label\" for=\"bc52fd1d-31e0-44a5-b58c-cd4a7714a982\">pipeline-1</label><div class=\"sk-toggleable__content\"><pre>('feat1', 'feat3')</pre></div></div></div><div class=\"sk-serial\"><div class=\"sk-item\"><div class=\"sk-serial\"><div class=\"sk-item\"><div class=\"sk-estimator sk-toggleable\"><input class=\"sk-toggleable__control sk-hidden--visually\" id=\"d572acbd-3009-486b-a994-cd0cd572230d\" type=\"checkbox\" ><label class=\"sk-toggleable__label\" for=\"d572acbd-3009-486b-a994-cd0cd572230d\">SimpleImputer</label><div class=\"sk-toggleable__content\"><pre>SimpleImputer(strategy='median')</pre></div></div></div><div class=\"sk-item\"><div class=\"sk-estimator sk-toggleable\"><input class=\"sk-toggleable__control sk-hidden--visually\" id=\"81846b2d-676f-44c0-a8f7-50933a4b8667\" type=\"checkbox\" ><label class=\"sk-toggleable__label\" for=\"81846b2d-676f-44c0-a8f7-50933a4b8667\">StandardScaler</label><div class=\"sk-toggleable__content\"><pre>StandardScaler()</pre></div></div></div></div></div></div></div></div><div class=\"sk-parallel-item\"><div class=\"sk-item\"><div class=\"sk-label-container\"><div class=\"sk-label sk-toggleable\"><input class=\"sk-toggleable__control sk-hidden--visually\" id=\"05d56bda-7698-4329-864b-32d1f31801d0\" type=\"checkbox\" ><label class=\"sk-toggleable__label\" for=\"05d56bda-7698-4329-864b-32d1f31801d0\">pipeline-2</label><div class=\"sk-toggleable__content\"><pre>('feat0', 'feat2')</pre></div></div></div><div class=\"sk-serial\"><div class=\"sk-item\"><div class=\"sk-serial\"><div class=\"sk-item\"><div class=\"sk-estimator sk-toggleable\"><input class=\"sk-toggleable__control sk-hidden--visually\" id=\"a6007832-c494-4628-82cf-550b17af4f5b\" type=\"checkbox\" ><label class=\"sk-toggleable__label\" for=\"a6007832-c494-4628-82cf-550b17af4f5b\">SimpleImputer</label><div class=\"sk-toggleable__content\"><pre>SimpleImputer(fill_value='missing', strategy='constant')</pre></div></div></div><div class=\"sk-item\"><div class=\"sk-estimator sk-toggleable\"><input class=\"sk-toggleable__control sk-hidden--visually\" id=\"5a4f95af-9923-4b9d-9fc0-294402c26538\" type=\"checkbox\" ><label class=\"sk-toggleable__label\" for=\"5a4f95af-9923-4b9d-9fc0-294402c26538\">OneHotEncoder</label><div class=\"sk-toggleable__content\"><pre>OneHotEncoder(handle_unknown='ignore')</pre></div></div></div></div></div></div></div></div></div></div><div class=\"sk-item\"><div class=\"sk-estimator sk-toggleable\"><input class=\"sk-toggleable__control sk-hidden--visually\" id=\"4fd0844b-69a3-4ded-84ce-b4ffac46075c\" type=\"checkbox\" ><label class=\"sk-toggleable__label\" for=\"4fd0844b-69a3-4ded-84ce-b4ffac46075c\">LogisticRegression</label><div class=\"sk-toggleable__content\"><pre>LogisticRegression()</pre></div></div></div></div></div></div></div>"
      ],
      "text/plain": [
       "Pipeline(steps=[('columntransformer',\n",
       "                 ColumnTransformer(transformers=[('pipeline-1',\n",
       "                                                  Pipeline(steps=[('simpleimputer',\n",
       "                                                                   SimpleImputer(strategy='median')),\n",
       "                                                                  ('standardscaler',\n",
       "                                                                   StandardScaler())]),\n",
       "                                                  ('feat1', 'feat3')),\n",
       "                                                 ('pipeline-2',\n",
       "                                                  Pipeline(steps=[('simpleimputer',\n",
       "                                                                   SimpleImputer(fill_value='missing',\n",
       "                                                                                 strategy='constant')),\n",
       "                                                                  ('onehotencoder',\n",
       "                                                                   OneHotEncoder(handle_unknown='ignore'))]),\n",
       "                                                  ('feat0', 'feat2'))])),\n",
       "                ('logisticregression', LogisticRegression())])"
      ]
     },
     "execution_count": 96,
     "metadata": {},
     "output_type": "execute_result"
    }
   ],
   "source": [
    "from sklearn import set_config\n",
    "from sklearn.pipeline import make_pipeline\n",
    "from sklearn.preprocessing import OneHotEncoder, StandardScaler\n",
    "from sklearn.impute import SimpleImputer\n",
    "from sklearn.compose import make_column_transformer\n",
    "from sklearn.linear_model import LogisticRegression\n",
    "\n",
    "set_config(display=\"diagram\")\n",
    "\n",
    "num_proc = make_pipeline(SimpleImputer(strategy=\"median\"), StandardScaler())\n",
    "\n",
    "cat_proc = make_pipeline(\n",
    "    SimpleImputer(strategy=\"constant\", fill_value=\"missing\"),\n",
    "    OneHotEncoder(handle_unknown=\"ignore\"),\n",
    ")\n",
    "\n",
    "preprocessor = make_column_transformer(\n",
    "    (num_proc, (\"feat1\", \"feat3\")), (cat_proc, (\"feat0\", \"feat2\"))\n",
    ")\n",
    "\n",
    "clf = make_pipeline(preprocessor, LogisticRegression())\n",
    "clf"
   ]
  },
  {
   "cell_type": "code",
   "execution_count": 108,
   "metadata": {},
   "outputs": [
    {
     "data": {
      "text/plain": [
       "0.no     63343\n",
       "1.yes     8716\n",
       "Name: r1diabe, dtype: int64"
      ]
     },
     "execution_count": 108,
     "metadata": {},
     "output_type": "execute_result"
    }
   ],
   "source": [
    "df1['r1diabe'].value_counts()"
   ]
  },
  {
   "cell_type": "code",
   "execution_count": 237,
   "metadata": {},
   "outputs": [],
   "source": [
    "df2=df1[['r1diabe','ragender','hh1rural','raeduc_l','r1fallslp']]"
   ]
  },
  {
   "cell_type": "code",
   "execution_count": 156,
   "metadata": {},
   "outputs": [],
   "source": [
    "df_odisha=data_cat[data_cat[\"hh1state\"] == '21.Odisha']"
   ]
  },
  {
   "cell_type": "code",
   "execution_count": 238,
   "metadata": {},
   "outputs": [],
   "source": [
    "a=df2.isnull().sum()/len(df2)*100"
   ]
  },
  {
   "cell_type": "code",
   "execution_count": 239,
   "metadata": {},
   "outputs": [],
   "source": [
    "variables = df2.columns\n",
    "newvariable = [ ]\n",
    "for i in range (len(variables)):\n",
    "    if a[i]<=1:   #setting the threshold as 20%\n",
    "        newvariable.append(variables[i])"
   ]
  },
  {
   "cell_type": "code",
   "execution_count": 240,
   "metadata": {},
   "outputs": [],
   "source": [
    "variables = df2.columns.values.tolist()\n",
    "to_keep=[i for i in variables if i in newvariable]\n",
    "df2=df2[to_keep]"
   ]
  },
  {
   "cell_type": "code",
   "execution_count": 186,
   "metadata": {},
   "outputs": [
    {
     "data": {
      "text/html": [
       "<div>\n",
       "<style scoped>\n",
       "    .dataframe tbody tr th:only-of-type {\n",
       "        vertical-align: middle;\n",
       "    }\n",
       "\n",
       "    .dataframe tbody tr th {\n",
       "        vertical-align: top;\n",
       "    }\n",
       "\n",
       "    .dataframe thead th {\n",
       "        text-align: right;\n",
       "    }\n",
       "</style>\n",
       "<table border=\"1\" class=\"dataframe\">\n",
       "  <thead>\n",
       "    <tr style=\"text-align: right;\">\n",
       "      <th></th>\n",
       "      <th>hhid</th>\n",
       "      <th>pnc</th>\n",
       "      <th>s1prim_key</th>\n",
       "      <th>raspid1</th>\n",
       "      <th>inw1</th>\n",
       "      <th>inw1pm</th>\n",
       "      <th>r1iwstat</th>\n",
       "      <th>h1cpl</th>\n",
       "      <th>r1hhr</th>\n",
       "      <th>hh1ohhr</th>\n",
       "      <th>...</th>\n",
       "      <th>hh1bedsep</th>\n",
       "      <th>hh1sanitat</th>\n",
       "      <th>hh1drksrc</th>\n",
       "      <th>hh1waterhm</th>\n",
       "      <th>hh1electr</th>\n",
       "      <th>hh1clncook</th>\n",
       "      <th>hh1indrplltn</th>\n",
       "      <th>hh1incense</th>\n",
       "      <th>hh1pucca</th>\n",
       "      <th>r1satlife</th>\n",
       "    </tr>\n",
       "    <tr>\n",
       "      <th>prim_key</th>\n",
       "      <th></th>\n",
       "      <th></th>\n",
       "      <th></th>\n",
       "      <th></th>\n",
       "      <th></th>\n",
       "      <th></th>\n",
       "      <th></th>\n",
       "      <th></th>\n",
       "      <th></th>\n",
       "      <th></th>\n",
       "      <th></th>\n",
       "      <th></th>\n",
       "      <th></th>\n",
       "      <th></th>\n",
       "      <th></th>\n",
       "      <th></th>\n",
       "      <th></th>\n",
       "      <th></th>\n",
       "      <th></th>\n",
       "      <th></th>\n",
       "      <th></th>\n",
       "    </tr>\n",
       "  </thead>\n",
       "  <tbody>\n",
       "    <tr>\n",
       "      <th>121130600220202</th>\n",
       "      <td>121130600220200</td>\n",
       "      <td>02</td>\n",
       "      <td>121130600220201</td>\n",
       "      <td>121130600220201</td>\n",
       "      <td>1.yes</td>\n",
       "      <td>1.yes</td>\n",
       "      <td>1.resp, alive</td>\n",
       "      <td>1.coupled</td>\n",
       "      <td>0.no</td>\n",
       "      <td>0.no</td>\n",
       "      <td>...</td>\n",
       "      <td>0.no</td>\n",
       "      <td>0.no</td>\n",
       "      <td>1.yes</td>\n",
       "      <td>0.no</td>\n",
       "      <td>1.yes</td>\n",
       "      <td>0.no</td>\n",
       "      <td>1.yes</td>\n",
       "      <td>1.yes</td>\n",
       "      <td>0.no</td>\n",
       "      <td>4.very satisfied</td>\n",
       "    </tr>\n",
       "    <tr>\n",
       "      <th>121130600220201</th>\n",
       "      <td>121130600220200</td>\n",
       "      <td>01</td>\n",
       "      <td>121130600220202</td>\n",
       "      <td>121130600220202</td>\n",
       "      <td>1.yes</td>\n",
       "      <td>1.yes</td>\n",
       "      <td>1.resp, alive</td>\n",
       "      <td>1.coupled</td>\n",
       "      <td>1.yes</td>\n",
       "      <td>0.no</td>\n",
       "      <td>...</td>\n",
       "      <td>0.no</td>\n",
       "      <td>0.no</td>\n",
       "      <td>1.yes</td>\n",
       "      <td>0.no</td>\n",
       "      <td>1.yes</td>\n",
       "      <td>0.no</td>\n",
       "      <td>1.yes</td>\n",
       "      <td>1.yes</td>\n",
       "      <td>0.no</td>\n",
       "      <td>4.very satisfied</td>\n",
       "    </tr>\n",
       "    <tr>\n",
       "      <th>121130600300301</th>\n",
       "      <td>121130600300300</td>\n",
       "      <td>01</td>\n",
       "      <td>121130600300302</td>\n",
       "      <td>121130600300302</td>\n",
       "      <td>1.yes</td>\n",
       "      <td>1.yes</td>\n",
       "      <td>1.resp, alive</td>\n",
       "      <td>1.coupled</td>\n",
       "      <td>1.yes</td>\n",
       "      <td>0.no</td>\n",
       "      <td>...</td>\n",
       "      <td>0.no</td>\n",
       "      <td>0.no</td>\n",
       "      <td>1.yes</td>\n",
       "      <td>0.no</td>\n",
       "      <td>1.yes</td>\n",
       "      <td>0.no</td>\n",
       "      <td>0.no</td>\n",
       "      <td>0.no</td>\n",
       "      <td>0.no</td>\n",
       "      <td>4.very satisfied</td>\n",
       "    </tr>\n",
       "    <tr>\n",
       "      <th>121130600300302</th>\n",
       "      <td>121130600300300</td>\n",
       "      <td>02</td>\n",
       "      <td>121130600300301</td>\n",
       "      <td>121130600300301</td>\n",
       "      <td>1.yes</td>\n",
       "      <td>1.yes</td>\n",
       "      <td>1.resp, alive</td>\n",
       "      <td>1.coupled</td>\n",
       "      <td>0.no</td>\n",
       "      <td>0.no</td>\n",
       "      <td>...</td>\n",
       "      <td>0.no</td>\n",
       "      <td>0.no</td>\n",
       "      <td>1.yes</td>\n",
       "      <td>0.no</td>\n",
       "      <td>1.yes</td>\n",
       "      <td>0.no</td>\n",
       "      <td>0.no</td>\n",
       "      <td>0.no</td>\n",
       "      <td>0.no</td>\n",
       "      <td>4.very satisfied</td>\n",
       "    </tr>\n",
       "    <tr>\n",
       "      <th>121130600320101</th>\n",
       "      <td>121130600320100</td>\n",
       "      <td>01</td>\n",
       "      <td>121130600320102</td>\n",
       "      <td>121130600320102</td>\n",
       "      <td>1.yes</td>\n",
       "      <td>1.yes</td>\n",
       "      <td>1.resp, alive</td>\n",
       "      <td>1.coupled</td>\n",
       "      <td>1.yes</td>\n",
       "      <td>0.no</td>\n",
       "      <td>...</td>\n",
       "      <td>0.no</td>\n",
       "      <td>0.no</td>\n",
       "      <td>1.yes</td>\n",
       "      <td>0.no</td>\n",
       "      <td>1.yes</td>\n",
       "      <td>0.no</td>\n",
       "      <td>1.yes</td>\n",
       "      <td>1.yes</td>\n",
       "      <td>0.no</td>\n",
       "      <td>4.very satisfied</td>\n",
       "    </tr>\n",
       "  </tbody>\n",
       "</table>\n",
       "<p>5 rows × 296 columns</p>\n",
       "</div>"
      ],
      "text/plain": [
       "                            hhid pnc       s1prim_key          raspid1   inw1  \\\n",
       "prim_key                                                                        \n",
       "121130600220202  121130600220200  02  121130600220201  121130600220201  1.yes   \n",
       "121130600220201  121130600220200  01  121130600220202  121130600220202  1.yes   \n",
       "121130600300301  121130600300300  01  121130600300302  121130600300302  1.yes   \n",
       "121130600300302  121130600300300  02  121130600300301  121130600300301  1.yes   \n",
       "121130600320101  121130600320100  01  121130600320102  121130600320102  1.yes   \n",
       "\n",
       "                inw1pm       r1iwstat      h1cpl  r1hhr hh1ohhr  ...  \\\n",
       "prim_key                                                         ...   \n",
       "121130600220202  1.yes  1.resp, alive  1.coupled   0.no    0.no  ...   \n",
       "121130600220201  1.yes  1.resp, alive  1.coupled  1.yes    0.no  ...   \n",
       "121130600300301  1.yes  1.resp, alive  1.coupled  1.yes    0.no  ...   \n",
       "121130600300302  1.yes  1.resp, alive  1.coupled   0.no    0.no  ...   \n",
       "121130600320101  1.yes  1.resp, alive  1.coupled  1.yes    0.no  ...   \n",
       "\n",
       "                hh1bedsep hh1sanitat hh1drksrc hh1waterhm hh1electr  \\\n",
       "prim_key                                                              \n",
       "121130600220202      0.no       0.no     1.yes       0.no     1.yes   \n",
       "121130600220201      0.no       0.no     1.yes       0.no     1.yes   \n",
       "121130600300301      0.no       0.no     1.yes       0.no     1.yes   \n",
       "121130600300302      0.no       0.no     1.yes       0.no     1.yes   \n",
       "121130600320101      0.no       0.no     1.yes       0.no     1.yes   \n",
       "\n",
       "                hh1clncook hh1indrplltn hh1incense hh1pucca         r1satlife  \n",
       "prim_key                                                                       \n",
       "121130600220202       0.no        1.yes      1.yes     0.no  4.very satisfied  \n",
       "121130600220201       0.no        1.yes      1.yes     0.no  4.very satisfied  \n",
       "121130600300301       0.no         0.no       0.no     0.no  4.very satisfied  \n",
       "121130600300302       0.no         0.no       0.no     0.no  4.very satisfied  \n",
       "121130600320101       0.no        1.yes      1.yes     0.no  4.very satisfied  \n",
       "\n",
       "[5 rows x 296 columns]"
      ]
     },
     "execution_count": 186,
     "metadata": {},
     "output_type": "execute_result"
    }
   ],
   "source": [
    "df_odisha2.head()"
   ]
  },
  {
   "cell_type": "code",
   "execution_count": 155,
   "metadata": {},
   "outputs": [
    {
     "data": {
      "text/plain": [
       "9.Uttar Pradesh            4567\n",
       "27.Maharashtra             3978\n",
       "19.West Bengal             3934\n",
       "33.Tamil Nadu              3530\n",
       "10.Bihar                   3521\n",
       "21.Odisha                  2917\n",
       "23.Madhya Pradesh          2914\n",
       "28.Andhra Pradesh          2679\n",
       "32.Kerala                  2498\n",
       "36.Telangana               2475\n",
       "20.Jharkhand               2464\n",
       "29.Karnataka               2420\n",
       "18.Assam                   2367\n",
       "24.Gujarat                 2344\n",
       "8.Rajasthan                2244\n",
       "3.Punjab                   2124\n",
       "22.Chhatisgarh             2055\n",
       "6.Haryana                  1898\n",
       "1.Jammu & Kashmir          1613\n",
       "34.Puducherry              1428\n",
       "30.Goa                     1427\n",
       "2.Himachal Pradesh         1388\n",
       "14.Manipur                 1369\n",
       "5.Uttarakhand              1358\n",
       "7.Delhi                    1319\n",
       "13.Nagaland                1316\n",
       "15.Mizoram                 1246\n",
       "35.Andaman & Nicobar       1244\n",
       "12.Arunachal               1215\n",
       "16.Tripura                 1195\n",
       "31.Lakshadweep             1139\n",
       "26.Dadra & Nagar Haveli    1090\n",
       "4.Chandigarh               1026\n",
       "25.Daman & Diu              991\n",
       "17.Meghalaya                969\n",
       "Name: hh1state, dtype: int64"
      ]
     },
     "execution_count": 155,
     "metadata": {},
     "output_type": "execute_result"
    }
   ],
   "source": [
    "data_cat[\"hh1state\"].value_counts()"
   ]
  },
  {
   "cell_type": "code",
   "execution_count": 241,
   "metadata": {},
   "outputs": [],
   "source": [
    "df2=pd.get_dummies(df2)"
   ]
  },
  {
   "cell_type": "code",
   "execution_count": 243,
   "metadata": {},
   "outputs": [
    {
     "data": {
      "text/html": [
       "<div>\n",
       "<style scoped>\n",
       "    .dataframe tbody tr th:only-of-type {\n",
       "        vertical-align: middle;\n",
       "    }\n",
       "\n",
       "    .dataframe tbody tr th {\n",
       "        vertical-align: top;\n",
       "    }\n",
       "\n",
       "    .dataframe thead th {\n",
       "        text-align: right;\n",
       "    }\n",
       "</style>\n",
       "<table border=\"1\" class=\"dataframe\">\n",
       "  <thead>\n",
       "    <tr style=\"text-align: right;\">\n",
       "      <th></th>\n",
       "      <th>r1diabe_0.no</th>\n",
       "      <th>r1diabe_1.yes</th>\n",
       "      <th>ragender_1.man</th>\n",
       "      <th>ragender_2.woman</th>\n",
       "      <th>hh1rural_0.urban community</th>\n",
       "      <th>hh1rural_1.rural village</th>\n",
       "      <th>raeduc_l_0:never attended school</th>\n",
       "      <th>raeduc_l_1.less than primary school(standard 1-4)</th>\n",
       "      <th>raeduc_l_2.primary school(standard 5-7)</th>\n",
       "      <th>raeduc_l_3.middle school(standard 8-9)</th>\n",
       "      <th>raeduc_l_4.secondary school(standard 10-11)</th>\n",
       "      <th>raeduc_l_5.higher secondary(standard 12)</th>\n",
       "      <th>raeduc_l_6.diploma and certificate</th>\n",
       "      <th>raeduc_l_7.graduate degree(ba,bs)</th>\n",
       "      <th>raeduc_l_8.post-graduate degree(ma,ms,phd)</th>\n",
       "      <th>raeduc_l_9.professional course/degree(mbbs,md,mba)</th>\n",
       "      <th>r1fallslp_1.Frequently (5 or more nights/week)</th>\n",
       "      <th>r1fallslp_2.Occasionally (3-4 nights/week)</th>\n",
       "      <th>r1fallslp_3.Rarely or Never (0-2 nights/week)</th>\n",
       "    </tr>\n",
       "    <tr>\n",
       "      <th>prim_key</th>\n",
       "      <th></th>\n",
       "      <th></th>\n",
       "      <th></th>\n",
       "      <th></th>\n",
       "      <th></th>\n",
       "      <th></th>\n",
       "      <th></th>\n",
       "      <th></th>\n",
       "      <th></th>\n",
       "      <th></th>\n",
       "      <th></th>\n",
       "      <th></th>\n",
       "      <th></th>\n",
       "      <th></th>\n",
       "      <th></th>\n",
       "      <th></th>\n",
       "      <th></th>\n",
       "      <th></th>\n",
       "      <th></th>\n",
       "    </tr>\n",
       "  </thead>\n",
       "  <tbody>\n",
       "    <tr>\n",
       "      <th>101000100040101</th>\n",
       "      <td>1</td>\n",
       "      <td>0</td>\n",
       "      <td>1</td>\n",
       "      <td>0</td>\n",
       "      <td>0</td>\n",
       "      <td>1</td>\n",
       "      <td>1</td>\n",
       "      <td>0</td>\n",
       "      <td>0</td>\n",
       "      <td>0</td>\n",
       "      <td>0</td>\n",
       "      <td>0</td>\n",
       "      <td>0</td>\n",
       "      <td>0</td>\n",
       "      <td>0</td>\n",
       "      <td>0</td>\n",
       "      <td>0</td>\n",
       "      <td>0</td>\n",
       "      <td>1</td>\n",
       "    </tr>\n",
       "    <tr>\n",
       "      <th>101000100040102</th>\n",
       "      <td>0</td>\n",
       "      <td>1</td>\n",
       "      <td>0</td>\n",
       "      <td>1</td>\n",
       "      <td>0</td>\n",
       "      <td>1</td>\n",
       "      <td>1</td>\n",
       "      <td>0</td>\n",
       "      <td>0</td>\n",
       "      <td>0</td>\n",
       "      <td>0</td>\n",
       "      <td>0</td>\n",
       "      <td>0</td>\n",
       "      <td>0</td>\n",
       "      <td>0</td>\n",
       "      <td>0</td>\n",
       "      <td>0</td>\n",
       "      <td>0</td>\n",
       "      <td>1</td>\n",
       "    </tr>\n",
       "    <tr>\n",
       "      <th>101000100130102</th>\n",
       "      <td>1</td>\n",
       "      <td>0</td>\n",
       "      <td>0</td>\n",
       "      <td>1</td>\n",
       "      <td>0</td>\n",
       "      <td>1</td>\n",
       "      <td>1</td>\n",
       "      <td>0</td>\n",
       "      <td>0</td>\n",
       "      <td>0</td>\n",
       "      <td>0</td>\n",
       "      <td>0</td>\n",
       "      <td>0</td>\n",
       "      <td>0</td>\n",
       "      <td>0</td>\n",
       "      <td>0</td>\n",
       "      <td>0</td>\n",
       "      <td>0</td>\n",
       "      <td>1</td>\n",
       "    </tr>\n",
       "    <tr>\n",
       "      <th>101000100130101</th>\n",
       "      <td>1</td>\n",
       "      <td>0</td>\n",
       "      <td>1</td>\n",
       "      <td>0</td>\n",
       "      <td>0</td>\n",
       "      <td>1</td>\n",
       "      <td>0</td>\n",
       "      <td>0</td>\n",
       "      <td>0</td>\n",
       "      <td>0</td>\n",
       "      <td>0</td>\n",
       "      <td>1</td>\n",
       "      <td>0</td>\n",
       "      <td>0</td>\n",
       "      <td>0</td>\n",
       "      <td>0</td>\n",
       "      <td>0</td>\n",
       "      <td>0</td>\n",
       "      <td>1</td>\n",
       "    </tr>\n",
       "    <tr>\n",
       "      <th>101000100130109</th>\n",
       "      <td>1</td>\n",
       "      <td>0</td>\n",
       "      <td>0</td>\n",
       "      <td>1</td>\n",
       "      <td>0</td>\n",
       "      <td>1</td>\n",
       "      <td>1</td>\n",
       "      <td>0</td>\n",
       "      <td>0</td>\n",
       "      <td>0</td>\n",
       "      <td>0</td>\n",
       "      <td>0</td>\n",
       "      <td>0</td>\n",
       "      <td>0</td>\n",
       "      <td>0</td>\n",
       "      <td>0</td>\n",
       "      <td>0</td>\n",
       "      <td>0</td>\n",
       "      <td>1</td>\n",
       "    </tr>\n",
       "  </tbody>\n",
       "</table>\n",
       "</div>"
      ],
      "text/plain": [
       "                 r1diabe_0.no  r1diabe_1.yes  ragender_1.man  \\\n",
       "prim_key                                                       \n",
       "101000100040101             1              0               1   \n",
       "101000100040102             0              1               0   \n",
       "101000100130102             1              0               0   \n",
       "101000100130101             1              0               1   \n",
       "101000100130109             1              0               0   \n",
       "\n",
       "                 ragender_2.woman  hh1rural_0.urban community  \\\n",
       "prim_key                                                        \n",
       "101000100040101                 0                           0   \n",
       "101000100040102                 1                           0   \n",
       "101000100130102                 1                           0   \n",
       "101000100130101                 0                           0   \n",
       "101000100130109                 1                           0   \n",
       "\n",
       "                 hh1rural_1.rural village  raeduc_l_0:never attended school  \\\n",
       "prim_key                                                                      \n",
       "101000100040101                         1                                 1   \n",
       "101000100040102                         1                                 1   \n",
       "101000100130102                         1                                 1   \n",
       "101000100130101                         1                                 0   \n",
       "101000100130109                         1                                 1   \n",
       "\n",
       "                 raeduc_l_1.less than primary school(standard 1-4)  \\\n",
       "prim_key                                                             \n",
       "101000100040101                                                  0   \n",
       "101000100040102                                                  0   \n",
       "101000100130102                                                  0   \n",
       "101000100130101                                                  0   \n",
       "101000100130109                                                  0   \n",
       "\n",
       "                 raeduc_l_2.primary school(standard 5-7)  \\\n",
       "prim_key                                                   \n",
       "101000100040101                                        0   \n",
       "101000100040102                                        0   \n",
       "101000100130102                                        0   \n",
       "101000100130101                                        0   \n",
       "101000100130109                                        0   \n",
       "\n",
       "                 raeduc_l_3.middle school(standard 8-9)  \\\n",
       "prim_key                                                  \n",
       "101000100040101                                       0   \n",
       "101000100040102                                       0   \n",
       "101000100130102                                       0   \n",
       "101000100130101                                       0   \n",
       "101000100130109                                       0   \n",
       "\n",
       "                 raeduc_l_4.secondary school(standard 10-11)  \\\n",
       "prim_key                                                       \n",
       "101000100040101                                            0   \n",
       "101000100040102                                            0   \n",
       "101000100130102                                            0   \n",
       "101000100130101                                            0   \n",
       "101000100130109                                            0   \n",
       "\n",
       "                 raeduc_l_5.higher secondary(standard 12)  \\\n",
       "prim_key                                                    \n",
       "101000100040101                                         0   \n",
       "101000100040102                                         0   \n",
       "101000100130102                                         0   \n",
       "101000100130101                                         1   \n",
       "101000100130109                                         0   \n",
       "\n",
       "                 raeduc_l_6.diploma and certificate  \\\n",
       "prim_key                                              \n",
       "101000100040101                                   0   \n",
       "101000100040102                                   0   \n",
       "101000100130102                                   0   \n",
       "101000100130101                                   0   \n",
       "101000100130109                                   0   \n",
       "\n",
       "                 raeduc_l_7.graduate degree(ba,bs)  \\\n",
       "prim_key                                             \n",
       "101000100040101                                  0   \n",
       "101000100040102                                  0   \n",
       "101000100130102                                  0   \n",
       "101000100130101                                  0   \n",
       "101000100130109                                  0   \n",
       "\n",
       "                 raeduc_l_8.post-graduate degree(ma,ms,phd)  \\\n",
       "prim_key                                                      \n",
       "101000100040101                                           0   \n",
       "101000100040102                                           0   \n",
       "101000100130102                                           0   \n",
       "101000100130101                                           0   \n",
       "101000100130109                                           0   \n",
       "\n",
       "                 raeduc_l_9.professional course/degree(mbbs,md,mba)  \\\n",
       "prim_key                                                              \n",
       "101000100040101                                                  0    \n",
       "101000100040102                                                  0    \n",
       "101000100130102                                                  0    \n",
       "101000100130101                                                  0    \n",
       "101000100130109                                                  0    \n",
       "\n",
       "                 r1fallslp_1.Frequently (5 or more nights/week)  \\\n",
       "prim_key                                                          \n",
       "101000100040101                                               0   \n",
       "101000100040102                                               0   \n",
       "101000100130102                                               0   \n",
       "101000100130101                                               0   \n",
       "101000100130109                                               0   \n",
       "\n",
       "                 r1fallslp_2.Occasionally (3-4 nights/week)  \\\n",
       "prim_key                                                      \n",
       "101000100040101                                           0   \n",
       "101000100040102                                           0   \n",
       "101000100130102                                           0   \n",
       "101000100130101                                           0   \n",
       "101000100130109                                           0   \n",
       "\n",
       "                 r1fallslp_3.Rarely or Never (0-2 nights/week)  \n",
       "prim_key                                                        \n",
       "101000100040101                                              1  \n",
       "101000100040102                                              1  \n",
       "101000100130102                                              1  \n",
       "101000100130101                                              1  \n",
       "101000100130109                                              1  "
      ]
     },
     "execution_count": 243,
     "metadata": {},
     "output_type": "execute_result"
    }
   ],
   "source": [
    "df2.head()"
   ]
  },
  {
   "cell_type": "code",
   "execution_count": 244,
   "metadata": {},
   "outputs": [],
   "source": [
    "from sklearn.model_selection import train_test_split\n",
    "\n",
    "X_train, X_test, y_train, y_test = train_test_split(df2.drop('r1diabe_1.yes',axis=1),df2['r1diabe_1.yes'])"
   ]
  },
  {
   "cell_type": "code",
   "execution_count": 245,
   "metadata": {},
   "outputs": [
    {
     "data": {
      "text/plain": [
       "array([0, 0, 0, ..., 0, 0, 0], dtype=uint8)"
      ]
     },
     "execution_count": 245,
     "metadata": {},
     "output_type": "execute_result"
    }
   ],
   "source": [
    "logreg=LogisticRegression()\n",
    "logreg.fit(X_train, y_train)\n",
    "logreg.predict(X_test)"
   ]
  },
  {
   "cell_type": "code",
   "execution_count": 246,
   "metadata": {},
   "outputs": [
    {
     "data": {
      "text/plain": [
       "0.9995018266356692"
      ]
     },
     "execution_count": 246,
     "metadata": {},
     "output_type": "execute_result"
    }
   ],
   "source": [
    "logreg.score(X_test, y_test)"
   ]
  },
  {
   "cell_type": "code",
   "execution_count": 252,
   "metadata": {},
   "outputs": [
    {
     "ename": "TypeError",
     "evalue": "Categorical cannot perform the operation mean",
     "output_type": "error",
     "traceback": [
      "\u001b[1;31m---------------------------------------------------------------------------\u001b[0m",
      "\u001b[1;31mTypeError\u001b[0m                                 Traceback (most recent call last)",
      "\u001b[1;32m<ipython-input-252-792f847ccd88>\u001b[0m in \u001b[0;36m<module>\u001b[1;34m\u001b[0m\n\u001b[0;32m      1\u001b[0m \u001b[1;31m#df2=df1[['r1diabe','ragender','hh1rural','raeduc_l','r1fallslp']]\u001b[0m\u001b[1;33m\u001b[0m\u001b[1;33m\u001b[0m\u001b[1;33m\u001b[0m\u001b[0m\n\u001b[1;32m----> 2\u001b[1;33m \u001b[0msns\u001b[0m\u001b[1;33m.\u001b[0m\u001b[0mlmplot\u001b[0m\u001b[1;33m(\u001b[0m\u001b[0mx\u001b[0m\u001b[1;33m=\u001b[0m\u001b[1;34m\"r1diabe\"\u001b[0m\u001b[1;33m,\u001b[0m \u001b[0my\u001b[0m\u001b[1;33m=\u001b[0m\u001b[1;34m\"ragender\"\u001b[0m\u001b[1;33m,\u001b[0m \u001b[0mdata\u001b[0m\u001b[1;33m=\u001b[0m\u001b[0mdf2\u001b[0m\u001b[1;33m,\u001b[0m\u001b[0mlogistic\u001b[0m\u001b[1;33m=\u001b[0m\u001b[1;32mTrue\u001b[0m\u001b[1;33m,\u001b[0m \u001b[0my_jitter\u001b[0m\u001b[1;33m=\u001b[0m\u001b[1;36m.03\u001b[0m\u001b[1;33m)\u001b[0m\u001b[1;33m;\u001b[0m\u001b[1;33m\u001b[0m\u001b[1;33m\u001b[0m\u001b[0m\n\u001b[0m",
      "\u001b[1;32m~\\Anaconda3\\lib\\site-packages\\seaborn\\regression.py\u001b[0m in \u001b[0;36mlmplot\u001b[1;34m(x, y, data, hue, col, row, palette, col_wrap, height, aspect, markers, sharex, sharey, hue_order, col_order, row_order, legend, legend_out, x_estimator, x_bins, x_ci, scatter, fit_reg, ci, n_boot, units, order, logistic, lowess, robust, logx, x_partial, y_partial, truncate, x_jitter, y_jitter, scatter_kws, line_kws, size)\u001b[0m\n\u001b[0;32m    576\u001b[0m     \u001b[1;32mif\u001b[0m \u001b[0msharex\u001b[0m\u001b[1;33m:\u001b[0m\u001b[1;33m\u001b[0m\u001b[1;33m\u001b[0m\u001b[0m\n\u001b[0;32m    577\u001b[0m         \u001b[1;32mfor\u001b[0m \u001b[0max\u001b[0m \u001b[1;32min\u001b[0m \u001b[0mfacets\u001b[0m\u001b[1;33m.\u001b[0m\u001b[0maxes\u001b[0m\u001b[1;33m.\u001b[0m\u001b[0mflat\u001b[0m\u001b[1;33m:\u001b[0m\u001b[1;33m\u001b[0m\u001b[1;33m\u001b[0m\u001b[0m\n\u001b[1;32m--> 578\u001b[1;33m             \u001b[0max\u001b[0m\u001b[1;33m.\u001b[0m\u001b[0mscatter\u001b[0m\u001b[1;33m(\u001b[0m\u001b[0mdata\u001b[0m\u001b[1;33m[\u001b[0m\u001b[0mx\u001b[0m\u001b[1;33m]\u001b[0m\u001b[1;33m,\u001b[0m \u001b[0mnp\u001b[0m\u001b[1;33m.\u001b[0m\u001b[0mones\u001b[0m\u001b[1;33m(\u001b[0m\u001b[0mlen\u001b[0m\u001b[1;33m(\u001b[0m\u001b[0mdata\u001b[0m\u001b[1;33m)\u001b[0m\u001b[1;33m)\u001b[0m \u001b[1;33m*\u001b[0m \u001b[0mdata\u001b[0m\u001b[1;33m[\u001b[0m\u001b[0my\u001b[0m\u001b[1;33m]\u001b[0m\u001b[1;33m.\u001b[0m\u001b[0mmean\u001b[0m\u001b[1;33m(\u001b[0m\u001b[1;33m)\u001b[0m\u001b[1;33m)\u001b[0m\u001b[1;33m.\u001b[0m\u001b[0mremove\u001b[0m\u001b[1;33m(\u001b[0m\u001b[1;33m)\u001b[0m\u001b[1;33m\u001b[0m\u001b[1;33m\u001b[0m\u001b[0m\n\u001b[0m\u001b[0;32m    579\u001b[0m \u001b[1;33m\u001b[0m\u001b[0m\n\u001b[0;32m    580\u001b[0m     \u001b[1;31m# Draw the regression plot on each facet\u001b[0m\u001b[1;33m\u001b[0m\u001b[1;33m\u001b[0m\u001b[1;33m\u001b[0m\u001b[0m\n",
      "\u001b[1;32m~\\Anaconda3\\lib\\site-packages\\pandas\\core\\generic.py\u001b[0m in \u001b[0;36mstat_func\u001b[1;34m(self, axis, skipna, level, numeric_only, **kwargs)\u001b[0m\n\u001b[0;32m  11473\u001b[0m             \u001b[1;32mreturn\u001b[0m \u001b[0mself\u001b[0m\u001b[1;33m.\u001b[0m\u001b[0m_agg_by_level\u001b[0m\u001b[1;33m(\u001b[0m\u001b[0mname\u001b[0m\u001b[1;33m,\u001b[0m \u001b[0maxis\u001b[0m\u001b[1;33m=\u001b[0m\u001b[0maxis\u001b[0m\u001b[1;33m,\u001b[0m \u001b[0mlevel\u001b[0m\u001b[1;33m=\u001b[0m\u001b[0mlevel\u001b[0m\u001b[1;33m,\u001b[0m \u001b[0mskipna\u001b[0m\u001b[1;33m=\u001b[0m\u001b[0mskipna\u001b[0m\u001b[1;33m)\u001b[0m\u001b[1;33m\u001b[0m\u001b[1;33m\u001b[0m\u001b[0m\n\u001b[0;32m  11474\u001b[0m         return self._reduce(\n\u001b[1;32m> 11475\u001b[1;33m             \u001b[0mfunc\u001b[0m\u001b[1;33m,\u001b[0m \u001b[0mname\u001b[0m\u001b[1;33m=\u001b[0m\u001b[0mname\u001b[0m\u001b[1;33m,\u001b[0m \u001b[0maxis\u001b[0m\u001b[1;33m=\u001b[0m\u001b[0maxis\u001b[0m\u001b[1;33m,\u001b[0m \u001b[0mskipna\u001b[0m\u001b[1;33m=\u001b[0m\u001b[0mskipna\u001b[0m\u001b[1;33m,\u001b[0m \u001b[0mnumeric_only\u001b[0m\u001b[1;33m=\u001b[0m\u001b[0mnumeric_only\u001b[0m\u001b[1;33m\u001b[0m\u001b[1;33m\u001b[0m\u001b[0m\n\u001b[0m\u001b[0;32m  11476\u001b[0m         )\n\u001b[0;32m  11477\u001b[0m \u001b[1;33m\u001b[0m\u001b[0m\n",
      "\u001b[1;32m~\\Anaconda3\\lib\\site-packages\\pandas\\core\\series.py\u001b[0m in \u001b[0;36m_reduce\u001b[1;34m(self, op, name, axis, skipna, numeric_only, filter_type, **kwds)\u001b[0m\n\u001b[0;32m   4238\u001b[0m         \u001b[1;32mif\u001b[0m \u001b[0misinstance\u001b[0m\u001b[1;33m(\u001b[0m\u001b[0mdelegate\u001b[0m\u001b[1;33m,\u001b[0m \u001b[0mExtensionArray\u001b[0m\u001b[1;33m)\u001b[0m\u001b[1;33m:\u001b[0m\u001b[1;33m\u001b[0m\u001b[1;33m\u001b[0m\u001b[0m\n\u001b[0;32m   4239\u001b[0m             \u001b[1;31m# dispatch to ExtensionArray interface\u001b[0m\u001b[1;33m\u001b[0m\u001b[1;33m\u001b[0m\u001b[1;33m\u001b[0m\u001b[0m\n\u001b[1;32m-> 4240\u001b[1;33m             \u001b[1;32mreturn\u001b[0m \u001b[0mdelegate\u001b[0m\u001b[1;33m.\u001b[0m\u001b[0m_reduce\u001b[0m\u001b[1;33m(\u001b[0m\u001b[0mname\u001b[0m\u001b[1;33m,\u001b[0m \u001b[0mskipna\u001b[0m\u001b[1;33m=\u001b[0m\u001b[0mskipna\u001b[0m\u001b[1;33m,\u001b[0m \u001b[1;33m**\u001b[0m\u001b[0mkwds\u001b[0m\u001b[1;33m)\u001b[0m\u001b[1;33m\u001b[0m\u001b[1;33m\u001b[0m\u001b[0m\n\u001b[0m\u001b[0;32m   4241\u001b[0m \u001b[1;33m\u001b[0m\u001b[0m\n\u001b[0;32m   4242\u001b[0m         \u001b[1;32melse\u001b[0m\u001b[1;33m:\u001b[0m\u001b[1;33m\u001b[0m\u001b[1;33m\u001b[0m\u001b[0m\n",
      "\u001b[1;32m~\\Anaconda3\\lib\\site-packages\\pandas\\core\\arrays\\categorical.py\u001b[0m in \u001b[0;36m_reduce\u001b[1;34m(self, name, skipna, **kwargs)\u001b[0m\n\u001b[0;32m   2080\u001b[0m         \u001b[0mfunc\u001b[0m \u001b[1;33m=\u001b[0m \u001b[0mgetattr\u001b[0m\u001b[1;33m(\u001b[0m\u001b[0mself\u001b[0m\u001b[1;33m,\u001b[0m \u001b[0mname\u001b[0m\u001b[1;33m,\u001b[0m \u001b[1;32mNone\u001b[0m\u001b[1;33m)\u001b[0m\u001b[1;33m\u001b[0m\u001b[1;33m\u001b[0m\u001b[0m\n\u001b[0;32m   2081\u001b[0m         \u001b[1;32mif\u001b[0m \u001b[0mfunc\u001b[0m \u001b[1;32mis\u001b[0m \u001b[1;32mNone\u001b[0m\u001b[1;33m:\u001b[0m\u001b[1;33m\u001b[0m\u001b[1;33m\u001b[0m\u001b[0m\n\u001b[1;32m-> 2082\u001b[1;33m             \u001b[1;32mraise\u001b[0m \u001b[0mTypeError\u001b[0m\u001b[1;33m(\u001b[0m\u001b[1;34mf\"Categorical cannot perform the operation {name}\"\u001b[0m\u001b[1;33m)\u001b[0m\u001b[1;33m\u001b[0m\u001b[1;33m\u001b[0m\u001b[0m\n\u001b[0m\u001b[0;32m   2083\u001b[0m         \u001b[1;32mreturn\u001b[0m \u001b[0mfunc\u001b[0m\u001b[1;33m(\u001b[0m\u001b[0mskipna\u001b[0m\u001b[1;33m=\u001b[0m\u001b[0mskipna\u001b[0m\u001b[1;33m,\u001b[0m \u001b[1;33m**\u001b[0m\u001b[0mkwargs\u001b[0m\u001b[1;33m)\u001b[0m\u001b[1;33m\u001b[0m\u001b[1;33m\u001b[0m\u001b[0m\n\u001b[0;32m   2084\u001b[0m \u001b[1;33m\u001b[0m\u001b[0m\n",
      "\u001b[1;31mTypeError\u001b[0m: Categorical cannot perform the operation mean"
     ]
    },
    {
     "data": {
      "image/png": "[encoded data removed]",
      "text/plain": [
       "<Figure size 360x360 with 1 Axes>"
      ]
     },
     "metadata": {
      "needs_background": "light"
     },
     "output_type": "display_data"
    }
   ],
   "source": [
    "#df2=df1[['r1diabe','ragender','hh1rural','raeduc_l','r1fallslp']]\n",
    "sns.lmplot(x=\"r1diabe\", y=\"ragender\", data=df2,logistic=True, y_jitter=.03);"
   ]
  },
  {
   "cell_type": "code",
   "execution_count": 254,
   "metadata": {},
   "outputs": [
    {
     "ename": "TypeError",
     "evalue": "Categorical cannot perform the operation mean",
     "output_type": "error",
     "traceback": [
      "\u001b[1;31m---------------------------------------------------------------------------\u001b[0m",
      "\u001b[1;31mTypeError\u001b[0m                                 Traceback (most recent call last)",
      "\u001b[1;32m<ipython-input-254-6c95a66d30c0>\u001b[0m in \u001b[0;36m<module>\u001b[1;34m\u001b[0m\n\u001b[1;32m----> 1\u001b[1;33m \u001b[0msns\u001b[0m\u001b[1;33m.\u001b[0m\u001b[0mregplot\u001b[0m\u001b[1;33m(\u001b[0m\u001b[0mx\u001b[0m\u001b[1;33m=\u001b[0m\u001b[1;34m\"r1diabe\"\u001b[0m\u001b[1;33m,\u001b[0m \u001b[0my\u001b[0m\u001b[1;33m=\u001b[0m\u001b[1;34m\"ragender\"\u001b[0m\u001b[1;33m,\u001b[0m \u001b[0mdata\u001b[0m\u001b[1;33m=\u001b[0m\u001b[0mdf2\u001b[0m\u001b[1;33m,\u001b[0m\u001b[1;33m)\u001b[0m\u001b[1;33m\u001b[0m\u001b[1;33m\u001b[0m\u001b[0m\n\u001b[0m",
      "\u001b[1;32m~\\Anaconda3\\lib\\site-packages\\seaborn\\regression.py\u001b[0m in \u001b[0;36mregplot\u001b[1;34m(x, y, data, x_estimator, x_bins, x_ci, scatter, fit_reg, ci, n_boot, units, order, logistic, lowess, robust, logx, x_partial, y_partial, truncate, dropna, x_jitter, y_jitter, label, color, marker, scatter_kws, line_kws, ax)\u001b[0m\n\u001b[0;32m    787\u001b[0m     \u001b[0mscatter_kws\u001b[0m\u001b[1;33m[\u001b[0m\u001b[1;34m\"marker\"\u001b[0m\u001b[1;33m]\u001b[0m \u001b[1;33m=\u001b[0m \u001b[0mmarker\u001b[0m\u001b[1;33m\u001b[0m\u001b[1;33m\u001b[0m\u001b[0m\n\u001b[0;32m    788\u001b[0m     \u001b[0mline_kws\u001b[0m \u001b[1;33m=\u001b[0m \u001b[1;33m{\u001b[0m\u001b[1;33m}\u001b[0m \u001b[1;32mif\u001b[0m \u001b[0mline_kws\u001b[0m \u001b[1;32mis\u001b[0m \u001b[1;32mNone\u001b[0m \u001b[1;32melse\u001b[0m \u001b[0mcopy\u001b[0m\u001b[1;33m.\u001b[0m\u001b[0mcopy\u001b[0m\u001b[1;33m(\u001b[0m\u001b[0mline_kws\u001b[0m\u001b[1;33m)\u001b[0m\u001b[1;33m\u001b[0m\u001b[1;33m\u001b[0m\u001b[0m\n\u001b[1;32m--> 789\u001b[1;33m     \u001b[0mplotter\u001b[0m\u001b[1;33m.\u001b[0m\u001b[0mplot\u001b[0m\u001b[1;33m(\u001b[0m\u001b[0max\u001b[0m\u001b[1;33m,\u001b[0m \u001b[0mscatter_kws\u001b[0m\u001b[1;33m,\u001b[0m \u001b[0mline_kws\u001b[0m\u001b[1;33m)\u001b[0m\u001b[1;33m\u001b[0m\u001b[1;33m\u001b[0m\u001b[0m\n\u001b[0m\u001b[0;32m    790\u001b[0m     \u001b[1;32mreturn\u001b[0m \u001b[0max\u001b[0m\u001b[1;33m\u001b[0m\u001b[1;33m\u001b[0m\u001b[0m\n\u001b[0;32m    791\u001b[0m \u001b[1;33m\u001b[0m\u001b[0m\n",
      "\u001b[1;32m~\\Anaconda3\\lib\\site-packages\\seaborn\\regression.py\u001b[0m in \u001b[0;36mplot\u001b[1;34m(self, ax, scatter_kws, line_kws)\u001b[0m\n\u001b[0;32m    325\u001b[0m         \u001b[1;31m# Use the current color cycle state as a default\u001b[0m\u001b[1;33m\u001b[0m\u001b[1;33m\u001b[0m\u001b[1;33m\u001b[0m\u001b[0m\n\u001b[0;32m    326\u001b[0m         \u001b[1;32mif\u001b[0m \u001b[0mself\u001b[0m\u001b[1;33m.\u001b[0m\u001b[0mcolor\u001b[0m \u001b[1;32mis\u001b[0m \u001b[1;32mNone\u001b[0m\u001b[1;33m:\u001b[0m\u001b[1;33m\u001b[0m\u001b[1;33m\u001b[0m\u001b[0m\n\u001b[1;32m--> 327\u001b[1;33m             \u001b[0mlines\u001b[0m\u001b[1;33m,\u001b[0m \u001b[1;33m=\u001b[0m \u001b[0mplt\u001b[0m\u001b[1;33m.\u001b[0m\u001b[0mplot\u001b[0m\u001b[1;33m(\u001b[0m\u001b[0mself\u001b[0m\u001b[1;33m.\u001b[0m\u001b[0mx\u001b[0m\u001b[1;33m.\u001b[0m\u001b[0mmean\u001b[0m\u001b[1;33m(\u001b[0m\u001b[1;33m)\u001b[0m\u001b[1;33m,\u001b[0m \u001b[0mself\u001b[0m\u001b[1;33m.\u001b[0m\u001b[0my\u001b[0m\u001b[1;33m.\u001b[0m\u001b[0mmean\u001b[0m\u001b[1;33m(\u001b[0m\u001b[1;33m)\u001b[0m\u001b[1;33m)\u001b[0m\u001b[1;33m\u001b[0m\u001b[1;33m\u001b[0m\u001b[0m\n\u001b[0m\u001b[0;32m    328\u001b[0m             \u001b[0mcolor\u001b[0m \u001b[1;33m=\u001b[0m \u001b[0mlines\u001b[0m\u001b[1;33m.\u001b[0m\u001b[0mget_color\u001b[0m\u001b[1;33m(\u001b[0m\u001b[1;33m)\u001b[0m\u001b[1;33m\u001b[0m\u001b[1;33m\u001b[0m\u001b[0m\n\u001b[0;32m    329\u001b[0m             \u001b[0mlines\u001b[0m\u001b[1;33m.\u001b[0m\u001b[0mremove\u001b[0m\u001b[1;33m(\u001b[0m\u001b[1;33m)\u001b[0m\u001b[1;33m\u001b[0m\u001b[1;33m\u001b[0m\u001b[0m\n",
      "\u001b[1;32m~\\Anaconda3\\lib\\site-packages\\pandas\\core\\generic.py\u001b[0m in \u001b[0;36mstat_func\u001b[1;34m(self, axis, skipna, level, numeric_only, **kwargs)\u001b[0m\n\u001b[0;32m  11473\u001b[0m             \u001b[1;32mreturn\u001b[0m \u001b[0mself\u001b[0m\u001b[1;33m.\u001b[0m\u001b[0m_agg_by_level\u001b[0m\u001b[1;33m(\u001b[0m\u001b[0mname\u001b[0m\u001b[1;33m,\u001b[0m \u001b[0maxis\u001b[0m\u001b[1;33m=\u001b[0m\u001b[0maxis\u001b[0m\u001b[1;33m,\u001b[0m \u001b[0mlevel\u001b[0m\u001b[1;33m=\u001b[0m\u001b[0mlevel\u001b[0m\u001b[1;33m,\u001b[0m \u001b[0mskipna\u001b[0m\u001b[1;33m=\u001b[0m\u001b[0mskipna\u001b[0m\u001b[1;33m)\u001b[0m\u001b[1;33m\u001b[0m\u001b[1;33m\u001b[0m\u001b[0m\n\u001b[0;32m  11474\u001b[0m         return self._reduce(\n\u001b[1;32m> 11475\u001b[1;33m             \u001b[0mfunc\u001b[0m\u001b[1;33m,\u001b[0m \u001b[0mname\u001b[0m\u001b[1;33m=\u001b[0m\u001b[0mname\u001b[0m\u001b[1;33m,\u001b[0m \u001b[0maxis\u001b[0m\u001b[1;33m=\u001b[0m\u001b[0maxis\u001b[0m\u001b[1;33m,\u001b[0m \u001b[0mskipna\u001b[0m\u001b[1;33m=\u001b[0m\u001b[0mskipna\u001b[0m\u001b[1;33m,\u001b[0m \u001b[0mnumeric_only\u001b[0m\u001b[1;33m=\u001b[0m\u001b[0mnumeric_only\u001b[0m\u001b[1;33m\u001b[0m\u001b[1;33m\u001b[0m\u001b[0m\n\u001b[0m\u001b[0;32m  11476\u001b[0m         )\n\u001b[0;32m  11477\u001b[0m \u001b[1;33m\u001b[0m\u001b[0m\n",
      "\u001b[1;32m~\\Anaconda3\\lib\\site-packages\\pandas\\core\\series.py\u001b[0m in \u001b[0;36m_reduce\u001b[1;34m(self, op, name, axis, skipna, numeric_only, filter_type, **kwds)\u001b[0m\n\u001b[0;32m   4238\u001b[0m         \u001b[1;32mif\u001b[0m \u001b[0misinstance\u001b[0m\u001b[1;33m(\u001b[0m\u001b[0mdelegate\u001b[0m\u001b[1;33m,\u001b[0m \u001b[0mExtensionArray\u001b[0m\u001b[1;33m)\u001b[0m\u001b[1;33m:\u001b[0m\u001b[1;33m\u001b[0m\u001b[1;33m\u001b[0m\u001b[0m\n\u001b[0;32m   4239\u001b[0m             \u001b[1;31m# dispatch to ExtensionArray interface\u001b[0m\u001b[1;33m\u001b[0m\u001b[1;33m\u001b[0m\u001b[1;33m\u001b[0m\u001b[0m\n\u001b[1;32m-> 4240\u001b[1;33m             \u001b[1;32mreturn\u001b[0m \u001b[0mdelegate\u001b[0m\u001b[1;33m.\u001b[0m\u001b[0m_reduce\u001b[0m\u001b[1;33m(\u001b[0m\u001b[0mname\u001b[0m\u001b[1;33m,\u001b[0m \u001b[0mskipna\u001b[0m\u001b[1;33m=\u001b[0m\u001b[0mskipna\u001b[0m\u001b[1;33m,\u001b[0m \u001b[1;33m**\u001b[0m\u001b[0mkwds\u001b[0m\u001b[1;33m)\u001b[0m\u001b[1;33m\u001b[0m\u001b[1;33m\u001b[0m\u001b[0m\n\u001b[0m\u001b[0;32m   4241\u001b[0m \u001b[1;33m\u001b[0m\u001b[0m\n\u001b[0;32m   4242\u001b[0m         \u001b[1;32melse\u001b[0m\u001b[1;33m:\u001b[0m\u001b[1;33m\u001b[0m\u001b[1;33m\u001b[0m\u001b[0m\n",
      "\u001b[1;32m~\\Anaconda3\\lib\\site-packages\\pandas\\core\\arrays\\categorical.py\u001b[0m in \u001b[0;36m_reduce\u001b[1;34m(self, name, skipna, **kwargs)\u001b[0m\n\u001b[0;32m   2080\u001b[0m         \u001b[0mfunc\u001b[0m \u001b[1;33m=\u001b[0m \u001b[0mgetattr\u001b[0m\u001b[1;33m(\u001b[0m\u001b[0mself\u001b[0m\u001b[1;33m,\u001b[0m \u001b[0mname\u001b[0m\u001b[1;33m,\u001b[0m \u001b[1;32mNone\u001b[0m\u001b[1;33m)\u001b[0m\u001b[1;33m\u001b[0m\u001b[1;33m\u001b[0m\u001b[0m\n\u001b[0;32m   2081\u001b[0m         \u001b[1;32mif\u001b[0m \u001b[0mfunc\u001b[0m \u001b[1;32mis\u001b[0m \u001b[1;32mNone\u001b[0m\u001b[1;33m:\u001b[0m\u001b[1;33m\u001b[0m\u001b[1;33m\u001b[0m\u001b[0m\n\u001b[1;32m-> 2082\u001b[1;33m             \u001b[1;32mraise\u001b[0m \u001b[0mTypeError\u001b[0m\u001b[1;33m(\u001b[0m\u001b[1;34mf\"Categorical cannot perform the operation {name}\"\u001b[0m\u001b[1;33m)\u001b[0m\u001b[1;33m\u001b[0m\u001b[1;33m\u001b[0m\u001b[0m\n\u001b[0m\u001b[0;32m   2083\u001b[0m         \u001b[1;32mreturn\u001b[0m \u001b[0mfunc\u001b[0m\u001b[1;33m(\u001b[0m\u001b[0mskipna\u001b[0m\u001b[1;33m=\u001b[0m\u001b[0mskipna\u001b[0m\u001b[1;33m,\u001b[0m \u001b[1;33m**\u001b[0m\u001b[0mkwargs\u001b[0m\u001b[1;33m)\u001b[0m\u001b[1;33m\u001b[0m\u001b[1;33m\u001b[0m\u001b[0m\n\u001b[0;32m   2084\u001b[0m \u001b[1;33m\u001b[0m\u001b[0m\n",
      "\u001b[1;31mTypeError\u001b[0m: Categorical cannot perform the operation mean"
     ]
    },
    {
     "data": {
      "image/png": "[encoded data removed]",
      "text/plain": [
       "<Figure size 432x288 with 1 Axes>"
      ]
     },
     "metadata": {
      "needs_background": "light"
     },
     "output_type": "display_data"
    }
   ],
   "source": [
    "sns.regplot(x=\"r1diabe\", y=\"ragender\", data=df2,)"
   ]
  },
  {
   "cell_type": "code",
   "execution_count": 253,
   "metadata": {},
   "outputs": [
    {
     "ename": "TypeError",
     "evalue": "Categorical cannot perform the operation mean",
     "output_type": "error",
     "traceback": [
      "\u001b[1;31m---------------------------------------------------------------------------\u001b[0m",
      "\u001b[1;31mTypeError\u001b[0m                                 Traceback (most recent call last)",
      "\u001b[1;32m<ipython-input-253-98d02865a1cf>\u001b[0m in \u001b[0;36m<module>\u001b[1;34m\u001b[0m\n\u001b[0;32m      1\u001b[0m sns.lmplot(x=\"r1diabe\", y=\"ragender\", data=df2,\n\u001b[1;32m----> 2\u001b[1;33m            lowess=True);\n\u001b[0m",
      "\u001b[1;32m~\\Anaconda3\\lib\\site-packages\\seaborn\\regression.py\u001b[0m in \u001b[0;36mlmplot\u001b[1;34m(x, y, data, hue, col, row, palette, col_wrap, height, aspect, markers, sharex, sharey, hue_order, col_order, row_order, legend, legend_out, x_estimator, x_bins, x_ci, scatter, fit_reg, ci, n_boot, units, order, logistic, lowess, robust, logx, x_partial, y_partial, truncate, x_jitter, y_jitter, scatter_kws, line_kws, size)\u001b[0m\n\u001b[0;32m    576\u001b[0m     \u001b[1;32mif\u001b[0m \u001b[0msharex\u001b[0m\u001b[1;33m:\u001b[0m\u001b[1;33m\u001b[0m\u001b[1;33m\u001b[0m\u001b[0m\n\u001b[0;32m    577\u001b[0m         \u001b[1;32mfor\u001b[0m \u001b[0max\u001b[0m \u001b[1;32min\u001b[0m \u001b[0mfacets\u001b[0m\u001b[1;33m.\u001b[0m\u001b[0maxes\u001b[0m\u001b[1;33m.\u001b[0m\u001b[0mflat\u001b[0m\u001b[1;33m:\u001b[0m\u001b[1;33m\u001b[0m\u001b[1;33m\u001b[0m\u001b[0m\n\u001b[1;32m--> 578\u001b[1;33m             \u001b[0max\u001b[0m\u001b[1;33m.\u001b[0m\u001b[0mscatter\u001b[0m\u001b[1;33m(\u001b[0m\u001b[0mdata\u001b[0m\u001b[1;33m[\u001b[0m\u001b[0mx\u001b[0m\u001b[1;33m]\u001b[0m\u001b[1;33m,\u001b[0m \u001b[0mnp\u001b[0m\u001b[1;33m.\u001b[0m\u001b[0mones\u001b[0m\u001b[1;33m(\u001b[0m\u001b[0mlen\u001b[0m\u001b[1;33m(\u001b[0m\u001b[0mdata\u001b[0m\u001b[1;33m)\u001b[0m\u001b[1;33m)\u001b[0m \u001b[1;33m*\u001b[0m \u001b[0mdata\u001b[0m\u001b[1;33m[\u001b[0m\u001b[0my\u001b[0m\u001b[1;33m]\u001b[0m\u001b[1;33m.\u001b[0m\u001b[0mmean\u001b[0m\u001b[1;33m(\u001b[0m\u001b[1;33m)\u001b[0m\u001b[1;33m)\u001b[0m\u001b[1;33m.\u001b[0m\u001b[0mremove\u001b[0m\u001b[1;33m(\u001b[0m\u001b[1;33m)\u001b[0m\u001b[1;33m\u001b[0m\u001b[1;33m\u001b[0m\u001b[0m\n\u001b[0m\u001b[0;32m    579\u001b[0m \u001b[1;33m\u001b[0m\u001b[0m\n\u001b[0;32m    580\u001b[0m     \u001b[1;31m# Draw the regression plot on each facet\u001b[0m\u001b[1;33m\u001b[0m\u001b[1;33m\u001b[0m\u001b[1;33m\u001b[0m\u001b[0m\n",
      "\u001b[1;32m~\\Anaconda3\\lib\\site-packages\\pandas\\core\\generic.py\u001b[0m in \u001b[0;36mstat_func\u001b[1;34m(self, axis, skipna, level, numeric_only, **kwargs)\u001b[0m\n\u001b[0;32m  11473\u001b[0m             \u001b[1;32mreturn\u001b[0m \u001b[0mself\u001b[0m\u001b[1;33m.\u001b[0m\u001b[0m_agg_by_level\u001b[0m\u001b[1;33m(\u001b[0m\u001b[0mname\u001b[0m\u001b[1;33m,\u001b[0m \u001b[0maxis\u001b[0m\u001b[1;33m=\u001b[0m\u001b[0maxis\u001b[0m\u001b[1;33m,\u001b[0m \u001b[0mlevel\u001b[0m\u001b[1;33m=\u001b[0m\u001b[0mlevel\u001b[0m\u001b[1;33m,\u001b[0m \u001b[0mskipna\u001b[0m\u001b[1;33m=\u001b[0m\u001b[0mskipna\u001b[0m\u001b[1;33m)\u001b[0m\u001b[1;33m\u001b[0m\u001b[1;33m\u001b[0m\u001b[0m\n\u001b[0;32m  11474\u001b[0m         return self._reduce(\n\u001b[1;32m> 11475\u001b[1;33m             \u001b[0mfunc\u001b[0m\u001b[1;33m,\u001b[0m \u001b[0mname\u001b[0m\u001b[1;33m=\u001b[0m\u001b[0mname\u001b[0m\u001b[1;33m,\u001b[0m \u001b[0maxis\u001b[0m\u001b[1;33m=\u001b[0m\u001b[0maxis\u001b[0m\u001b[1;33m,\u001b[0m \u001b[0mskipna\u001b[0m\u001b[1;33m=\u001b[0m\u001b[0mskipna\u001b[0m\u001b[1;33m,\u001b[0m \u001b[0mnumeric_only\u001b[0m\u001b[1;33m=\u001b[0m\u001b[0mnumeric_only\u001b[0m\u001b[1;33m\u001b[0m\u001b[1;33m\u001b[0m\u001b[0m\n\u001b[0m\u001b[0;32m  11476\u001b[0m         )\n\u001b[0;32m  11477\u001b[0m \u001b[1;33m\u001b[0m\u001b[0m\n",
      "\u001b[1;32m~\\Anaconda3\\lib\\site-packages\\pandas\\core\\series.py\u001b[0m in \u001b[0;36m_reduce\u001b[1;34m(self, op, name, axis, skipna, numeric_only, filter_type, **kwds)\u001b[0m\n\u001b[0;32m   4238\u001b[0m         \u001b[1;32mif\u001b[0m \u001b[0misinstance\u001b[0m\u001b[1;33m(\u001b[0m\u001b[0mdelegate\u001b[0m\u001b[1;33m,\u001b[0m \u001b[0mExtensionArray\u001b[0m\u001b[1;33m)\u001b[0m\u001b[1;33m:\u001b[0m\u001b[1;33m\u001b[0m\u001b[1;33m\u001b[0m\u001b[0m\n\u001b[0;32m   4239\u001b[0m             \u001b[1;31m# dispatch to ExtensionArray interface\u001b[0m\u001b[1;33m\u001b[0m\u001b[1;33m\u001b[0m\u001b[1;33m\u001b[0m\u001b[0m\n\u001b[1;32m-> 4240\u001b[1;33m             \u001b[1;32mreturn\u001b[0m \u001b[0mdelegate\u001b[0m\u001b[1;33m.\u001b[0m\u001b[0m_reduce\u001b[0m\u001b[1;33m(\u001b[0m\u001b[0mname\u001b[0m\u001b[1;33m,\u001b[0m \u001b[0mskipna\u001b[0m\u001b[1;33m=\u001b[0m\u001b[0mskipna\u001b[0m\u001b[1;33m,\u001b[0m \u001b[1;33m**\u001b[0m\u001b[0mkwds\u001b[0m\u001b[1;33m)\u001b[0m\u001b[1;33m\u001b[0m\u001b[1;33m\u001b[0m\u001b[0m\n\u001b[0m\u001b[0;32m   4241\u001b[0m \u001b[1;33m\u001b[0m\u001b[0m\n\u001b[0;32m   4242\u001b[0m         \u001b[1;32melse\u001b[0m\u001b[1;33m:\u001b[0m\u001b[1;33m\u001b[0m\u001b[1;33m\u001b[0m\u001b[0m\n",
      "\u001b[1;32m~\\Anaconda3\\lib\\site-packages\\pandas\\core\\arrays\\categorical.py\u001b[0m in \u001b[0;36m_reduce\u001b[1;34m(self, name, skipna, **kwargs)\u001b[0m\n\u001b[0;32m   2080\u001b[0m         \u001b[0mfunc\u001b[0m \u001b[1;33m=\u001b[0m \u001b[0mgetattr\u001b[0m\u001b[1;33m(\u001b[0m\u001b[0mself\u001b[0m\u001b[1;33m,\u001b[0m \u001b[0mname\u001b[0m\u001b[1;33m,\u001b[0m \u001b[1;32mNone\u001b[0m\u001b[1;33m)\u001b[0m\u001b[1;33m\u001b[0m\u001b[1;33m\u001b[0m\u001b[0m\n\u001b[0;32m   2081\u001b[0m         \u001b[1;32mif\u001b[0m \u001b[0mfunc\u001b[0m \u001b[1;32mis\u001b[0m \u001b[1;32mNone\u001b[0m\u001b[1;33m:\u001b[0m\u001b[1;33m\u001b[0m\u001b[1;33m\u001b[0m\u001b[0m\n\u001b[1;32m-> 2082\u001b[1;33m             \u001b[1;32mraise\u001b[0m \u001b[0mTypeError\u001b[0m\u001b[1;33m(\u001b[0m\u001b[1;34mf\"Categorical cannot perform the operation {name}\"\u001b[0m\u001b[1;33m)\u001b[0m\u001b[1;33m\u001b[0m\u001b[1;33m\u001b[0m\u001b[0m\n\u001b[0m\u001b[0;32m   2083\u001b[0m         \u001b[1;32mreturn\u001b[0m \u001b[0mfunc\u001b[0m\u001b[1;33m(\u001b[0m\u001b[0mskipna\u001b[0m\u001b[1;33m=\u001b[0m\u001b[0mskipna\u001b[0m\u001b[1;33m,\u001b[0m \u001b[1;33m**\u001b[0m\u001b[0mkwargs\u001b[0m\u001b[1;33m)\u001b[0m\u001b[1;33m\u001b[0m\u001b[1;33m\u001b[0m\u001b[0m\n\u001b[0;32m   2084\u001b[0m \u001b[1;33m\u001b[0m\u001b[0m\n",
      "\u001b[1;31mTypeError\u001b[0m: Categorical cannot perform the operation mean"
     ]
    },
    {
     "data": {
      "image/png": "[encoded data removed]",
      "text/plain": [
       "<Figure size 360x360 with 1 Axes>"
      ]
     },
     "metadata": {
      "needs_background": "light"
     },
     "output_type": "display_data"
    }
   ],
   "source": [
    "sns.lmplot(x=\"r1diabe\", y=\"ragender\", data=df2,\n",
    "           lowess=True);"
   ]
  },
  {
   "cell_type": "code",
   "execution_count": 223,
   "metadata": {},
   "outputs": [
    {
     "data": {
      "text/plain": [
       "pandas.core.frame.DataFrame"
      ]
     },
     "execution_count": 223,
     "metadata": {},
     "output_type": "execute_result"
    }
   ],
   "source": [
    "type(df1)"
   ]
  },
  {
   "cell_type": "code",
   "execution_count": 234,
   "metadata": {},
   "outputs": [
    {
     "data": {
      "text/html": [
       "<div>\n",
       "<style scoped>\n",
       "    .dataframe tbody tr th:only-of-type {\n",
       "        vertical-align: middle;\n",
       "    }\n",
       "\n",
       "    .dataframe tbody tr th {\n",
       "        vertical-align: top;\n",
       "    }\n",
       "\n",
       "    .dataframe thead th {\n",
       "        text-align: right;\n",
       "    }\n",
       "</style>\n",
       "<table border=\"1\" class=\"dataframe\">\n",
       "  <thead>\n",
       "    <tr style=\"text-align: right;\">\n",
       "      <th></th>\n",
       "      <th>r1agey</th>\n",
       "      <th>ragender</th>\n",
       "    </tr>\n",
       "    <tr>\n",
       "      <th>prim_key</th>\n",
       "      <th></th>\n",
       "      <th></th>\n",
       "    </tr>\n",
       "  </thead>\n",
       "  <tbody>\n",
       "    <tr>\n",
       "      <th>101000100040101</th>\n",
       "      <td>70</td>\n",
       "      <td>1.man</td>\n",
       "    </tr>\n",
       "    <tr>\n",
       "      <th>101000100040102</th>\n",
       "      <td>68</td>\n",
       "      <td>2.woman</td>\n",
       "    </tr>\n",
       "    <tr>\n",
       "      <th>101000100130102</th>\n",
       "      <td>51</td>\n",
       "      <td>2.woman</td>\n",
       "    </tr>\n",
       "    <tr>\n",
       "      <th>101000100130101</th>\n",
       "      <td>54</td>\n",
       "      <td>1.man</td>\n",
       "    </tr>\n",
       "    <tr>\n",
       "      <th>101000100130109</th>\n",
       "      <td>85</td>\n",
       "      <td>2.woman</td>\n",
       "    </tr>\n",
       "    <tr>\n",
       "      <th>...</th>\n",
       "      <td>...</td>\n",
       "      <td>...</td>\n",
       "    </tr>\n",
       "    <tr>\n",
       "      <th>136242502110101</th>\n",
       "      <td>53</td>\n",
       "      <td>1.man</td>\n",
       "    </tr>\n",
       "    <tr>\n",
       "      <th>136242502110102</th>\n",
       "      <td>43</td>\n",
       "      <td>2.woman</td>\n",
       "    </tr>\n",
       "    <tr>\n",
       "      <th>136242502730102</th>\n",
       "      <td>40</td>\n",
       "      <td>2.woman</td>\n",
       "    </tr>\n",
       "    <tr>\n",
       "      <th>136242502730101</th>\n",
       "      <td>66</td>\n",
       "      <td>1.man</td>\n",
       "    </tr>\n",
       "    <tr>\n",
       "      <th>136242503090101</th>\n",
       "      <td>67</td>\n",
       "      <td>1.man</td>\n",
       "    </tr>\n",
       "  </tbody>\n",
       "</table>\n",
       "<p>72262 rows × 2 columns</p>\n",
       "</div>"
      ],
      "text/plain": [
       "                 r1agey ragender\n",
       "prim_key                        \n",
       "101000100040101      70    1.man\n",
       "101000100040102      68  2.woman\n",
       "101000100130102      51  2.woman\n",
       "101000100130101      54    1.man\n",
       "101000100130109      85  2.woman\n",
       "...                 ...      ...\n",
       "136242502110101      53    1.man\n",
       "136242502110102      43  2.woman\n",
       "136242502730102      40  2.woman\n",
       "136242502730101      66    1.man\n",
       "136242503090101      67    1.man\n",
       "\n",
       "[72262 rows x 2 columns]"
      ]
     },
     "execution_count": 234,
     "metadata": {},
     "output_type": "execute_result"
    }
   ],
   "source": [
    "dfplot"
   ]
  },
  {
   "cell_type": "code",
   "execution_count": 236,
   "metadata": {},
   "outputs": [
    {
     "data": {
      "text/plain": [
       "<matplotlib.axes._subplots.AxesSubplot at 0x1f39e9a0898>"
      ]
     },
     "execution_count": 236,
     "metadata": {},
     "output_type": "execute_result"
    },
    {
     "data": {
      "image/png": "[encoded data removed]",
      "text/plain": [
       "<Figure size 432x288 with 1 Axes>"
      ]
     },
     "metadata": {
      "needs_background": "light"
     },
     "output_type": "display_data"
    }
   ],
   "source": [
    "import seaborn as sns\n",
    "dfplot=df1[['r1agey','ragender']]\n",
    "\n",
    "#sns.pairplot(dfplot)\n",
    "\n",
    "sns.boxplot(x=\"r1agey\", y=\"ragender\", data=dfplot)"
   ]
  },
  {
   "cell_type": "code",
   "execution_count": 217,
   "metadata": {},
   "outputs": [
    {
     "name": "stderr",
     "output_type": "stream",
     "text": [
      "C:\\Users\\Kirti\\Anaconda3\\lib\\site-packages\\sklearn\\linear_model\\_logistic.py:765: ConvergenceWarning: lbfgs failed to converge (status=1):\n",
      "STOP: TOTAL NO. of ITERATIONS REACHED LIMIT.\n",
      "\n",
      "Increase the number of iterations (max_iter) or scale the data as shown in:\n",
      "    https://scikit-learn.org/stable/modules/preprocessing.html\n",
      "Please also refer to the documentation for alternative solver options:\n",
      "    https://scikit-learn.org/stable/modules/linear_model.html#logistic-regression\n",
      "  extra_warning_msg=_LOGISTIC_SOLVER_CONVERGENCE_MSG)\n"
     ]
    },
    {
     "ename": "ValueError",
     "evalue": "Unable to coerce to Series, length must be 7200: given 1",
     "output_type": "error",
     "traceback": [
      "\u001b[1;31m---------------------------------------------------------------------------\u001b[0m",
      "\u001b[1;31mValueError\u001b[0m                                Traceback (most recent call last)",
      "\u001b[1;32m<ipython-input-217-e337a76a93a2>\u001b[0m in \u001b[0;36m<module>\u001b[1;34m\u001b[0m\n\u001b[0;32m      8\u001b[0m \u001b[1;31m#X_test = np.linspace(-5, 10, 300)\u001b[0m\u001b[1;33m\u001b[0m\u001b[1;33m\u001b[0m\u001b[1;33m\u001b[0m\u001b[0m\n\u001b[0;32m      9\u001b[0m \u001b[1;32mfrom\u001b[0m \u001b[0mscipy\u001b[0m\u001b[1;33m.\u001b[0m\u001b[0mspecial\u001b[0m \u001b[1;32mimport\u001b[0m \u001b[0mexpit\u001b[0m\u001b[1;33m\u001b[0m\u001b[1;33m\u001b[0m\u001b[0m\n\u001b[1;32m---> 10\u001b[1;33m \u001b[0mloss\u001b[0m \u001b[1;33m=\u001b[0m \u001b[0mexpit\u001b[0m\u001b[1;33m(\u001b[0m\u001b[0mX_test\u001b[0m \u001b[1;33m*\u001b[0m \u001b[0mlogreg\u001b[0m\u001b[1;33m.\u001b[0m\u001b[0mcoef_\u001b[0m \u001b[1;33m+\u001b[0m \u001b[0mlogreg\u001b[0m\u001b[1;33m.\u001b[0m\u001b[0mintercept_\u001b[0m\u001b[1;33m)\u001b[0m\u001b[1;33m.\u001b[0m\u001b[0mr1cancre_1\u001b[0m\u001b[1;33m.\u001b[0m\u001b[0myes\u001b[0m\u001b[1;33m(\u001b[0m\u001b[1;33m)\u001b[0m\u001b[1;33m\u001b[0m\u001b[1;33m\u001b[0m\u001b[0m\n\u001b[0m\u001b[0;32m     11\u001b[0m \u001b[0mplt\u001b[0m\u001b[1;33m.\u001b[0m\u001b[0mplot\u001b[0m\u001b[1;33m(\u001b[0m\u001b[0mX_test\u001b[0m\u001b[1;33m,\u001b[0m \u001b[0mloss\u001b[0m\u001b[1;33m,\u001b[0m \u001b[0mcolor\u001b[0m\u001b[1;33m=\u001b[0m\u001b[1;34m\"red\"\u001b[0m\u001b[1;33m,\u001b[0m \u001b[0mlinewidth\u001b[0m\u001b[1;33m=\u001b[0m\u001b[1;36m3\u001b[0m\u001b[1;33m)\u001b[0m\u001b[1;33m\u001b[0m\u001b[1;33m\u001b[0m\u001b[0m\n\u001b[0;32m     12\u001b[0m \u001b[1;33m\u001b[0m\u001b[0m\n",
      "\u001b[1;32m~\\Anaconda3\\lib\\site-packages\\pandas\\core\\ops\\__init__.py\u001b[0m in \u001b[0;36mf\u001b[1;34m(self, other, axis, level, fill_value)\u001b[0m\n\u001b[0;32m    649\u001b[0m         \u001b[1;31m# TODO: why are we passing flex=True instead of flex=not special?\u001b[0m\u001b[1;33m\u001b[0m\u001b[1;33m\u001b[0m\u001b[1;33m\u001b[0m\u001b[0m\n\u001b[0;32m    650\u001b[0m         \u001b[1;31m#  15 tests fail if we pass flex=not special instead\u001b[0m\u001b[1;33m\u001b[0m\u001b[1;33m\u001b[0m\u001b[1;33m\u001b[0m\u001b[0m\n\u001b[1;32m--> 651\u001b[1;33m         \u001b[0mself\u001b[0m\u001b[1;33m,\u001b[0m \u001b[0mother\u001b[0m \u001b[1;33m=\u001b[0m \u001b[0m_align_method_FRAME\u001b[0m\u001b[1;33m(\u001b[0m\u001b[0mself\u001b[0m\u001b[1;33m,\u001b[0m \u001b[0mother\u001b[0m\u001b[1;33m,\u001b[0m \u001b[0maxis\u001b[0m\u001b[1;33m,\u001b[0m \u001b[0mflex\u001b[0m\u001b[1;33m=\u001b[0m\u001b[1;32mTrue\u001b[0m\u001b[1;33m,\u001b[0m \u001b[0mlevel\u001b[0m\u001b[1;33m=\u001b[0m\u001b[0mlevel\u001b[0m\u001b[1;33m)\u001b[0m\u001b[1;33m\u001b[0m\u001b[1;33m\u001b[0m\u001b[0m\n\u001b[0m\u001b[0;32m    652\u001b[0m \u001b[1;33m\u001b[0m\u001b[0m\n\u001b[0;32m    653\u001b[0m         \u001b[1;32mif\u001b[0m \u001b[0misinstance\u001b[0m\u001b[1;33m(\u001b[0m\u001b[0mother\u001b[0m\u001b[1;33m,\u001b[0m \u001b[0mABCDataFrame\u001b[0m\u001b[1;33m)\u001b[0m\u001b[1;33m:\u001b[0m\u001b[1;33m\u001b[0m\u001b[1;33m\u001b[0m\u001b[0m\n",
      "\u001b[1;32m~\\Anaconda3\\lib\\site-packages\\pandas\\core\\ops\\__init__.py\u001b[0m in \u001b[0;36m_align_method_FRAME\u001b[1;34m(left, right, axis, flex, level)\u001b[0m\n\u001b[0;32m    472\u001b[0m \u001b[1;33m\u001b[0m\u001b[0m\n\u001b[0;32m    473\u001b[0m         \u001b[1;32mif\u001b[0m \u001b[0mright\u001b[0m\u001b[1;33m.\u001b[0m\u001b[0mndim\u001b[0m \u001b[1;33m==\u001b[0m \u001b[1;36m1\u001b[0m\u001b[1;33m:\u001b[0m\u001b[1;33m\u001b[0m\u001b[1;33m\u001b[0m\u001b[0m\n\u001b[1;32m--> 474\u001b[1;33m             \u001b[0mright\u001b[0m \u001b[1;33m=\u001b[0m \u001b[0mto_series\u001b[0m\u001b[1;33m(\u001b[0m\u001b[0mright\u001b[0m\u001b[1;33m)\u001b[0m\u001b[1;33m\u001b[0m\u001b[1;33m\u001b[0m\u001b[0m\n\u001b[0m\u001b[0;32m    475\u001b[0m \u001b[1;33m\u001b[0m\u001b[0m\n\u001b[0;32m    476\u001b[0m         \u001b[1;32melif\u001b[0m \u001b[0mright\u001b[0m\u001b[1;33m.\u001b[0m\u001b[0mndim\u001b[0m \u001b[1;33m==\u001b[0m \u001b[1;36m2\u001b[0m\u001b[1;33m:\u001b[0m\u001b[1;33m\u001b[0m\u001b[1;33m\u001b[0m\u001b[0m\n",
      "\u001b[1;32m~\\Anaconda3\\lib\\site-packages\\pandas\\core\\ops\\__init__.py\u001b[0m in \u001b[0;36mto_series\u001b[1;34m(right)\u001b[0m\n\u001b[0;32m    464\u001b[0m             \u001b[1;32mif\u001b[0m \u001b[0mlen\u001b[0m\u001b[1;33m(\u001b[0m\u001b[0mleft\u001b[0m\u001b[1;33m.\u001b[0m\u001b[0mcolumns\u001b[0m\u001b[1;33m)\u001b[0m \u001b[1;33m!=\u001b[0m \u001b[0mlen\u001b[0m\u001b[1;33m(\u001b[0m\u001b[0mright\u001b[0m\u001b[1;33m)\u001b[0m\u001b[1;33m:\u001b[0m\u001b[1;33m\u001b[0m\u001b[1;33m\u001b[0m\u001b[0m\n\u001b[0;32m    465\u001b[0m                 raise ValueError(\n\u001b[1;32m--> 466\u001b[1;33m                     \u001b[0mmsg\u001b[0m\u001b[1;33m.\u001b[0m\u001b[0mformat\u001b[0m\u001b[1;33m(\u001b[0m\u001b[0mreq_len\u001b[0m\u001b[1;33m=\u001b[0m\u001b[0mlen\u001b[0m\u001b[1;33m(\u001b[0m\u001b[0mleft\u001b[0m\u001b[1;33m.\u001b[0m\u001b[0mcolumns\u001b[0m\u001b[1;33m)\u001b[0m\u001b[1;33m,\u001b[0m \u001b[0mgiven_len\u001b[0m\u001b[1;33m=\u001b[0m\u001b[0mlen\u001b[0m\u001b[1;33m(\u001b[0m\u001b[0mright\u001b[0m\u001b[1;33m)\u001b[0m\u001b[1;33m)\u001b[0m\u001b[1;33m\u001b[0m\u001b[1;33m\u001b[0m\u001b[0m\n\u001b[0m\u001b[0;32m    467\u001b[0m                 )\n\u001b[0;32m    468\u001b[0m             \u001b[0mright\u001b[0m \u001b[1;33m=\u001b[0m \u001b[0mleft\u001b[0m\u001b[1;33m.\u001b[0m\u001b[0m_constructor_sliced\u001b[0m\u001b[1;33m(\u001b[0m\u001b[0mright\u001b[0m\u001b[1;33m,\u001b[0m \u001b[0mindex\u001b[0m\u001b[1;33m=\u001b[0m\u001b[0mleft\u001b[0m\u001b[1;33m.\u001b[0m\u001b[0mcolumns\u001b[0m\u001b[1;33m)\u001b[0m\u001b[1;33m\u001b[0m\u001b[1;33m\u001b[0m\u001b[0m\n",
      "\u001b[1;31mValueError\u001b[0m: Unable to coerce to Series, length must be 7200: given 1"
     ]
    },
    {
     "data": {
      "image/png": "[encoded data removed]",
      "text/plain": [
       "<Figure size 432x288 with 1 Axes>"
      ]
     },
     "metadata": {
      "needs_background": "light"
     },
     "output_type": "display_data"
    }
   ],
   "source": [
    "import matplotlib.pyplot as plt\n",
    "plt.figure()\n",
    "logreg=LogisticRegression()\n",
    "logreg.fit(X_train, y_train)\n",
    "plt.clf()\n",
    "plt.scatter(df2['r1cancre_1.yes'],df2['r1cancre_1.yes'])\n",
    "#plt.scatter(X.r1cancre_0.no(), y, color=\"black\", zorder=20)\n",
    "#X_test = np.linspace(-5, 10, 300)\n",
    "from scipy.special import expit\n",
    "loss = expit(X_test * logreg.coef_ + logreg.intercept_).r1cancre_1.yes()\n",
    "plt.plot(X_test, loss, color=\"red\", linewidth=3)\n",
    "\n",
    "#plt.scatter(X.ravel(), y, color=\"black\", zorder=20)"
   ]
  },
  {
   "cell_type": "code",
   "execution_count": 193,
   "metadata": {},
   "outputs": [
    {
     "data": {
      "text/plain": [
       "1.0000052452087402"
      ]
     },
     "execution_count": 193,
     "metadata": {},
     "output_type": "execute_result"
    }
   ],
   "source": [
    "data_numeric['r1wtresp'].mean()"
   ]
  },
  {
   "cell_type": "code",
   "execution_count": 187,
   "metadata": {},
   "outputs": [
    {
     "ename": "ValueError",
     "evalue": "could not convert string to float: 'r1wtresp'",
     "output_type": "error",
     "traceback": [
      "\u001b[1;31m---------------------------------------------------------------------------\u001b[0m",
      "\u001b[1;31mValueError\u001b[0m                                Traceback (most recent call last)",
      "\u001b[1;32m<ipython-input-187-b2eaad4508e0>\u001b[0m in \u001b[0;36m<module>\u001b[1;34m\u001b[0m\n\u001b[0;32m      2\u001b[0m \u001b[1;31m#sklearn.linear_model.SGDClassifier\u001b[0m\u001b[1;33m\u001b[0m\u001b[1;33m\u001b[0m\u001b[1;33m\u001b[0m\u001b[0m\n\u001b[0;32m      3\u001b[0m \u001b[0mweightedlogreg\u001b[0m\u001b[1;33m=\u001b[0m\u001b[0mSGDClassifier\u001b[0m\u001b[1;33m(\u001b[0m\u001b[1;33m)\u001b[0m\u001b[1;33m\u001b[0m\u001b[1;33m\u001b[0m\u001b[0m\n\u001b[1;32m----> 4\u001b[1;33m \u001b[0mweightedlogreg\u001b[0m\u001b[1;33m.\u001b[0m\u001b[0mfit\u001b[0m\u001b[1;33m(\u001b[0m\u001b[0mX_train\u001b[0m\u001b[1;33m,\u001b[0m \u001b[0my_train\u001b[0m\u001b[1;33m,\u001b[0m\u001b[0msample_weight\u001b[0m\u001b[1;33m=\u001b[0m\u001b[1;34m'r1wtresp'\u001b[0m\u001b[1;33m)\u001b[0m\u001b[1;33m\u001b[0m\u001b[1;33m\u001b[0m\u001b[0m\n\u001b[0m",
      "\u001b[1;32m~\\Anaconda3\\lib\\site-packages\\sklearn\\linear_model\\_stochastic_gradient.py\u001b[0m in \u001b[0;36mfit\u001b[1;34m(self, X, y, coef_init, intercept_init, sample_weight)\u001b[0m\n\u001b[0;32m    730\u001b[0m                          \u001b[0mloss\u001b[0m\u001b[1;33m=\u001b[0m\u001b[0mself\u001b[0m\u001b[1;33m.\u001b[0m\u001b[0mloss\u001b[0m\u001b[1;33m,\u001b[0m \u001b[0mlearning_rate\u001b[0m\u001b[1;33m=\u001b[0m\u001b[0mself\u001b[0m\u001b[1;33m.\u001b[0m\u001b[0mlearning_rate\u001b[0m\u001b[1;33m,\u001b[0m\u001b[1;33m\u001b[0m\u001b[1;33m\u001b[0m\u001b[0m\n\u001b[0;32m    731\u001b[0m                          \u001b[0mcoef_init\u001b[0m\u001b[1;33m=\u001b[0m\u001b[0mcoef_init\u001b[0m\u001b[1;33m,\u001b[0m \u001b[0mintercept_init\u001b[0m\u001b[1;33m=\u001b[0m\u001b[0mintercept_init\u001b[0m\u001b[1;33m,\u001b[0m\u001b[1;33m\u001b[0m\u001b[1;33m\u001b[0m\u001b[0m\n\u001b[1;32m--> 732\u001b[1;33m                          sample_weight=sample_weight)\n\u001b[0m\u001b[0;32m    733\u001b[0m \u001b[1;33m\u001b[0m\u001b[0m\n\u001b[0;32m    734\u001b[0m \u001b[1;33m\u001b[0m\u001b[0m\n",
      "\u001b[1;32m~\\Anaconda3\\lib\\site-packages\\sklearn\\linear_model\\_stochastic_gradient.py\u001b[0m in \u001b[0;36m_fit\u001b[1;34m(self, X, y, alpha, C, loss, learning_rate, coef_init, intercept_init, sample_weight)\u001b[0m\n\u001b[0;32m    568\u001b[0m \u001b[1;33m\u001b[0m\u001b[0m\n\u001b[0;32m    569\u001b[0m         self._partial_fit(X, y, alpha, C, loss, learning_rate, self.max_iter,\n\u001b[1;32m--> 570\u001b[1;33m                           classes, sample_weight, coef_init, intercept_init)\n\u001b[0m\u001b[0;32m    571\u001b[0m \u001b[1;33m\u001b[0m\u001b[0m\n\u001b[0;32m    572\u001b[0m         if (self.tol is not None and self.tol > -np.inf\n",
      "\u001b[1;32m~\\Anaconda3\\lib\\site-packages\\sklearn\\linear_model\\_stochastic_gradient.py\u001b[0m in \u001b[0;36m_partial_fit\u001b[1;34m(self, X, y, alpha, C, loss, learning_rate, max_iter, classes, sample_weight, coef_init, intercept_init)\u001b[0m\n\u001b[0;32m    504\u001b[0m         self._expanded_class_weight = compute_class_weight(\n\u001b[0;32m    505\u001b[0m             self.class_weight, classes=self.classes_, y=y)\n\u001b[1;32m--> 506\u001b[1;33m         \u001b[0msample_weight\u001b[0m \u001b[1;33m=\u001b[0m \u001b[0m_check_sample_weight\u001b[0m\u001b[1;33m(\u001b[0m\u001b[0msample_weight\u001b[0m\u001b[1;33m,\u001b[0m \u001b[0mX\u001b[0m\u001b[1;33m)\u001b[0m\u001b[1;33m\u001b[0m\u001b[1;33m\u001b[0m\u001b[0m\n\u001b[0m\u001b[0;32m    507\u001b[0m \u001b[1;33m\u001b[0m\u001b[0m\n\u001b[0;32m    508\u001b[0m         \u001b[1;32mif\u001b[0m \u001b[0mgetattr\u001b[0m\u001b[1;33m(\u001b[0m\u001b[0mself\u001b[0m\u001b[1;33m,\u001b[0m \u001b[1;34m\"coef_\"\u001b[0m\u001b[1;33m,\u001b[0m \u001b[1;32mNone\u001b[0m\u001b[1;33m)\u001b[0m \u001b[1;32mis\u001b[0m \u001b[1;32mNone\u001b[0m \u001b[1;32mor\u001b[0m \u001b[0mcoef_init\u001b[0m \u001b[1;32mis\u001b[0m \u001b[1;32mnot\u001b[0m \u001b[1;32mNone\u001b[0m\u001b[1;33m:\u001b[0m\u001b[1;33m\u001b[0m\u001b[1;33m\u001b[0m\u001b[0m\n",
      "\u001b[1;32m~\\Anaconda3\\lib\\site-packages\\sklearn\\utils\\validation.py\u001b[0m in \u001b[0;36m_check_sample_weight\u001b[1;34m(sample_weight, X, dtype, copy)\u001b[0m\n\u001b[0;32m   1376\u001b[0m         sample_weight = check_array(\n\u001b[0;32m   1377\u001b[0m             \u001b[0msample_weight\u001b[0m\u001b[1;33m,\u001b[0m \u001b[0maccept_sparse\u001b[0m\u001b[1;33m=\u001b[0m\u001b[1;32mFalse\u001b[0m\u001b[1;33m,\u001b[0m \u001b[0mensure_2d\u001b[0m\u001b[1;33m=\u001b[0m\u001b[1;32mFalse\u001b[0m\u001b[1;33m,\u001b[0m \u001b[0mdtype\u001b[0m\u001b[1;33m=\u001b[0m\u001b[0mdtype\u001b[0m\u001b[1;33m,\u001b[0m\u001b[1;33m\u001b[0m\u001b[1;33m\u001b[0m\u001b[0m\n\u001b[1;32m-> 1378\u001b[1;33m             \u001b[0morder\u001b[0m\u001b[1;33m=\u001b[0m\u001b[1;34m\"C\"\u001b[0m\u001b[1;33m,\u001b[0m \u001b[0mcopy\u001b[0m\u001b[1;33m=\u001b[0m\u001b[0mcopy\u001b[0m\u001b[1;33m\u001b[0m\u001b[1;33m\u001b[0m\u001b[0m\n\u001b[0m\u001b[0;32m   1379\u001b[0m         )\n\u001b[0;32m   1380\u001b[0m         \u001b[1;32mif\u001b[0m \u001b[0msample_weight\u001b[0m\u001b[1;33m.\u001b[0m\u001b[0mndim\u001b[0m \u001b[1;33m!=\u001b[0m \u001b[1;36m1\u001b[0m\u001b[1;33m:\u001b[0m\u001b[1;33m\u001b[0m\u001b[1;33m\u001b[0m\u001b[0m\n",
      "\u001b[1;32m~\\Anaconda3\\lib\\site-packages\\sklearn\\utils\\validation.py\u001b[0m in \u001b[0;36minner_f\u001b[1;34m(*args, **kwargs)\u001b[0m\n\u001b[0;32m     61\u001b[0m             \u001b[0mextra_args\u001b[0m \u001b[1;33m=\u001b[0m \u001b[0mlen\u001b[0m\u001b[1;33m(\u001b[0m\u001b[0margs\u001b[0m\u001b[1;33m)\u001b[0m \u001b[1;33m-\u001b[0m \u001b[0mlen\u001b[0m\u001b[1;33m(\u001b[0m\u001b[0mall_args\u001b[0m\u001b[1;33m)\u001b[0m\u001b[1;33m\u001b[0m\u001b[1;33m\u001b[0m\u001b[0m\n\u001b[0;32m     62\u001b[0m             \u001b[1;32mif\u001b[0m \u001b[0mextra_args\u001b[0m \u001b[1;33m<=\u001b[0m \u001b[1;36m0\u001b[0m\u001b[1;33m:\u001b[0m\u001b[1;33m\u001b[0m\u001b[1;33m\u001b[0m\u001b[0m\n\u001b[1;32m---> 63\u001b[1;33m                 \u001b[1;32mreturn\u001b[0m \u001b[0mf\u001b[0m\u001b[1;33m(\u001b[0m\u001b[1;33m*\u001b[0m\u001b[0margs\u001b[0m\u001b[1;33m,\u001b[0m \u001b[1;33m**\u001b[0m\u001b[0mkwargs\u001b[0m\u001b[1;33m)\u001b[0m\u001b[1;33m\u001b[0m\u001b[1;33m\u001b[0m\u001b[0m\n\u001b[0m\u001b[0;32m     64\u001b[0m \u001b[1;33m\u001b[0m\u001b[0m\n\u001b[0;32m     65\u001b[0m             \u001b[1;31m# extra_args > 0\u001b[0m\u001b[1;33m\u001b[0m\u001b[1;33m\u001b[0m\u001b[1;33m\u001b[0m\u001b[0m\n",
      "\u001b[1;32m~\\Anaconda3\\lib\\site-packages\\sklearn\\utils\\validation.py\u001b[0m in \u001b[0;36mcheck_array\u001b[1;34m(array, accept_sparse, accept_large_sparse, dtype, order, copy, force_all_finite, ensure_2d, allow_nd, ensure_min_samples, ensure_min_features, estimator)\u001b[0m\n\u001b[0;32m    671\u001b[0m                     \u001b[0marray\u001b[0m \u001b[1;33m=\u001b[0m \u001b[0marray\u001b[0m\u001b[1;33m.\u001b[0m\u001b[0mastype\u001b[0m\u001b[1;33m(\u001b[0m\u001b[0mdtype\u001b[0m\u001b[1;33m,\u001b[0m \u001b[0mcasting\u001b[0m\u001b[1;33m=\u001b[0m\u001b[1;34m\"unsafe\"\u001b[0m\u001b[1;33m,\u001b[0m \u001b[0mcopy\u001b[0m\u001b[1;33m=\u001b[0m\u001b[1;32mFalse\u001b[0m\u001b[1;33m)\u001b[0m\u001b[1;33m\u001b[0m\u001b[1;33m\u001b[0m\u001b[0m\n\u001b[0;32m    672\u001b[0m                 \u001b[1;32melse\u001b[0m\u001b[1;33m:\u001b[0m\u001b[1;33m\u001b[0m\u001b[1;33m\u001b[0m\u001b[0m\n\u001b[1;32m--> 673\u001b[1;33m                     \u001b[0marray\u001b[0m \u001b[1;33m=\u001b[0m \u001b[0mnp\u001b[0m\u001b[1;33m.\u001b[0m\u001b[0masarray\u001b[0m\u001b[1;33m(\u001b[0m\u001b[0marray\u001b[0m\u001b[1;33m,\u001b[0m \u001b[0morder\u001b[0m\u001b[1;33m=\u001b[0m\u001b[0morder\u001b[0m\u001b[1;33m,\u001b[0m \u001b[0mdtype\u001b[0m\u001b[1;33m=\u001b[0m\u001b[0mdtype\u001b[0m\u001b[1;33m)\u001b[0m\u001b[1;33m\u001b[0m\u001b[1;33m\u001b[0m\u001b[0m\n\u001b[0m\u001b[0;32m    674\u001b[0m             \u001b[1;32mexcept\u001b[0m \u001b[0mComplexWarning\u001b[0m \u001b[1;32mas\u001b[0m \u001b[0mcomplex_warning\u001b[0m\u001b[1;33m:\u001b[0m\u001b[1;33m\u001b[0m\u001b[1;33m\u001b[0m\u001b[0m\n\u001b[0;32m    675\u001b[0m                 raise ValueError(\"Complex data not supported\\n\"\n",
      "\u001b[1;32m~\\Anaconda3\\lib\\site-packages\\numpy\\core\\_asarray.py\u001b[0m in \u001b[0;36masarray\u001b[1;34m(a, dtype, order)\u001b[0m\n\u001b[0;32m     81\u001b[0m \u001b[1;33m\u001b[0m\u001b[0m\n\u001b[0;32m     82\u001b[0m     \"\"\"\n\u001b[1;32m---> 83\u001b[1;33m     \u001b[1;32mreturn\u001b[0m \u001b[0marray\u001b[0m\u001b[1;33m(\u001b[0m\u001b[0ma\u001b[0m\u001b[1;33m,\u001b[0m \u001b[0mdtype\u001b[0m\u001b[1;33m,\u001b[0m \u001b[0mcopy\u001b[0m\u001b[1;33m=\u001b[0m\u001b[1;32mFalse\u001b[0m\u001b[1;33m,\u001b[0m \u001b[0morder\u001b[0m\u001b[1;33m=\u001b[0m\u001b[0morder\u001b[0m\u001b[1;33m)\u001b[0m\u001b[1;33m\u001b[0m\u001b[1;33m\u001b[0m\u001b[0m\n\u001b[0m\u001b[0;32m     84\u001b[0m \u001b[1;33m\u001b[0m\u001b[0m\n\u001b[0;32m     85\u001b[0m \u001b[1;33m\u001b[0m\u001b[0m\n",
      "\u001b[1;31mValueError\u001b[0m: could not convert string to float: 'r1wtresp'"
     ]
    }
   ],
   "source": [
    "from sklearn.linear_model import SGDClassifier\n",
    "#sklearn.linear_model.SGDClassifier\n",
    "weightedlogreg=SGDClassifier()\n",
    "weightedlogreg.fit(X_train, y_train,sample_weight='r1wtresp')"
   ]
  },
  {
   "cell_type": "code",
   "execution_count": 129,
   "metadata": {},
   "outputs": [
    {
     "data": {
      "text/html": [
       "<div>\n",
       "<style scoped>\n",
       "    .dataframe tbody tr th:only-of-type {\n",
       "        vertical-align: middle;\n",
       "    }\n",
       "\n",
       "    .dataframe tbody tr th {\n",
       "        vertical-align: top;\n",
       "    }\n",
       "\n",
       "    .dataframe thead th {\n",
       "        text-align: right;\n",
       "    }\n",
       "</style>\n",
       "<table border=\"1\" class=\"dataframe\">\n",
       "  <thead>\n",
       "    <tr style=\"text-align: right;\">\n",
       "      <th></th>\n",
       "      <th>r1diabe_0.no</th>\n",
       "      <th>r1diabe_1.yes</th>\n",
       "      <th>ragender_1.man</th>\n",
       "      <th>ragender_2.woman</th>\n",
       "      <th>hh1rural_0.urban community</th>\n",
       "      <th>hh1rural_1.rural village</th>\n",
       "    </tr>\n",
       "    <tr>\n",
       "      <th>prim_key</th>\n",
       "      <th></th>\n",
       "      <th></th>\n",
       "      <th></th>\n",
       "      <th></th>\n",
       "      <th></th>\n",
       "      <th></th>\n",
       "    </tr>\n",
       "  </thead>\n",
       "  <tbody>\n",
       "    <tr>\n",
       "      <th>101000100040101</th>\n",
       "      <td>1</td>\n",
       "      <td>0</td>\n",
       "      <td>1</td>\n",
       "      <td>0</td>\n",
       "      <td>0</td>\n",
       "      <td>1</td>\n",
       "    </tr>\n",
       "    <tr>\n",
       "      <th>101000100040102</th>\n",
       "      <td>0</td>\n",
       "      <td>1</td>\n",
       "      <td>0</td>\n",
       "      <td>1</td>\n",
       "      <td>0</td>\n",
       "      <td>1</td>\n",
       "    </tr>\n",
       "    <tr>\n",
       "      <th>101000100130102</th>\n",
       "      <td>1</td>\n",
       "      <td>0</td>\n",
       "      <td>0</td>\n",
       "      <td>1</td>\n",
       "      <td>0</td>\n",
       "      <td>1</td>\n",
       "    </tr>\n",
       "    <tr>\n",
       "      <th>101000100130101</th>\n",
       "      <td>1</td>\n",
       "      <td>0</td>\n",
       "      <td>1</td>\n",
       "      <td>0</td>\n",
       "      <td>0</td>\n",
       "      <td>1</td>\n",
       "    </tr>\n",
       "    <tr>\n",
       "      <th>101000100130109</th>\n",
       "      <td>1</td>\n",
       "      <td>0</td>\n",
       "      <td>0</td>\n",
       "      <td>1</td>\n",
       "      <td>0</td>\n",
       "      <td>1</td>\n",
       "    </tr>\n",
       "  </tbody>\n",
       "</table>\n",
       "</div>"
      ],
      "text/plain": [
       "                 r1diabe_0.no  r1diabe_1.yes  ragender_1.man  \\\n",
       "prim_key                                                       \n",
       "101000100040101             1              0               1   \n",
       "101000100040102             0              1               0   \n",
       "101000100130102             1              0               0   \n",
       "101000100130101             1              0               1   \n",
       "101000100130109             1              0               0   \n",
       "\n",
       "                 ragender_2.woman  hh1rural_0.urban community  \\\n",
       "prim_key                                                        \n",
       "101000100040101                 0                           0   \n",
       "101000100040102                 1                           0   \n",
       "101000100130102                 1                           0   \n",
       "101000100130101                 0                           0   \n",
       "101000100130109                 1                           0   \n",
       "\n",
       "                 hh1rural_1.rural village  \n",
       "prim_key                                   \n",
       "101000100040101                         1  \n",
       "101000100040102                         1  \n",
       "101000100130102                         1  \n",
       "101000100130101                         1  \n",
       "101000100130109                         1  "
      ]
     },
     "execution_count": 129,
     "metadata": {},
     "output_type": "execute_result"
    }
   ],
   "source": [
    "df2.head()"
   ]
  },
  {
   "cell_type": "code",
   "execution_count": 117,
   "metadata": {},
   "outputs": [
    {
     "ename": "ImportError",
     "evalue": "cannot import name 'factorial'",
     "output_type": "error",
     "traceback": [
      "\u001b[1;31m---------------------------------------------------------------------------\u001b[0m",
      "\u001b[1;31mImportError\u001b[0m                               Traceback (most recent call last)",
      "\u001b[1;32m<ipython-input-117-fff1059614f7>\u001b[0m in \u001b[0;36m<module>\u001b[1;34m\u001b[0m\n\u001b[0;32m      1\u001b[0m \u001b[1;31m#from scipy.misc import factorial\u001b[0m\u001b[1;33m\u001b[0m\u001b[1;33m\u001b[0m\u001b[1;33m\u001b[0m\u001b[0m\n\u001b[1;32m----> 2\u001b[1;33m \u001b[1;32mimport\u001b[0m \u001b[0mstatsmodels\u001b[0m\u001b[1;33m.\u001b[0m\u001b[0mapi\u001b[0m \u001b[1;32mas\u001b[0m \u001b[0msm\u001b[0m\u001b[1;33m\u001b[0m\u001b[1;33m\u001b[0m\u001b[0m\n\u001b[0m\u001b[0;32m      3\u001b[0m \u001b[0mlogit_model\u001b[0m\u001b[1;33m=\u001b[0m\u001b[0msm\u001b[0m\u001b[1;33m.\u001b[0m\u001b[0mLogit\u001b[0m\u001b[1;33m(\u001b[0m\u001b[0mdf2\u001b[0m\u001b[1;33m.\u001b[0m\u001b[0mr1diabe\u001b[0m\u001b[1;33m,\u001b[0m\u001b[0mdf2\u001b[0m\u001b[1;33m.\u001b[0m\u001b[0mragender\u001b[0m\u001b[1;33m)\u001b[0m\u001b[1;33m\u001b[0m\u001b[1;33m\u001b[0m\u001b[0m\n\u001b[0;32m      4\u001b[0m \u001b[0mresult\u001b[0m\u001b[1;33m=\u001b[0m\u001b[0mlogit_model\u001b[0m\u001b[1;33m.\u001b[0m\u001b[0mfit\u001b[0m\u001b[1;33m(\u001b[0m\u001b[1;33m)\u001b[0m\u001b[1;33m\u001b[0m\u001b[1;33m\u001b[0m\u001b[0m\n\u001b[0;32m      5\u001b[0m \u001b[0mprint\u001b[0m\u001b[1;33m(\u001b[0m\u001b[0mresult\u001b[0m\u001b[1;33m.\u001b[0m\u001b[0msummary2\u001b[0m\u001b[1;33m(\u001b[0m\u001b[1;33m)\u001b[0m\u001b[1;33m)\u001b[0m\u001b[1;33m\u001b[0m\u001b[1;33m\u001b[0m\u001b[0m\n",
      "\u001b[1;32m~\\Anaconda3\\lib\\site-packages\\statsmodels\\api.py\u001b[0m in \u001b[0;36m<module>\u001b[1;34m\u001b[0m\n\u001b[0;32m     14\u001b[0m \u001b[1;32mfrom\u001b[0m \u001b[1;33m.\u001b[0m \u001b[1;32mimport\u001b[0m \u001b[0mrobust\u001b[0m\u001b[1;33m\u001b[0m\u001b[1;33m\u001b[0m\u001b[0m\n\u001b[0;32m     15\u001b[0m \u001b[1;32mfrom\u001b[0m \u001b[1;33m.\u001b[0m\u001b[0mrobust\u001b[0m\u001b[1;33m.\u001b[0m\u001b[0mrobust_linear_model\u001b[0m \u001b[1;32mimport\u001b[0m \u001b[0mRLM\u001b[0m\u001b[1;33m\u001b[0m\u001b[1;33m\u001b[0m\u001b[0m\n\u001b[1;32m---> 16\u001b[1;33m from .discrete.discrete_model import (Poisson, Logit, Probit,\n\u001b[0m\u001b[0;32m     17\u001b[0m                                       \u001b[0mMNLogit\u001b[0m\u001b[1;33m,\u001b[0m \u001b[0mNegativeBinomial\u001b[0m\u001b[1;33m,\u001b[0m\u001b[1;33m\u001b[0m\u001b[1;33m\u001b[0m\u001b[0m\n\u001b[0;32m     18\u001b[0m                                       \u001b[0mGeneralizedPoisson\u001b[0m\u001b[1;33m,\u001b[0m\u001b[1;33m\u001b[0m\u001b[1;33m\u001b[0m\u001b[0m\n",
      "\u001b[1;32m~\\Anaconda3\\lib\\site-packages\\statsmodels\\discrete\\discrete_model.py\u001b[0m in \u001b[0;36m<module>\u001b[1;34m\u001b[0m\n\u001b[0;32m     43\u001b[0m \u001b[1;33m\u001b[0m\u001b[0m\n\u001b[0;32m     44\u001b[0m \u001b[1;32mfrom\u001b[0m \u001b[0mstatsmodels\u001b[0m\u001b[1;33m.\u001b[0m\u001b[0mbase\u001b[0m\u001b[1;33m.\u001b[0m\u001b[0ml1_slsqp\u001b[0m \u001b[1;32mimport\u001b[0m \u001b[0mfit_l1_slsqp\u001b[0m\u001b[1;33m\u001b[0m\u001b[1;33m\u001b[0m\u001b[0m\n\u001b[1;32m---> 45\u001b[1;33m \u001b[1;32mfrom\u001b[0m \u001b[0mstatsmodels\u001b[0m\u001b[1;33m.\u001b[0m\u001b[0mdistributions\u001b[0m \u001b[1;32mimport\u001b[0m \u001b[0mgenpoisson_p\u001b[0m\u001b[1;33m\u001b[0m\u001b[1;33m\u001b[0m\u001b[0m\n\u001b[0m\u001b[0;32m     46\u001b[0m \u001b[1;33m\u001b[0m\u001b[0m\n\u001b[0;32m     47\u001b[0m \u001b[1;32mtry\u001b[0m\u001b[1;33m:\u001b[0m\u001b[1;33m\u001b[0m\u001b[1;33m\u001b[0m\u001b[0m\n",
      "\u001b[1;32m~\\Anaconda3\\lib\\site-packages\\statsmodels\\distributions\\__init__.py\u001b[0m in \u001b[0;36m<module>\u001b[1;34m\u001b[0m\n\u001b[0;32m      1\u001b[0m \u001b[1;32mfrom\u001b[0m \u001b[1;33m.\u001b[0m\u001b[0mempirical_distribution\u001b[0m \u001b[1;32mimport\u001b[0m \u001b[0mECDF\u001b[0m\u001b[1;33m,\u001b[0m \u001b[0mmonotone_fn_inverter\u001b[0m\u001b[1;33m,\u001b[0m \u001b[0mStepFunction\u001b[0m\u001b[1;33m\u001b[0m\u001b[1;33m\u001b[0m\u001b[0m\n\u001b[1;32m----> 2\u001b[1;33m \u001b[1;32mfrom\u001b[0m \u001b[1;33m.\u001b[0m\u001b[0medgeworth\u001b[0m \u001b[1;32mimport\u001b[0m \u001b[0mExpandedNormal\u001b[0m\u001b[1;33m\u001b[0m\u001b[1;33m\u001b[0m\u001b[0m\n\u001b[0m\u001b[0;32m      3\u001b[0m \u001b[1;32mfrom\u001b[0m \u001b[1;33m.\u001b[0m\u001b[0mdiscrete\u001b[0m \u001b[1;32mimport\u001b[0m \u001b[0mgenpoisson_p\u001b[0m\u001b[1;33m,\u001b[0m \u001b[0mzipoisson\u001b[0m\u001b[1;33m,\u001b[0m \u001b[0mzigenpoisson\u001b[0m\u001b[1;33m,\u001b[0m \u001b[0mzinegbin\u001b[0m\u001b[1;33m\u001b[0m\u001b[1;33m\u001b[0m\u001b[0m\n",
      "\u001b[1;32m~\\Anaconda3\\lib\\site-packages\\statsmodels\\distributions\\edgeworth.py\u001b[0m in \u001b[0;36m<module>\u001b[1;34m\u001b[0m\n\u001b[0;32m      5\u001b[0m \u001b[1;32mimport\u001b[0m \u001b[0mnumpy\u001b[0m \u001b[1;32mas\u001b[0m \u001b[0mnp\u001b[0m\u001b[1;33m\u001b[0m\u001b[1;33m\u001b[0m\u001b[0m\n\u001b[0;32m      6\u001b[0m \u001b[1;32mfrom\u001b[0m \u001b[0mnumpy\u001b[0m\u001b[1;33m.\u001b[0m\u001b[0mpolynomial\u001b[0m\u001b[1;33m.\u001b[0m\u001b[0mhermite_e\u001b[0m \u001b[1;32mimport\u001b[0m \u001b[0mHermiteE\u001b[0m\u001b[1;33m\u001b[0m\u001b[1;33m\u001b[0m\u001b[0m\n\u001b[1;32m----> 7\u001b[1;33m \u001b[1;32mfrom\u001b[0m \u001b[0mscipy\u001b[0m\u001b[1;33m.\u001b[0m\u001b[0mmisc\u001b[0m \u001b[1;32mimport\u001b[0m \u001b[0mfactorial\u001b[0m\u001b[1;33m\u001b[0m\u001b[1;33m\u001b[0m\u001b[0m\n\u001b[0m\u001b[0;32m      8\u001b[0m \u001b[1;32mfrom\u001b[0m \u001b[0mscipy\u001b[0m\u001b[1;33m.\u001b[0m\u001b[0mstats\u001b[0m \u001b[1;32mimport\u001b[0m \u001b[0mrv_continuous\u001b[0m\u001b[1;33m\u001b[0m\u001b[1;33m\u001b[0m\u001b[0m\n\u001b[0;32m      9\u001b[0m \u001b[1;32mimport\u001b[0m \u001b[0mscipy\u001b[0m\u001b[1;33m.\u001b[0m\u001b[0mspecial\u001b[0m \u001b[1;32mas\u001b[0m \u001b[0mspecial\u001b[0m\u001b[1;33m\u001b[0m\u001b[1;33m\u001b[0m\u001b[0m\n",
      "\u001b[1;31mImportError\u001b[0m: cannot import name 'factorial'"
     ]
    }
   ],
   "source": [
    "#from scipy.misc import factorial\n",
    "import statsmodels.api as sm\n",
    "logit_model=sm.Logit(df2.r1diabe,df2.ragender)\n",
    "result=logit_model.fit()\n",
    "print(result.summary2())"
   ]
  },
  {
   "cell_type": "code",
   "execution_count": 118,
   "metadata": {},
   "outputs": [],
   "source": [
    "from sklearn.linear_model import LogisticRegression"
   ]
  },
  {
   "cell_type": "code",
   "execution_count": 122,
   "metadata": {},
   "outputs": [
    {
     "name": "stderr",
     "output_type": "stream",
     "text": [
      "C:\\Users\\Kirti\\Anaconda3\\lib\\site-packages\\sklearn\\linear_model\\_logistic.py:765: ConvergenceWarning: lbfgs failed to converge (status=1):\n",
      "STOP: TOTAL NO. of ITERATIONS REACHED LIMIT.\n",
      "\n",
      "Increase the number of iterations (max_iter) or scale the data as shown in:\n",
      "    https://scikit-learn.org/stable/modules/preprocessing.html\n",
      "Please also refer to the documentation for alternative solver options:\n",
      "    https://scikit-learn.org/stable/modules/linear_model.html#logistic-regression\n",
      "  extra_warning_msg=_LOGISTIC_SOLVER_CONVERGENCE_MSG)\n"
     ]
    },
    {
     "ename": "NameError",
     "evalue": "name 'array' is not defined",
     "output_type": "error",
     "traceback": [
      "\u001b[1;31m---------------------------------------------------------------------------\u001b[0m",
      "\u001b[1;31mNameError\u001b[0m                                 Traceback (most recent call last)",
      "\u001b[1;32m<ipython-input-122-846808d1e9be>\u001b[0m in \u001b[0;36m<module>\u001b[1;34m\u001b[0m\n\u001b[0;32m      3\u001b[0m \u001b[0mclf\u001b[0m \u001b[1;33m=\u001b[0m \u001b[0mLogisticRegression\u001b[0m\u001b[1;33m(\u001b[0m\u001b[0mrandom_state\u001b[0m\u001b[1;33m=\u001b[0m\u001b[1;36m0\u001b[0m\u001b[1;33m)\u001b[0m\u001b[1;33m.\u001b[0m\u001b[0mfit\u001b[0m\u001b[1;33m(\u001b[0m\u001b[0mX\u001b[0m\u001b[1;33m,\u001b[0m \u001b[0my\u001b[0m\u001b[1;33m)\u001b[0m\u001b[1;33m\u001b[0m\u001b[1;33m\u001b[0m\u001b[0m\n\u001b[0;32m      4\u001b[0m \u001b[0mclf\u001b[0m\u001b[1;33m.\u001b[0m\u001b[0mpredict\u001b[0m\u001b[1;33m(\u001b[0m\u001b[0mX\u001b[0m\u001b[1;33m[\u001b[0m\u001b[1;33m:\u001b[0m\u001b[1;36m2\u001b[0m\u001b[1;33m,\u001b[0m \u001b[1;33m:\u001b[0m\u001b[1;33m]\u001b[0m\u001b[1;33m)\u001b[0m\u001b[1;33m\u001b[0m\u001b[1;33m\u001b[0m\u001b[0m\n\u001b[1;32m----> 5\u001b[1;33m \u001b[0marray\u001b[0m\u001b[1;33m(\u001b[0m\u001b[1;33m[\u001b[0m\u001b[1;36m0\u001b[0m\u001b[1;33m,\u001b[0m \u001b[1;36m0\u001b[0m\u001b[1;33m]\u001b[0m\u001b[1;33m)\u001b[0m\u001b[1;33m\u001b[0m\u001b[1;33m\u001b[0m\u001b[0m\n\u001b[0m\u001b[0;32m      6\u001b[0m \u001b[0mclf\u001b[0m\u001b[1;33m.\u001b[0m\u001b[0mpredict_proba\u001b[0m\u001b[1;33m(\u001b[0m\u001b[0mX\u001b[0m\u001b[1;33m[\u001b[0m\u001b[1;33m:\u001b[0m\u001b[1;36m2\u001b[0m\u001b[1;33m,\u001b[0m \u001b[1;33m:\u001b[0m\u001b[1;33m]\u001b[0m\u001b[1;33m)\u001b[0m\u001b[1;33m\u001b[0m\u001b[1;33m\u001b[0m\u001b[0m\n\u001b[0;32m      7\u001b[0m \u001b[0mclf\u001b[0m\u001b[1;33m.\u001b[0m\u001b[0mscore\u001b[0m\u001b[1;33m(\u001b[0m\u001b[0mX\u001b[0m\u001b[1;33m,\u001b[0m \u001b[0my\u001b[0m\u001b[1;33m)\u001b[0m\u001b[1;33m\u001b[0m\u001b[1;33m\u001b[0m\u001b[0m\n",
      "\u001b[1;31mNameError\u001b[0m: name 'array' is not defined"
     ]
    }
   ],
   "source": [
    "from sklearn.datasets import load_iris\n",
    "X, y = load_iris(return_X_y=True)\n",
    "clf = LogisticRegression(random_state=0).fit(X, y)\n",
    "clf.predict(X[:2, :])\n",
    "array([0, 0])\n",
    "clf.predict_proba(X[:2, :])\n",
    "clf.score(X, y)"
   ]
  },
  {
   "cell_type": "code",
   "execution_count": 197,
   "metadata": {},
   "outputs": [],
   "source": [
    "import numpy as np\n",
    "from numpy import average\n",
    "#weighted analysis\n",
    "weighted_avg_age = round(average( df1['r1agey'], weights = df1['r1wtresp']),2)"
   ]
  },
  {
   "cell_type": "code",
   "execution_count": 198,
   "metadata": {},
   "outputs": [
    {
     "data": {
      "text/plain": [
       "57.95"
      ]
     },
     "execution_count": 198,
     "metadata": {},
     "output_type": "execute_result"
    }
   ],
   "source": [
    "weighted_avg_age"
   ]
  },
  {
   "cell_type": "code",
   "execution_count": 200,
   "metadata": {},
   "outputs": [
    {
     "ename": "AttributeError",
     "evalue": "'DataFrame' object has no attribute 'crosstab'",
     "output_type": "error",
     "traceback": [
      "\u001b[1;31m---------------------------------------------------------------------------\u001b[0m",
      "\u001b[1;31mAttributeError\u001b[0m                            Traceback (most recent call last)",
      "\u001b[1;32m<ipython-input-200-624d2a937ca6>\u001b[0m in \u001b[0;36m<module>\u001b[1;34m\u001b[0m\n\u001b[1;32m----> 1\u001b[1;33m \u001b[0mdf1\u001b[0m\u001b[1;33m.\u001b[0m\u001b[0mcrosstab\u001b[0m\u001b[1;33m(\u001b[0m\u001b[0mx\u001b[0m\u001b[1;33m=\u001b[0m\u001b[1;34m'ragender'\u001b[0m\u001b[1;33m,\u001b[0m \u001b[0my\u001b[0m\u001b[1;33m=\u001b[0m\u001b[1;34m'hh1rural'\u001b[0m\u001b[1;33m,\u001b[0m \u001b[0mw\u001b[0m\u001b[1;33m=\u001b[0m\u001b[1;34m'r1wtresp'\u001b[0m\u001b[1;33m,\u001b[0m \u001b[0mpct\u001b[0m\u001b[1;33m=\u001b[0m\u001b[1;32mTrue\u001b[0m\u001b[1;33m)\u001b[0m\u001b[1;33m\u001b[0m\u001b[1;33m\u001b[0m\u001b[0m\n\u001b[0m",
      "\u001b[1;32m~\\Anaconda3\\lib\\site-packages\\pandas\\core\\generic.py\u001b[0m in \u001b[0;36m__getattr__\u001b[1;34m(self, name)\u001b[0m\n\u001b[0;32m   5139\u001b[0m             \u001b[1;32mif\u001b[0m \u001b[0mself\u001b[0m\u001b[1;33m.\u001b[0m\u001b[0m_info_axis\u001b[0m\u001b[1;33m.\u001b[0m\u001b[0m_can_hold_identifiers_and_holds_name\u001b[0m\u001b[1;33m(\u001b[0m\u001b[0mname\u001b[0m\u001b[1;33m)\u001b[0m\u001b[1;33m:\u001b[0m\u001b[1;33m\u001b[0m\u001b[1;33m\u001b[0m\u001b[0m\n\u001b[0;32m   5140\u001b[0m                 \u001b[1;32mreturn\u001b[0m \u001b[0mself\u001b[0m\u001b[1;33m[\u001b[0m\u001b[0mname\u001b[0m\u001b[1;33m]\u001b[0m\u001b[1;33m\u001b[0m\u001b[1;33m\u001b[0m\u001b[0m\n\u001b[1;32m-> 5141\u001b[1;33m             \u001b[1;32mreturn\u001b[0m \u001b[0mobject\u001b[0m\u001b[1;33m.\u001b[0m\u001b[0m__getattribute__\u001b[0m\u001b[1;33m(\u001b[0m\u001b[0mself\u001b[0m\u001b[1;33m,\u001b[0m \u001b[0mname\u001b[0m\u001b[1;33m)\u001b[0m\u001b[1;33m\u001b[0m\u001b[1;33m\u001b[0m\u001b[0m\n\u001b[0m\u001b[0;32m   5142\u001b[0m \u001b[1;33m\u001b[0m\u001b[0m\n\u001b[0;32m   5143\u001b[0m     \u001b[1;32mdef\u001b[0m \u001b[0m__setattr__\u001b[0m\u001b[1;33m(\u001b[0m\u001b[0mself\u001b[0m\u001b[1;33m,\u001b[0m \u001b[0mname\u001b[0m\u001b[1;33m:\u001b[0m \u001b[0mstr\u001b[0m\u001b[1;33m,\u001b[0m \u001b[0mvalue\u001b[0m\u001b[1;33m)\u001b[0m \u001b[1;33m->\u001b[0m \u001b[1;32mNone\u001b[0m\u001b[1;33m:\u001b[0m\u001b[1;33m\u001b[0m\u001b[1;33m\u001b[0m\u001b[0m\n",
      "\u001b[1;31mAttributeError\u001b[0m: 'DataFrame' object has no attribute 'crosstab'"
     ]
    }
   ],
   "source": [
    "df1.crosstab(x='ragender', y='hh1rural', w='r1wtresp', pct=True)"
   ]
  },
  {
   "cell_type": "code",
   "execution_count": 203,
   "metadata": {},
   "outputs": [
    {
     "name": "stdout",
     "output_type": "stream",
     "text": [
      "Collecting package metadata (repodata.json): ...working... done\n",
      "Solving environment: ...working... failed with initial frozen solve. Retrying with flexible solve.\n"
     ]
    },
    {
     "name": "stderr",
     "output_type": "stream",
     "text": [
      "\n",
      "PackagesNotFoundError: The following packages are not available from current channels:\n",
      "\n",
      "  - quantipy\n",
      "\n",
      "Current channels:\n",
      "\n",
      "  - https://repo.anaconda.com/pkgs/main/win-64\n",
      "  - https://repo.anaconda.com/pkgs/main/noarch\n",
      "  - https://repo.anaconda.com/pkgs/r/win-64\n",
      "  - https://repo.anaconda.com/pkgs/r/noarch\n",
      "  - https://repo.anaconda.com/pkgs/msys2/win-64\n",
      "  - https://repo.anaconda.com/pkgs/msys2/noarch\n",
      "\n",
      "To search for alternate channels that may provide the conda package you're\n",
      "looking for, navigate to\n",
      "\n",
      "    https://anaconda.org\n",
      "\n",
      "and use the search bar at the top of the page.\n",
      "\n",
      "\n"
     ]
    }
   ],
   "source": [
    "import sys\n",
    "!conda install --yes --prefix {sys.prefix} Quantipy\n",
    "#import Quantipy"
   ]
  },
  {
   "cell_type": "code",
   "execution_count": 256,
   "metadata": {},
   "outputs": [
    {
     "data": {
      "text/plain": [
       "5.hardly ever or never          43224\n",
       "1.everyday                      17207\n",
       "2.more than once a week          5003\n",
       "4.one to three times a month     3584\n",
       "3.once a week                    2599\n",
       "Name: r1vgactx, dtype: int64"
      ]
     },
     "execution_count": 256,
     "metadata": {},
     "output_type": "execute_result"
    }
   ],
   "source": [
    "df1['r1vgactx'].value_counts()"
   ]
  },
  {
   "cell_type": "code",
   "execution_count": 260,
   "metadata": {},
   "outputs": [
    {
     "data": {
      "text/plain": [
       "5.hardly ever or never          59.82\n",
       "1.everyday                      23.81\n",
       "2.more than once a week          6.92\n",
       "4.one to three times a month     4.96\n",
       "3.once a week                    3.60\n",
       "Name: r1vgactx, dtype: float64"
      ]
     },
     "execution_count": 260,
     "metadata": {},
     "output_type": "execute_result"
    }
   ],
   "source": [
    "round(df1['r1vgactx'].value_counts()/len(df1)*100,2)"
   ]
  },
  {
   "cell_type": "code",
   "execution_count": 261,
   "metadata": {
    "scrolled": true
   },
   "outputs": [
    {
     "data": {
      "text/html": [
       "<div>\n",
       "<style scoped>\n",
       "    .dataframe tbody tr th:only-of-type {\n",
       "        vertical-align: middle;\n",
       "    }\n",
       "\n",
       "    .dataframe tbody tr th {\n",
       "        vertical-align: top;\n",
       "    }\n",
       "\n",
       "    .dataframe thead th {\n",
       "        text-align: right;\n",
       "    }\n",
       "</style>\n",
       "<table border=\"1\" class=\"dataframe\">\n",
       "  <thead>\n",
       "    <tr style=\"text-align: right;\">\n",
       "      <th>ragender</th>\n",
       "      <th>1.man</th>\n",
       "      <th>2.woman</th>\n",
       "    </tr>\n",
       "    <tr>\n",
       "      <th>r1vgactx</th>\n",
       "      <th></th>\n",
       "      <th></th>\n",
       "    </tr>\n",
       "  </thead>\n",
       "  <tbody>\n",
       "    <tr>\n",
       "      <th>1.everyday</th>\n",
       "      <td>55.0</td>\n",
       "      <td>45.0</td>\n",
       "    </tr>\n",
       "    <tr>\n",
       "      <th>2.more than once a week</th>\n",
       "      <td>52.0</td>\n",
       "      <td>48.0</td>\n",
       "    </tr>\n",
       "    <tr>\n",
       "      <th>3.once a week</th>\n",
       "      <td>49.0</td>\n",
       "      <td>51.0</td>\n",
       "    </tr>\n",
       "    <tr>\n",
       "      <th>4.one to three times a month</th>\n",
       "      <td>45.0</td>\n",
       "      <td>55.0</td>\n",
       "    </tr>\n",
       "    <tr>\n",
       "      <th>5.hardly ever or never</th>\n",
       "      <td>35.0</td>\n",
       "      <td>65.0</td>\n",
       "    </tr>\n",
       "  </tbody>\n",
       "</table>\n",
       "</div>"
      ],
      "text/plain": [
       "ragender                      1.man  2.woman\n",
       "r1vgactx                                    \n",
       "1.everyday                     55.0     45.0\n",
       "2.more than once a week        52.0     48.0\n",
       "3.once a week                  49.0     51.0\n",
       "4.one to three times a month   45.0     55.0\n",
       "5.hardly ever or never         35.0     65.0"
      ]
     },
     "execution_count": 261,
     "metadata": {},
     "output_type": "execute_result"
    }
   ],
   "source": [
    "pd.crosstab(df1.r1vgactx,df1.ragender, normalize='index')\\\n",
    "    .round(2)*100"
   ]
  },
  {
   "cell_type": "code",
   "execution_count": 265,
   "metadata": {},
   "outputs": [
    {
     "data": {
      "text/plain": [
       "<seaborn.axisgrid.FacetGrid at 0x1f392672828>"
      ]
     },
     "execution_count": 265,
     "metadata": {},
     "output_type": "execute_result"
    },
    {
     "data": {
      "image/png": "[encoded data removed]",
      "text/plain": [
       "<Figure size 360x360 with 1 Axes>"
      ]
     },
     "metadata": {
      "needs_background": "light"
     },
     "output_type": "display_data"
    }
   ],
   "source": [
    "import seaborn as sns\n",
    "sns.catplot(x='r1vgactx',y='r1agey',data=df1)\n",
    "\n",
    "hue=\"kind\"\n",
    "\n",
    "#pd.crosstab(df1.r1vgactx,df1.r1agey, normalize='index')\\ .round(2)*100"
   ]
  },
  {
   "cell_type": "code",
   "execution_count": 267,
   "metadata": {},
   "outputs": [
    {
     "data": {
      "text/plain": [
       "<seaborn.axisgrid.FacetGrid at 0x1f3927929b0>"
      ]
     },
     "execution_count": 267,
     "metadata": {},
     "output_type": "execute_result"
    },
    {
     "data": {
      "image/png": "[encoded data removed]",
      "text/plain": [
       "<Figure size 441.875x360 with 1 Axes>"
      ]
     },
     "metadata": {
      "needs_background": "light"
     },
     "output_type": "display_data"
    }
   ],
   "source": [
    "sns.catplot(x='r1vgactx',y='r1agey',hue='ragender',data=df1)"
   ]
  },
  {
   "cell_type": "code",
   "execution_count": 268,
   "metadata": {},
   "outputs": [
    {
     "data": {
      "text/plain": [
       "<seaborn.axisgrid.FacetGrid at 0x1f39277b240>"
      ]
     },
     "execution_count": 268,
     "metadata": {},
     "output_type": "execute_result"
    },
    {
     "data": {
      "image/png": "[encoded data removed]",
      "text/plain": [
       "<Figure size 441.875x360 with 1 Axes>"
      ]
     },
     "metadata": {
      "needs_background": "light"
     },
     "output_type": "display_data"
    }
   ],
   "source": [
    "sns.catplot(x='r1vgactx',y='r1agey',hue='ragender',data=df1,kind=\"violin\")"
   ]
  },
  {
   "cell_type": "code",
   "execution_count": 269,
   "metadata": {},
   "outputs": [
    {
     "data": {
      "text/plain": [
       "<seaborn.axisgrid.FacetGrid at 0x1f392812400>"
      ]
     },
     "execution_count": 269,
     "metadata": {},
     "output_type": "execute_result"
    },
    {
     "data": {
      "image/png": "[encoded data removed]",
      "text/plain": [
       "<Figure size 801.875x360 with 2 Axes>"
      ]
     },
     "metadata": {
      "needs_background": "light"
     },
     "output_type": "display_data"
    }
   ],
   "source": [
    "sns.catplot(x='r1vgactx',y='r1agey',hue='ragender',data=df1,kind=\"violin\",col=\"hh1rural\")"
   ]
  },
  {
   "cell_type": "code",
   "execution_count": 275,
   "metadata": {},
   "outputs": [
    {
     "data": {
      "image/png": "[encoded data removed]",
      "text/plain": [
       "<Figure size 801.875x360 with 2 Axes>"
      ]
     },
     "metadata": {
      "needs_background": "light"
     },
     "output_type": "display_data"
    }
   ],
   "source": [
    "ax=sns.catplot(x='r1vgactx',y='r1agey',hue='ragender',data=df1,kind=\"violin\",col=\"hh1rural\")\n",
    "ax.set(xlabel='physical activity', ylabel='Age in years',title='Physical activity with age,sex and residence')\n",
    "plt.xticks(fontsize=8, rotation=90)\n",
    "plt.show()"
   ]
  },
  {
   "cell_type": "code",
   "execution_count": 277,
   "metadata": {},
   "outputs": [
    {
     "data": {
      "text/plain": [
       "<seaborn.axisgrid.FacetGrid at 0x1f458cf1208>"
      ]
     },
     "execution_count": 277,
     "metadata": {},
     "output_type": "execute_result"
    },
    {
     "data": {
      "image/png": "[encoded data removed]",
      "text/plain": [
       "<Figure size 801.875x360 with 2 Axes>"
      ]
     },
     "metadata": {
      "needs_background": "light"
     },
     "output_type": "display_data"
    }
   ],
   "source": [
    "sns.catplot(x='r1vgactx',y='r1agey',hue='ragender',data=df1,kind=\"box\",col=\"hh1rural\")"
   ]
  },
  {
   "cell_type": "code",
   "execution_count": null,
   "metadata": {},
   "outputs": [],
   "source": []
  }
 ],
 "metadata": {
  "kernelspec": {
   "display_name": "Python 3",
   "language": "python",
   "name": "python3"
  },
  "language_info": {
   "codemirror_mode": {
    "name": "ipython",
    "version": 3
   },
   "file_extension": ".py",
   "mimetype": "text/x-python",
   "name": "python",
   "nbconvert_exporter": "python",
   "pygments_lexer": "ipython3",
   "version": "3.6.8"
  }
 },
 "nbformat": 4,
 "nbformat_minor": 2
}
